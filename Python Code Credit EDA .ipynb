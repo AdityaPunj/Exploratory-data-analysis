{
 "cells": [
  {
   "cell_type": "markdown",
   "id": "3e1d58c2",
   "metadata": {},
   "source": [
    "#### Importing the libraries"
   ]
  },
  {
   "cell_type": "code",
   "execution_count": 1,
   "id": "f91f666d",
   "metadata": {},
   "outputs": [],
   "source": [
    "import warnings\n",
    "warnings.filterwarnings(\"ignore\")"
   ]
  },
  {
   "cell_type": "code",
   "execution_count": 2,
   "id": "343f5c80",
   "metadata": {},
   "outputs": [],
   "source": [
    "import pandas as pd\n",
    "import numpy as np\n",
    "import matplotlib.pyplot as plt\n",
    "import seaborn as sns\n",
    "%matplotlib inline"
   ]
  },
  {
   "cell_type": "markdown",
   "id": "5c68cdbc",
   "metadata": {},
   "source": [
    "**Importing the data**"
   ]
  },
  {
   "cell_type": "code",
   "execution_count": 3,
   "id": "40ec976c",
   "metadata": {},
   "outputs": [],
   "source": [
    "client_appl = pd.read_csv(\"application_data.csv\")\n",
    "prev_loan = pd.read_csv(\"previous_application.csv\")"
   ]
  },
  {
   "cell_type": "markdown",
   "id": "0ee3bc73",
   "metadata": {},
   "source": [
    "### for application_data"
   ]
  },
  {
   "cell_type": "code",
   "execution_count": 4,
   "id": "4a1fe293",
   "metadata": {},
   "outputs": [
    {
     "data": {
      "text/plain": [
       "(307511, 122)"
      ]
     },
     "execution_count": 4,
     "metadata": {},
     "output_type": "execute_result"
    }
   ],
   "source": [
    "# checking the shape and info about the data\n",
    "client_appl.shape   # 307511 rows and 122 columns"
   ]
  },
  {
   "cell_type": "code",
   "execution_count": 5,
   "id": "44d1115d",
   "metadata": {},
   "outputs": [],
   "source": [
    "# there are 122 columns so that full columns will not be visible so applying\n",
    "pd.set_option(\"display.max_columns\",150)"
   ]
  },
  {
   "cell_type": "code",
   "execution_count": 6,
   "id": "2c6a7f20",
   "metadata": {},
   "outputs": [],
   "source": [
    "pd.set_option(\"display.max_rows\",150)"
   ]
  },
  {
   "cell_type": "code",
   "execution_count": 7,
   "id": "8115f6ba",
   "metadata": {},
   "outputs": [
    {
     "data": {
      "text/plain": [
       "0"
      ]
     },
     "execution_count": 7,
     "metadata": {},
     "output_type": "execute_result"
    }
   ],
   "source": [
    "# checking the data is having duplicated rows or not\n",
    "client_appl.duplicated().sum()  # there is no duplicate data"
   ]
  },
  {
   "cell_type": "code",
   "execution_count": 8,
   "id": "3c7149ea",
   "metadata": {
    "scrolled": true
   },
   "outputs": [
    {
     "name": "stdout",
     "output_type": "stream",
     "text": [
      "<class 'pandas.core.frame.DataFrame'>\n",
      "RangeIndex: 307511 entries, 0 to 307510\n",
      "Columns: 122 entries, SK_ID_CURR to AMT_REQ_CREDIT_BUREAU_YEAR\n",
      "dtypes: float64(65), int64(41), object(16)\n",
      "memory usage: 286.2+ MB\n"
     ]
    }
   ],
   "source": [
    "client_appl.info()"
   ]
  },
  {
   "cell_type": "code",
   "execution_count": 9,
   "id": "9ce2d938",
   "metadata": {},
   "outputs": [
    {
     "name": "stdout",
     "output_type": "stream",
     "text": [
      "<class 'pandas.core.frame.DataFrame'>\n",
      "RangeIndex: 307511 entries, 0 to 307510\n",
      "Data columns (total 122 columns):\n",
      " #    Column                        Non-Null Count   Dtype  \n",
      "---   ------                        --------------   -----  \n",
      " 0    SK_ID_CURR                    307511 non-null  int64  \n",
      " 1    TARGET                        307511 non-null  int64  \n",
      " 2    NAME_CONTRACT_TYPE            307511 non-null  object \n",
      " 3    CODE_GENDER                   307511 non-null  object \n",
      " 4    FLAG_OWN_CAR                  307511 non-null  object \n",
      " 5    FLAG_OWN_REALTY               307511 non-null  object \n",
      " 6    CNT_CHILDREN                  307511 non-null  int64  \n",
      " 7    AMT_INCOME_TOTAL              307511 non-null  float64\n",
      " 8    AMT_CREDIT                    307511 non-null  float64\n",
      " 9    AMT_ANNUITY                   307499 non-null  float64\n",
      " 10   AMT_GOODS_PRICE               307233 non-null  float64\n",
      " 11   NAME_TYPE_SUITE               306219 non-null  object \n",
      " 12   NAME_INCOME_TYPE              307511 non-null  object \n",
      " 13   NAME_EDUCATION_TYPE           307511 non-null  object \n",
      " 14   NAME_FAMILY_STATUS            307511 non-null  object \n",
      " 15   NAME_HOUSING_TYPE             307511 non-null  object \n",
      " 16   REGION_POPULATION_RELATIVE    307511 non-null  float64\n",
      " 17   DAYS_BIRTH                    307511 non-null  int64  \n",
      " 18   DAYS_EMPLOYED                 307511 non-null  int64  \n",
      " 19   DAYS_REGISTRATION             307511 non-null  float64\n",
      " 20   DAYS_ID_PUBLISH               307511 non-null  int64  \n",
      " 21   OWN_CAR_AGE                   104582 non-null  float64\n",
      " 22   FLAG_MOBIL                    307511 non-null  int64  \n",
      " 23   FLAG_EMP_PHONE                307511 non-null  int64  \n",
      " 24   FLAG_WORK_PHONE               307511 non-null  int64  \n",
      " 25   FLAG_CONT_MOBILE              307511 non-null  int64  \n",
      " 26   FLAG_PHONE                    307511 non-null  int64  \n",
      " 27   FLAG_EMAIL                    307511 non-null  int64  \n",
      " 28   OCCUPATION_TYPE               211120 non-null  object \n",
      " 29   CNT_FAM_MEMBERS               307509 non-null  float64\n",
      " 30   REGION_RATING_CLIENT          307511 non-null  int64  \n",
      " 31   REGION_RATING_CLIENT_W_CITY   307511 non-null  int64  \n",
      " 32   WEEKDAY_APPR_PROCESS_START    307511 non-null  object \n",
      " 33   HOUR_APPR_PROCESS_START       307511 non-null  int64  \n",
      " 34   REG_REGION_NOT_LIVE_REGION    307511 non-null  int64  \n",
      " 35   REG_REGION_NOT_WORK_REGION    307511 non-null  int64  \n",
      " 36   LIVE_REGION_NOT_WORK_REGION   307511 non-null  int64  \n",
      " 37   REG_CITY_NOT_LIVE_CITY        307511 non-null  int64  \n",
      " 38   REG_CITY_NOT_WORK_CITY        307511 non-null  int64  \n",
      " 39   LIVE_CITY_NOT_WORK_CITY       307511 non-null  int64  \n",
      " 40   ORGANIZATION_TYPE             307511 non-null  object \n",
      " 41   EXT_SOURCE_1                  134133 non-null  float64\n",
      " 42   EXT_SOURCE_2                  306851 non-null  float64\n",
      " 43   EXT_SOURCE_3                  246546 non-null  float64\n",
      " 44   APARTMENTS_AVG                151450 non-null  float64\n",
      " 45   BASEMENTAREA_AVG              127568 non-null  float64\n",
      " 46   YEARS_BEGINEXPLUATATION_AVG   157504 non-null  float64\n",
      " 47   YEARS_BUILD_AVG               103023 non-null  float64\n",
      " 48   COMMONAREA_AVG                92646 non-null   float64\n",
      " 49   ELEVATORS_AVG                 143620 non-null  float64\n",
      " 50   ENTRANCES_AVG                 152683 non-null  float64\n",
      " 51   FLOORSMAX_AVG                 154491 non-null  float64\n",
      " 52   FLOORSMIN_AVG                 98869 non-null   float64\n",
      " 53   LANDAREA_AVG                  124921 non-null  float64\n",
      " 54   LIVINGAPARTMENTS_AVG          97312 non-null   float64\n",
      " 55   LIVINGAREA_AVG                153161 non-null  float64\n",
      " 56   NONLIVINGAPARTMENTS_AVG       93997 non-null   float64\n",
      " 57   NONLIVINGAREA_AVG             137829 non-null  float64\n",
      " 58   APARTMENTS_MODE               151450 non-null  float64\n",
      " 59   BASEMENTAREA_MODE             127568 non-null  float64\n",
      " 60   YEARS_BEGINEXPLUATATION_MODE  157504 non-null  float64\n",
      " 61   YEARS_BUILD_MODE              103023 non-null  float64\n",
      " 62   COMMONAREA_MODE               92646 non-null   float64\n",
      " 63   ELEVATORS_MODE                143620 non-null  float64\n",
      " 64   ENTRANCES_MODE                152683 non-null  float64\n",
      " 65   FLOORSMAX_MODE                154491 non-null  float64\n",
      " 66   FLOORSMIN_MODE                98869 non-null   float64\n",
      " 67   LANDAREA_MODE                 124921 non-null  float64\n",
      " 68   LIVINGAPARTMENTS_MODE         97312 non-null   float64\n",
      " 69   LIVINGAREA_MODE               153161 non-null  float64\n",
      " 70   NONLIVINGAPARTMENTS_MODE      93997 non-null   float64\n",
      " 71   NONLIVINGAREA_MODE            137829 non-null  float64\n",
      " 72   APARTMENTS_MEDI               151450 non-null  float64\n",
      " 73   BASEMENTAREA_MEDI             127568 non-null  float64\n",
      " 74   YEARS_BEGINEXPLUATATION_MEDI  157504 non-null  float64\n",
      " 75   YEARS_BUILD_MEDI              103023 non-null  float64\n",
      " 76   COMMONAREA_MEDI               92646 non-null   float64\n",
      " 77   ELEVATORS_MEDI                143620 non-null  float64\n",
      " 78   ENTRANCES_MEDI                152683 non-null  float64\n",
      " 79   FLOORSMAX_MEDI                154491 non-null  float64\n",
      " 80   FLOORSMIN_MEDI                98869 non-null   float64\n",
      " 81   LANDAREA_MEDI                 124921 non-null  float64\n",
      " 82   LIVINGAPARTMENTS_MEDI         97312 non-null   float64\n",
      " 83   LIVINGAREA_MEDI               153161 non-null  float64\n",
      " 84   NONLIVINGAPARTMENTS_MEDI      93997 non-null   float64\n",
      " 85   NONLIVINGAREA_MEDI            137829 non-null  float64\n",
      " 86   FONDKAPREMONT_MODE            97216 non-null   object \n",
      " 87   HOUSETYPE_MODE                153214 non-null  object \n",
      " 88   TOTALAREA_MODE                159080 non-null  float64\n",
      " 89   WALLSMATERIAL_MODE            151170 non-null  object \n",
      " 90   EMERGENCYSTATE_MODE           161756 non-null  object \n",
      " 91   OBS_30_CNT_SOCIAL_CIRCLE      306490 non-null  float64\n",
      " 92   DEF_30_CNT_SOCIAL_CIRCLE      306490 non-null  float64\n",
      " 93   OBS_60_CNT_SOCIAL_CIRCLE      306490 non-null  float64\n",
      " 94   DEF_60_CNT_SOCIAL_CIRCLE      306490 non-null  float64\n",
      " 95   DAYS_LAST_PHONE_CHANGE        307510 non-null  float64\n",
      " 96   FLAG_DOCUMENT_2               307511 non-null  int64  \n",
      " 97   FLAG_DOCUMENT_3               307511 non-null  int64  \n",
      " 98   FLAG_DOCUMENT_4               307511 non-null  int64  \n",
      " 99   FLAG_DOCUMENT_5               307511 non-null  int64  \n",
      " 100  FLAG_DOCUMENT_6               307511 non-null  int64  \n",
      " 101  FLAG_DOCUMENT_7               307511 non-null  int64  \n",
      " 102  FLAG_DOCUMENT_8               307511 non-null  int64  \n",
      " 103  FLAG_DOCUMENT_9               307511 non-null  int64  \n",
      " 104  FLAG_DOCUMENT_10              307511 non-null  int64  \n",
      " 105  FLAG_DOCUMENT_11              307511 non-null  int64  \n",
      " 106  FLAG_DOCUMENT_12              307511 non-null  int64  \n",
      " 107  FLAG_DOCUMENT_13              307511 non-null  int64  \n",
      " 108  FLAG_DOCUMENT_14              307511 non-null  int64  \n",
      " 109  FLAG_DOCUMENT_15              307511 non-null  int64  \n",
      " 110  FLAG_DOCUMENT_16              307511 non-null  int64  \n",
      " 111  FLAG_DOCUMENT_17              307511 non-null  int64  \n",
      " 112  FLAG_DOCUMENT_18              307511 non-null  int64  \n",
      " 113  FLAG_DOCUMENT_19              307511 non-null  int64  \n",
      " 114  FLAG_DOCUMENT_20              307511 non-null  int64  \n",
      " 115  FLAG_DOCUMENT_21              307511 non-null  int64  \n",
      " 116  AMT_REQ_CREDIT_BUREAU_HOUR    265992 non-null  float64\n",
      " 117  AMT_REQ_CREDIT_BUREAU_DAY     265992 non-null  float64\n",
      " 118  AMT_REQ_CREDIT_BUREAU_WEEK    265992 non-null  float64\n",
      " 119  AMT_REQ_CREDIT_BUREAU_MON     265992 non-null  float64\n",
      " 120  AMT_REQ_CREDIT_BUREAU_QRT     265992 non-null  float64\n",
      " 121  AMT_REQ_CREDIT_BUREAU_YEAR    265992 non-null  float64\n",
      "dtypes: float64(65), int64(41), object(16)\n",
      "memory usage: 286.2+ MB\n"
     ]
    }
   ],
   "source": [
    "# all the info about each column is not showing so\n",
    "client_appl.info(verbose=True, null_counts=True)"
   ]
  },
  {
   "cell_type": "markdown",
   "id": "f2b544ae",
   "metadata": {},
   "source": [
    "**Data Cleaning**"
   ]
  },
  {
   "cell_type": "code",
   "execution_count": 10,
   "id": "148df898",
   "metadata": {},
   "outputs": [],
   "source": [
    "# checking % of null values in each column\n",
    "null_appl = pd.DataFrame(client_appl.isnull().mean()*100)"
   ]
  },
  {
   "cell_type": "code",
   "execution_count": 11,
   "id": "73ab9d74",
   "metadata": {},
   "outputs": [
    {
     "data": {
      "text/html": [
       "<div>\n",
       "<style scoped>\n",
       "    .dataframe tbody tr th:only-of-type {\n",
       "        vertical-align: middle;\n",
       "    }\n",
       "\n",
       "    .dataframe tbody tr th {\n",
       "        vertical-align: top;\n",
       "    }\n",
       "\n",
       "    .dataframe thead th {\n",
       "        text-align: right;\n",
       "    }\n",
       "</style>\n",
       "<table border=\"1\" class=\"dataframe\">\n",
       "  <thead>\n",
       "    <tr style=\"text-align: right;\">\n",
       "      <th></th>\n",
       "      <th>0</th>\n",
       "    </tr>\n",
       "  </thead>\n",
       "  <tbody>\n",
       "    <tr>\n",
       "      <th>SK_ID_CURR</th>\n",
       "      <td>0.0</td>\n",
       "    </tr>\n",
       "    <tr>\n",
       "      <th>TARGET</th>\n",
       "      <td>0.0</td>\n",
       "    </tr>\n",
       "    <tr>\n",
       "      <th>NAME_CONTRACT_TYPE</th>\n",
       "      <td>0.0</td>\n",
       "    </tr>\n",
       "    <tr>\n",
       "      <th>CODE_GENDER</th>\n",
       "      <td>0.0</td>\n",
       "    </tr>\n",
       "    <tr>\n",
       "      <th>FLAG_OWN_CAR</th>\n",
       "      <td>0.0</td>\n",
       "    </tr>\n",
       "  </tbody>\n",
       "</table>\n",
       "</div>"
      ],
      "text/plain": [
       "                      0\n",
       "SK_ID_CURR          0.0\n",
       "TARGET              0.0\n",
       "NAME_CONTRACT_TYPE  0.0\n",
       "CODE_GENDER         0.0\n",
       "FLAG_OWN_CAR        0.0"
      ]
     },
     "execution_count": 11,
     "metadata": {},
     "output_type": "execute_result"
    }
   ],
   "source": [
    "null_appl.head()"
   ]
  },
  {
   "cell_type": "code",
   "execution_count": 12,
   "id": "15f306e9",
   "metadata": {},
   "outputs": [],
   "source": [
    "null_appl.reset_index(inplace=True)"
   ]
  },
  {
   "cell_type": "code",
   "execution_count": 13,
   "id": "577c6dee",
   "metadata": {},
   "outputs": [],
   "source": [
    "null_appl.sort_values(0, ascending=False, inplace=True)"
   ]
  },
  {
   "cell_type": "code",
   "execution_count": 14,
   "id": "ea97adb0",
   "metadata": {},
   "outputs": [
    {
     "data": {
      "text/html": [
       "<div>\n",
       "<style scoped>\n",
       "    .dataframe tbody tr th:only-of-type {\n",
       "        vertical-align: middle;\n",
       "    }\n",
       "\n",
       "    .dataframe tbody tr th {\n",
       "        vertical-align: top;\n",
       "    }\n",
       "\n",
       "    .dataframe thead th {\n",
       "        text-align: right;\n",
       "    }\n",
       "</style>\n",
       "<table border=\"1\" class=\"dataframe\">\n",
       "  <thead>\n",
       "    <tr style=\"text-align: right;\">\n",
       "      <th></th>\n",
       "      <th>index</th>\n",
       "      <th>0</th>\n",
       "    </tr>\n",
       "  </thead>\n",
       "  <tbody>\n",
       "    <tr>\n",
       "      <th>76</th>\n",
       "      <td>COMMONAREA_MEDI</td>\n",
       "      <td>69.872297</td>\n",
       "    </tr>\n",
       "    <tr>\n",
       "      <th>48</th>\n",
       "      <td>COMMONAREA_AVG</td>\n",
       "      <td>69.872297</td>\n",
       "    </tr>\n",
       "    <tr>\n",
       "      <th>62</th>\n",
       "      <td>COMMONAREA_MODE</td>\n",
       "      <td>69.872297</td>\n",
       "    </tr>\n",
       "    <tr>\n",
       "      <th>70</th>\n",
       "      <td>NONLIVINGAPARTMENTS_MODE</td>\n",
       "      <td>69.432963</td>\n",
       "    </tr>\n",
       "    <tr>\n",
       "      <th>56</th>\n",
       "      <td>NONLIVINGAPARTMENTS_AVG</td>\n",
       "      <td>69.432963</td>\n",
       "    </tr>\n",
       "    <tr>\n",
       "      <th>84</th>\n",
       "      <td>NONLIVINGAPARTMENTS_MEDI</td>\n",
       "      <td>69.432963</td>\n",
       "    </tr>\n",
       "    <tr>\n",
       "      <th>86</th>\n",
       "      <td>FONDKAPREMONT_MODE</td>\n",
       "      <td>68.386172</td>\n",
       "    </tr>\n",
       "    <tr>\n",
       "      <th>68</th>\n",
       "      <td>LIVINGAPARTMENTS_MODE</td>\n",
       "      <td>68.354953</td>\n",
       "    </tr>\n",
       "    <tr>\n",
       "      <th>54</th>\n",
       "      <td>LIVINGAPARTMENTS_AVG</td>\n",
       "      <td>68.354953</td>\n",
       "    </tr>\n",
       "    <tr>\n",
       "      <th>82</th>\n",
       "      <td>LIVINGAPARTMENTS_MEDI</td>\n",
       "      <td>68.354953</td>\n",
       "    </tr>\n",
       "    <tr>\n",
       "      <th>52</th>\n",
       "      <td>FLOORSMIN_AVG</td>\n",
       "      <td>67.848630</td>\n",
       "    </tr>\n",
       "    <tr>\n",
       "      <th>66</th>\n",
       "      <td>FLOORSMIN_MODE</td>\n",
       "      <td>67.848630</td>\n",
       "    </tr>\n",
       "    <tr>\n",
       "      <th>80</th>\n",
       "      <td>FLOORSMIN_MEDI</td>\n",
       "      <td>67.848630</td>\n",
       "    </tr>\n",
       "    <tr>\n",
       "      <th>75</th>\n",
       "      <td>YEARS_BUILD_MEDI</td>\n",
       "      <td>66.497784</td>\n",
       "    </tr>\n",
       "    <tr>\n",
       "      <th>61</th>\n",
       "      <td>YEARS_BUILD_MODE</td>\n",
       "      <td>66.497784</td>\n",
       "    </tr>\n",
       "    <tr>\n",
       "      <th>47</th>\n",
       "      <td>YEARS_BUILD_AVG</td>\n",
       "      <td>66.497784</td>\n",
       "    </tr>\n",
       "    <tr>\n",
       "      <th>21</th>\n",
       "      <td>OWN_CAR_AGE</td>\n",
       "      <td>65.990810</td>\n",
       "    </tr>\n",
       "    <tr>\n",
       "      <th>81</th>\n",
       "      <td>LANDAREA_MEDI</td>\n",
       "      <td>59.376738</td>\n",
       "    </tr>\n",
       "    <tr>\n",
       "      <th>67</th>\n",
       "      <td>LANDAREA_MODE</td>\n",
       "      <td>59.376738</td>\n",
       "    </tr>\n",
       "    <tr>\n",
       "      <th>53</th>\n",
       "      <td>LANDAREA_AVG</td>\n",
       "      <td>59.376738</td>\n",
       "    </tr>\n",
       "    <tr>\n",
       "      <th>73</th>\n",
       "      <td>BASEMENTAREA_MEDI</td>\n",
       "      <td>58.515956</td>\n",
       "    </tr>\n",
       "    <tr>\n",
       "      <th>45</th>\n",
       "      <td>BASEMENTAREA_AVG</td>\n",
       "      <td>58.515956</td>\n",
       "    </tr>\n",
       "    <tr>\n",
       "      <th>59</th>\n",
       "      <td>BASEMENTAREA_MODE</td>\n",
       "      <td>58.515956</td>\n",
       "    </tr>\n",
       "    <tr>\n",
       "      <th>41</th>\n",
       "      <td>EXT_SOURCE_1</td>\n",
       "      <td>56.381073</td>\n",
       "    </tr>\n",
       "    <tr>\n",
       "      <th>71</th>\n",
       "      <td>NONLIVINGAREA_MODE</td>\n",
       "      <td>55.179164</td>\n",
       "    </tr>\n",
       "    <tr>\n",
       "      <th>57</th>\n",
       "      <td>NONLIVINGAREA_AVG</td>\n",
       "      <td>55.179164</td>\n",
       "    </tr>\n",
       "    <tr>\n",
       "      <th>85</th>\n",
       "      <td>NONLIVINGAREA_MEDI</td>\n",
       "      <td>55.179164</td>\n",
       "    </tr>\n",
       "    <tr>\n",
       "      <th>77</th>\n",
       "      <td>ELEVATORS_MEDI</td>\n",
       "      <td>53.295980</td>\n",
       "    </tr>\n",
       "    <tr>\n",
       "      <th>49</th>\n",
       "      <td>ELEVATORS_AVG</td>\n",
       "      <td>53.295980</td>\n",
       "    </tr>\n",
       "    <tr>\n",
       "      <th>63</th>\n",
       "      <td>ELEVATORS_MODE</td>\n",
       "      <td>53.295980</td>\n",
       "    </tr>\n",
       "    <tr>\n",
       "      <th>89</th>\n",
       "      <td>WALLSMATERIAL_MODE</td>\n",
       "      <td>50.840783</td>\n",
       "    </tr>\n",
       "    <tr>\n",
       "      <th>72</th>\n",
       "      <td>APARTMENTS_MEDI</td>\n",
       "      <td>50.749729</td>\n",
       "    </tr>\n",
       "    <tr>\n",
       "      <th>44</th>\n",
       "      <td>APARTMENTS_AVG</td>\n",
       "      <td>50.749729</td>\n",
       "    </tr>\n",
       "    <tr>\n",
       "      <th>58</th>\n",
       "      <td>APARTMENTS_MODE</td>\n",
       "      <td>50.749729</td>\n",
       "    </tr>\n",
       "    <tr>\n",
       "      <th>78</th>\n",
       "      <td>ENTRANCES_MEDI</td>\n",
       "      <td>50.348768</td>\n",
       "    </tr>\n",
       "    <tr>\n",
       "      <th>50</th>\n",
       "      <td>ENTRANCES_AVG</td>\n",
       "      <td>50.348768</td>\n",
       "    </tr>\n",
       "    <tr>\n",
       "      <th>64</th>\n",
       "      <td>ENTRANCES_MODE</td>\n",
       "      <td>50.348768</td>\n",
       "    </tr>\n",
       "    <tr>\n",
       "      <th>55</th>\n",
       "      <td>LIVINGAREA_AVG</td>\n",
       "      <td>50.193326</td>\n",
       "    </tr>\n",
       "    <tr>\n",
       "      <th>69</th>\n",
       "      <td>LIVINGAREA_MODE</td>\n",
       "      <td>50.193326</td>\n",
       "    </tr>\n",
       "    <tr>\n",
       "      <th>83</th>\n",
       "      <td>LIVINGAREA_MEDI</td>\n",
       "      <td>50.193326</td>\n",
       "    </tr>\n",
       "    <tr>\n",
       "      <th>87</th>\n",
       "      <td>HOUSETYPE_MODE</td>\n",
       "      <td>50.176091</td>\n",
       "    </tr>\n",
       "    <tr>\n",
       "      <th>65</th>\n",
       "      <td>FLOORSMAX_MODE</td>\n",
       "      <td>49.760822</td>\n",
       "    </tr>\n",
       "    <tr>\n",
       "      <th>79</th>\n",
       "      <td>FLOORSMAX_MEDI</td>\n",
       "      <td>49.760822</td>\n",
       "    </tr>\n",
       "    <tr>\n",
       "      <th>51</th>\n",
       "      <td>FLOORSMAX_AVG</td>\n",
       "      <td>49.760822</td>\n",
       "    </tr>\n",
       "    <tr>\n",
       "      <th>60</th>\n",
       "      <td>YEARS_BEGINEXPLUATATION_MODE</td>\n",
       "      <td>48.781019</td>\n",
       "    </tr>\n",
       "    <tr>\n",
       "      <th>74</th>\n",
       "      <td>YEARS_BEGINEXPLUATATION_MEDI</td>\n",
       "      <td>48.781019</td>\n",
       "    </tr>\n",
       "    <tr>\n",
       "      <th>46</th>\n",
       "      <td>YEARS_BEGINEXPLUATATION_AVG</td>\n",
       "      <td>48.781019</td>\n",
       "    </tr>\n",
       "    <tr>\n",
       "      <th>88</th>\n",
       "      <td>TOTALAREA_MODE</td>\n",
       "      <td>48.268517</td>\n",
       "    </tr>\n",
       "    <tr>\n",
       "      <th>90</th>\n",
       "      <td>EMERGENCYSTATE_MODE</td>\n",
       "      <td>47.398304</td>\n",
       "    </tr>\n",
       "    <tr>\n",
       "      <th>28</th>\n",
       "      <td>OCCUPATION_TYPE</td>\n",
       "      <td>31.345545</td>\n",
       "    </tr>\n",
       "    <tr>\n",
       "      <th>43</th>\n",
       "      <td>EXT_SOURCE_3</td>\n",
       "      <td>19.825307</td>\n",
       "    </tr>\n",
       "    <tr>\n",
       "      <th>116</th>\n",
       "      <td>AMT_REQ_CREDIT_BUREAU_HOUR</td>\n",
       "      <td>13.501631</td>\n",
       "    </tr>\n",
       "    <tr>\n",
       "      <th>117</th>\n",
       "      <td>AMT_REQ_CREDIT_BUREAU_DAY</td>\n",
       "      <td>13.501631</td>\n",
       "    </tr>\n",
       "    <tr>\n",
       "      <th>118</th>\n",
       "      <td>AMT_REQ_CREDIT_BUREAU_WEEK</td>\n",
       "      <td>13.501631</td>\n",
       "    </tr>\n",
       "    <tr>\n",
       "      <th>119</th>\n",
       "      <td>AMT_REQ_CREDIT_BUREAU_MON</td>\n",
       "      <td>13.501631</td>\n",
       "    </tr>\n",
       "    <tr>\n",
       "      <th>120</th>\n",
       "      <td>AMT_REQ_CREDIT_BUREAU_QRT</td>\n",
       "      <td>13.501631</td>\n",
       "    </tr>\n",
       "    <tr>\n",
       "      <th>121</th>\n",
       "      <td>AMT_REQ_CREDIT_BUREAU_YEAR</td>\n",
       "      <td>13.501631</td>\n",
       "    </tr>\n",
       "    <tr>\n",
       "      <th>11</th>\n",
       "      <td>NAME_TYPE_SUITE</td>\n",
       "      <td>0.420148</td>\n",
       "    </tr>\n",
       "    <tr>\n",
       "      <th>91</th>\n",
       "      <td>OBS_30_CNT_SOCIAL_CIRCLE</td>\n",
       "      <td>0.332021</td>\n",
       "    </tr>\n",
       "    <tr>\n",
       "      <th>92</th>\n",
       "      <td>DEF_30_CNT_SOCIAL_CIRCLE</td>\n",
       "      <td>0.332021</td>\n",
       "    </tr>\n",
       "    <tr>\n",
       "      <th>93</th>\n",
       "      <td>OBS_60_CNT_SOCIAL_CIRCLE</td>\n",
       "      <td>0.332021</td>\n",
       "    </tr>\n",
       "    <tr>\n",
       "      <th>94</th>\n",
       "      <td>DEF_60_CNT_SOCIAL_CIRCLE</td>\n",
       "      <td>0.332021</td>\n",
       "    </tr>\n",
       "    <tr>\n",
       "      <th>42</th>\n",
       "      <td>EXT_SOURCE_2</td>\n",
       "      <td>0.214626</td>\n",
       "    </tr>\n",
       "    <tr>\n",
       "      <th>10</th>\n",
       "      <td>AMT_GOODS_PRICE</td>\n",
       "      <td>0.090403</td>\n",
       "    </tr>\n",
       "    <tr>\n",
       "      <th>9</th>\n",
       "      <td>AMT_ANNUITY</td>\n",
       "      <td>0.003902</td>\n",
       "    </tr>\n",
       "    <tr>\n",
       "      <th>29</th>\n",
       "      <td>CNT_FAM_MEMBERS</td>\n",
       "      <td>0.000650</td>\n",
       "    </tr>\n",
       "    <tr>\n",
       "      <th>95</th>\n",
       "      <td>DAYS_LAST_PHONE_CHANGE</td>\n",
       "      <td>0.000325</td>\n",
       "    </tr>\n",
       "    <tr>\n",
       "      <th>6</th>\n",
       "      <td>CNT_CHILDREN</td>\n",
       "      <td>0.000000</td>\n",
       "    </tr>\n",
       "    <tr>\n",
       "      <th>102</th>\n",
       "      <td>FLAG_DOCUMENT_8</td>\n",
       "      <td>0.000000</td>\n",
       "    </tr>\n",
       "    <tr>\n",
       "      <th>2</th>\n",
       "      <td>NAME_CONTRACT_TYPE</td>\n",
       "      <td>0.000000</td>\n",
       "    </tr>\n",
       "    <tr>\n",
       "      <th>3</th>\n",
       "      <td>CODE_GENDER</td>\n",
       "      <td>0.000000</td>\n",
       "    </tr>\n",
       "    <tr>\n",
       "      <th>4</th>\n",
       "      <td>FLAG_OWN_CAR</td>\n",
       "      <td>0.000000</td>\n",
       "    </tr>\n",
       "    <tr>\n",
       "      <th>96</th>\n",
       "      <td>FLAG_DOCUMENT_2</td>\n",
       "      <td>0.000000</td>\n",
       "    </tr>\n",
       "    <tr>\n",
       "      <th>97</th>\n",
       "      <td>FLAG_DOCUMENT_3</td>\n",
       "      <td>0.000000</td>\n",
       "    </tr>\n",
       "    <tr>\n",
       "      <th>98</th>\n",
       "      <td>FLAG_DOCUMENT_4</td>\n",
       "      <td>0.000000</td>\n",
       "    </tr>\n",
       "    <tr>\n",
       "      <th>99</th>\n",
       "      <td>FLAG_DOCUMENT_5</td>\n",
       "      <td>0.000000</td>\n",
       "    </tr>\n",
       "    <tr>\n",
       "      <th>100</th>\n",
       "      <td>FLAG_DOCUMENT_6</td>\n",
       "      <td>0.000000</td>\n",
       "    </tr>\n",
       "    <tr>\n",
       "      <th>101</th>\n",
       "      <td>FLAG_DOCUMENT_7</td>\n",
       "      <td>0.000000</td>\n",
       "    </tr>\n",
       "    <tr>\n",
       "      <th>103</th>\n",
       "      <td>FLAG_DOCUMENT_9</td>\n",
       "      <td>0.000000</td>\n",
       "    </tr>\n",
       "    <tr>\n",
       "      <th>115</th>\n",
       "      <td>FLAG_DOCUMENT_21</td>\n",
       "      <td>0.000000</td>\n",
       "    </tr>\n",
       "    <tr>\n",
       "      <th>104</th>\n",
       "      <td>FLAG_DOCUMENT_10</td>\n",
       "      <td>0.000000</td>\n",
       "    </tr>\n",
       "    <tr>\n",
       "      <th>105</th>\n",
       "      <td>FLAG_DOCUMENT_11</td>\n",
       "      <td>0.000000</td>\n",
       "    </tr>\n",
       "    <tr>\n",
       "      <th>5</th>\n",
       "      <td>FLAG_OWN_REALTY</td>\n",
       "      <td>0.000000</td>\n",
       "    </tr>\n",
       "    <tr>\n",
       "      <th>107</th>\n",
       "      <td>FLAG_DOCUMENT_13</td>\n",
       "      <td>0.000000</td>\n",
       "    </tr>\n",
       "    <tr>\n",
       "      <th>108</th>\n",
       "      <td>FLAG_DOCUMENT_14</td>\n",
       "      <td>0.000000</td>\n",
       "    </tr>\n",
       "    <tr>\n",
       "      <th>109</th>\n",
       "      <td>FLAG_DOCUMENT_15</td>\n",
       "      <td>0.000000</td>\n",
       "    </tr>\n",
       "    <tr>\n",
       "      <th>110</th>\n",
       "      <td>FLAG_DOCUMENT_16</td>\n",
       "      <td>0.000000</td>\n",
       "    </tr>\n",
       "    <tr>\n",
       "      <th>111</th>\n",
       "      <td>FLAG_DOCUMENT_17</td>\n",
       "      <td>0.000000</td>\n",
       "    </tr>\n",
       "    <tr>\n",
       "      <th>112</th>\n",
       "      <td>FLAG_DOCUMENT_18</td>\n",
       "      <td>0.000000</td>\n",
       "    </tr>\n",
       "    <tr>\n",
       "      <th>113</th>\n",
       "      <td>FLAG_DOCUMENT_19</td>\n",
       "      <td>0.000000</td>\n",
       "    </tr>\n",
       "    <tr>\n",
       "      <th>114</th>\n",
       "      <td>FLAG_DOCUMENT_20</td>\n",
       "      <td>0.000000</td>\n",
       "    </tr>\n",
       "    <tr>\n",
       "      <th>106</th>\n",
       "      <td>FLAG_DOCUMENT_12</td>\n",
       "      <td>0.000000</td>\n",
       "    </tr>\n",
       "    <tr>\n",
       "      <th>8</th>\n",
       "      <td>AMT_CREDIT</td>\n",
       "      <td>0.000000</td>\n",
       "    </tr>\n",
       "    <tr>\n",
       "      <th>7</th>\n",
       "      <td>AMT_INCOME_TOTAL</td>\n",
       "      <td>0.000000</td>\n",
       "    </tr>\n",
       "    <tr>\n",
       "      <th>26</th>\n",
       "      <td>FLAG_PHONE</td>\n",
       "      <td>0.000000</td>\n",
       "    </tr>\n",
       "    <tr>\n",
       "      <th>39</th>\n",
       "      <td>LIVE_CITY_NOT_WORK_CITY</td>\n",
       "      <td>0.000000</td>\n",
       "    </tr>\n",
       "    <tr>\n",
       "      <th>38</th>\n",
       "      <td>REG_CITY_NOT_WORK_CITY</td>\n",
       "      <td>0.000000</td>\n",
       "    </tr>\n",
       "    <tr>\n",
       "      <th>1</th>\n",
       "      <td>TARGET</td>\n",
       "      <td>0.000000</td>\n",
       "    </tr>\n",
       "    <tr>\n",
       "      <th>37</th>\n",
       "      <td>REG_CITY_NOT_LIVE_CITY</td>\n",
       "      <td>0.000000</td>\n",
       "    </tr>\n",
       "    <tr>\n",
       "      <th>36</th>\n",
       "      <td>LIVE_REGION_NOT_WORK_REGION</td>\n",
       "      <td>0.000000</td>\n",
       "    </tr>\n",
       "    <tr>\n",
       "      <th>35</th>\n",
       "      <td>REG_REGION_NOT_WORK_REGION</td>\n",
       "      <td>0.000000</td>\n",
       "    </tr>\n",
       "    <tr>\n",
       "      <th>34</th>\n",
       "      <td>REG_REGION_NOT_LIVE_REGION</td>\n",
       "      <td>0.000000</td>\n",
       "    </tr>\n",
       "    <tr>\n",
       "      <th>33</th>\n",
       "      <td>HOUR_APPR_PROCESS_START</td>\n",
       "      <td>0.000000</td>\n",
       "    </tr>\n",
       "    <tr>\n",
       "      <th>32</th>\n",
       "      <td>WEEKDAY_APPR_PROCESS_START</td>\n",
       "      <td>0.000000</td>\n",
       "    </tr>\n",
       "    <tr>\n",
       "      <th>31</th>\n",
       "      <td>REGION_RATING_CLIENT_W_CITY</td>\n",
       "      <td>0.000000</td>\n",
       "    </tr>\n",
       "    <tr>\n",
       "      <th>30</th>\n",
       "      <td>REGION_RATING_CLIENT</td>\n",
       "      <td>0.000000</td>\n",
       "    </tr>\n",
       "    <tr>\n",
       "      <th>27</th>\n",
       "      <td>FLAG_EMAIL</td>\n",
       "      <td>0.000000</td>\n",
       "    </tr>\n",
       "    <tr>\n",
       "      <th>25</th>\n",
       "      <td>FLAG_CONT_MOBILE</td>\n",
       "      <td>0.000000</td>\n",
       "    </tr>\n",
       "    <tr>\n",
       "      <th>40</th>\n",
       "      <td>ORGANIZATION_TYPE</td>\n",
       "      <td>0.000000</td>\n",
       "    </tr>\n",
       "    <tr>\n",
       "      <th>24</th>\n",
       "      <td>FLAG_WORK_PHONE</td>\n",
       "      <td>0.000000</td>\n",
       "    </tr>\n",
       "    <tr>\n",
       "      <th>23</th>\n",
       "      <td>FLAG_EMP_PHONE</td>\n",
       "      <td>0.000000</td>\n",
       "    </tr>\n",
       "    <tr>\n",
       "      <th>22</th>\n",
       "      <td>FLAG_MOBIL</td>\n",
       "      <td>0.000000</td>\n",
       "    </tr>\n",
       "    <tr>\n",
       "      <th>20</th>\n",
       "      <td>DAYS_ID_PUBLISH</td>\n",
       "      <td>0.000000</td>\n",
       "    </tr>\n",
       "    <tr>\n",
       "      <th>19</th>\n",
       "      <td>DAYS_REGISTRATION</td>\n",
       "      <td>0.000000</td>\n",
       "    </tr>\n",
       "    <tr>\n",
       "      <th>18</th>\n",
       "      <td>DAYS_EMPLOYED</td>\n",
       "      <td>0.000000</td>\n",
       "    </tr>\n",
       "    <tr>\n",
       "      <th>17</th>\n",
       "      <td>DAYS_BIRTH</td>\n",
       "      <td>0.000000</td>\n",
       "    </tr>\n",
       "    <tr>\n",
       "      <th>16</th>\n",
       "      <td>REGION_POPULATION_RELATIVE</td>\n",
       "      <td>0.000000</td>\n",
       "    </tr>\n",
       "    <tr>\n",
       "      <th>15</th>\n",
       "      <td>NAME_HOUSING_TYPE</td>\n",
       "      <td>0.000000</td>\n",
       "    </tr>\n",
       "    <tr>\n",
       "      <th>14</th>\n",
       "      <td>NAME_FAMILY_STATUS</td>\n",
       "      <td>0.000000</td>\n",
       "    </tr>\n",
       "    <tr>\n",
       "      <th>13</th>\n",
       "      <td>NAME_EDUCATION_TYPE</td>\n",
       "      <td>0.000000</td>\n",
       "    </tr>\n",
       "    <tr>\n",
       "      <th>12</th>\n",
       "      <td>NAME_INCOME_TYPE</td>\n",
       "      <td>0.000000</td>\n",
       "    </tr>\n",
       "    <tr>\n",
       "      <th>0</th>\n",
       "      <td>SK_ID_CURR</td>\n",
       "      <td>0.000000</td>\n",
       "    </tr>\n",
       "  </tbody>\n",
       "</table>\n",
       "</div>"
      ],
      "text/plain": [
       "                            index          0\n",
       "76                COMMONAREA_MEDI  69.872297\n",
       "48                 COMMONAREA_AVG  69.872297\n",
       "62                COMMONAREA_MODE  69.872297\n",
       "70       NONLIVINGAPARTMENTS_MODE  69.432963\n",
       "56        NONLIVINGAPARTMENTS_AVG  69.432963\n",
       "84       NONLIVINGAPARTMENTS_MEDI  69.432963\n",
       "86             FONDKAPREMONT_MODE  68.386172\n",
       "68          LIVINGAPARTMENTS_MODE  68.354953\n",
       "54           LIVINGAPARTMENTS_AVG  68.354953\n",
       "82          LIVINGAPARTMENTS_MEDI  68.354953\n",
       "52                  FLOORSMIN_AVG  67.848630\n",
       "66                 FLOORSMIN_MODE  67.848630\n",
       "80                 FLOORSMIN_MEDI  67.848630\n",
       "75               YEARS_BUILD_MEDI  66.497784\n",
       "61               YEARS_BUILD_MODE  66.497784\n",
       "47                YEARS_BUILD_AVG  66.497784\n",
       "21                    OWN_CAR_AGE  65.990810\n",
       "81                  LANDAREA_MEDI  59.376738\n",
       "67                  LANDAREA_MODE  59.376738\n",
       "53                   LANDAREA_AVG  59.376738\n",
       "73              BASEMENTAREA_MEDI  58.515956\n",
       "45               BASEMENTAREA_AVG  58.515956\n",
       "59              BASEMENTAREA_MODE  58.515956\n",
       "41                   EXT_SOURCE_1  56.381073\n",
       "71             NONLIVINGAREA_MODE  55.179164\n",
       "57              NONLIVINGAREA_AVG  55.179164\n",
       "85             NONLIVINGAREA_MEDI  55.179164\n",
       "77                 ELEVATORS_MEDI  53.295980\n",
       "49                  ELEVATORS_AVG  53.295980\n",
       "63                 ELEVATORS_MODE  53.295980\n",
       "89             WALLSMATERIAL_MODE  50.840783\n",
       "72                APARTMENTS_MEDI  50.749729\n",
       "44                 APARTMENTS_AVG  50.749729\n",
       "58                APARTMENTS_MODE  50.749729\n",
       "78                 ENTRANCES_MEDI  50.348768\n",
       "50                  ENTRANCES_AVG  50.348768\n",
       "64                 ENTRANCES_MODE  50.348768\n",
       "55                 LIVINGAREA_AVG  50.193326\n",
       "69                LIVINGAREA_MODE  50.193326\n",
       "83                LIVINGAREA_MEDI  50.193326\n",
       "87                 HOUSETYPE_MODE  50.176091\n",
       "65                 FLOORSMAX_MODE  49.760822\n",
       "79                 FLOORSMAX_MEDI  49.760822\n",
       "51                  FLOORSMAX_AVG  49.760822\n",
       "60   YEARS_BEGINEXPLUATATION_MODE  48.781019\n",
       "74   YEARS_BEGINEXPLUATATION_MEDI  48.781019\n",
       "46    YEARS_BEGINEXPLUATATION_AVG  48.781019\n",
       "88                 TOTALAREA_MODE  48.268517\n",
       "90            EMERGENCYSTATE_MODE  47.398304\n",
       "28                OCCUPATION_TYPE  31.345545\n",
       "43                   EXT_SOURCE_3  19.825307\n",
       "116    AMT_REQ_CREDIT_BUREAU_HOUR  13.501631\n",
       "117     AMT_REQ_CREDIT_BUREAU_DAY  13.501631\n",
       "118    AMT_REQ_CREDIT_BUREAU_WEEK  13.501631\n",
       "119     AMT_REQ_CREDIT_BUREAU_MON  13.501631\n",
       "120     AMT_REQ_CREDIT_BUREAU_QRT  13.501631\n",
       "121    AMT_REQ_CREDIT_BUREAU_YEAR  13.501631\n",
       "11                NAME_TYPE_SUITE   0.420148\n",
       "91       OBS_30_CNT_SOCIAL_CIRCLE   0.332021\n",
       "92       DEF_30_CNT_SOCIAL_CIRCLE   0.332021\n",
       "93       OBS_60_CNT_SOCIAL_CIRCLE   0.332021\n",
       "94       DEF_60_CNT_SOCIAL_CIRCLE   0.332021\n",
       "42                   EXT_SOURCE_2   0.214626\n",
       "10                AMT_GOODS_PRICE   0.090403\n",
       "9                     AMT_ANNUITY   0.003902\n",
       "29                CNT_FAM_MEMBERS   0.000650\n",
       "95         DAYS_LAST_PHONE_CHANGE   0.000325\n",
       "6                    CNT_CHILDREN   0.000000\n",
       "102               FLAG_DOCUMENT_8   0.000000\n",
       "2              NAME_CONTRACT_TYPE   0.000000\n",
       "3                     CODE_GENDER   0.000000\n",
       "4                    FLAG_OWN_CAR   0.000000\n",
       "96                FLAG_DOCUMENT_2   0.000000\n",
       "97                FLAG_DOCUMENT_3   0.000000\n",
       "98                FLAG_DOCUMENT_4   0.000000\n",
       "99                FLAG_DOCUMENT_5   0.000000\n",
       "100               FLAG_DOCUMENT_6   0.000000\n",
       "101               FLAG_DOCUMENT_7   0.000000\n",
       "103               FLAG_DOCUMENT_9   0.000000\n",
       "115              FLAG_DOCUMENT_21   0.000000\n",
       "104              FLAG_DOCUMENT_10   0.000000\n",
       "105              FLAG_DOCUMENT_11   0.000000\n",
       "5                 FLAG_OWN_REALTY   0.000000\n",
       "107              FLAG_DOCUMENT_13   0.000000\n",
       "108              FLAG_DOCUMENT_14   0.000000\n",
       "109              FLAG_DOCUMENT_15   0.000000\n",
       "110              FLAG_DOCUMENT_16   0.000000\n",
       "111              FLAG_DOCUMENT_17   0.000000\n",
       "112              FLAG_DOCUMENT_18   0.000000\n",
       "113              FLAG_DOCUMENT_19   0.000000\n",
       "114              FLAG_DOCUMENT_20   0.000000\n",
       "106              FLAG_DOCUMENT_12   0.000000\n",
       "8                      AMT_CREDIT   0.000000\n",
       "7                AMT_INCOME_TOTAL   0.000000\n",
       "26                     FLAG_PHONE   0.000000\n",
       "39        LIVE_CITY_NOT_WORK_CITY   0.000000\n",
       "38         REG_CITY_NOT_WORK_CITY   0.000000\n",
       "1                          TARGET   0.000000\n",
       "37         REG_CITY_NOT_LIVE_CITY   0.000000\n",
       "36    LIVE_REGION_NOT_WORK_REGION   0.000000\n",
       "35     REG_REGION_NOT_WORK_REGION   0.000000\n",
       "34     REG_REGION_NOT_LIVE_REGION   0.000000\n",
       "33        HOUR_APPR_PROCESS_START   0.000000\n",
       "32     WEEKDAY_APPR_PROCESS_START   0.000000\n",
       "31    REGION_RATING_CLIENT_W_CITY   0.000000\n",
       "30           REGION_RATING_CLIENT   0.000000\n",
       "27                     FLAG_EMAIL   0.000000\n",
       "25               FLAG_CONT_MOBILE   0.000000\n",
       "40              ORGANIZATION_TYPE   0.000000\n",
       "24                FLAG_WORK_PHONE   0.000000\n",
       "23                 FLAG_EMP_PHONE   0.000000\n",
       "22                     FLAG_MOBIL   0.000000\n",
       "20                DAYS_ID_PUBLISH   0.000000\n",
       "19              DAYS_REGISTRATION   0.000000\n",
       "18                  DAYS_EMPLOYED   0.000000\n",
       "17                     DAYS_BIRTH   0.000000\n",
       "16     REGION_POPULATION_RELATIVE   0.000000\n",
       "15              NAME_HOUSING_TYPE   0.000000\n",
       "14             NAME_FAMILY_STATUS   0.000000\n",
       "13            NAME_EDUCATION_TYPE   0.000000\n",
       "12               NAME_INCOME_TYPE   0.000000\n",
       "0                      SK_ID_CURR   0.000000"
      ]
     },
     "execution_count": 14,
     "metadata": {},
     "output_type": "execute_result"
    }
   ],
   "source": [
    "null_appl"
   ]
  },
  {
   "cell_type": "code",
   "execution_count": 15,
   "id": "ae6b4022",
   "metadata": {},
   "outputs": [],
   "source": [
    "# there are so many columns with % of null values\n",
    "# dropping the columns with more than 45% null values\n",
    "max_null_appl = null_appl[null_appl[0] > 45][\"index\"]"
   ]
  },
  {
   "cell_type": "code",
   "execution_count": 16,
   "id": "d502af54",
   "metadata": {},
   "outputs": [
    {
     "data": {
      "text/plain": [
       "49"
      ]
     },
     "execution_count": 16,
     "metadata": {},
     "output_type": "execute_result"
    }
   ],
   "source": [
    "max_null_appl.shape[0]  # there are 49 columns to drop"
   ]
  },
  {
   "cell_type": "code",
   "execution_count": 17,
   "id": "4eb75a9a",
   "metadata": {},
   "outputs": [],
   "source": [
    "max_null_appl_list = list(max_null_appl)"
   ]
  },
  {
   "cell_type": "code",
   "execution_count": 18,
   "id": "b8ab9132",
   "metadata": {},
   "outputs": [],
   "source": [
    "client_appl.drop(max_null_appl_list, axis=1, inplace=True)"
   ]
  },
  {
   "cell_type": "code",
   "execution_count": 19,
   "id": "6d434af7",
   "metadata": {},
   "outputs": [
    {
     "data": {
      "text/plain": [
       "(307511, 73)"
      ]
     },
     "execution_count": 19,
     "metadata": {},
     "output_type": "execute_result"
    }
   ],
   "source": [
    "# after dropping the checking shape of data\n",
    "client_appl.shape   # there are 73 columns"
   ]
  },
  {
   "cell_type": "code",
   "execution_count": 20,
   "id": "58108931",
   "metadata": {},
   "outputs": [],
   "source": [
    "remain_null_col = null_appl[(null_appl[0] < 45) & (null_appl[0] > 0)]"
   ]
  },
  {
   "cell_type": "code",
   "execution_count": 21,
   "id": "39f44c52",
   "metadata": {},
   "outputs": [
    {
     "data": {
      "text/html": [
       "<div>\n",
       "<style scoped>\n",
       "    .dataframe tbody tr th:only-of-type {\n",
       "        vertical-align: middle;\n",
       "    }\n",
       "\n",
       "    .dataframe tbody tr th {\n",
       "        vertical-align: top;\n",
       "    }\n",
       "\n",
       "    .dataframe thead th {\n",
       "        text-align: right;\n",
       "    }\n",
       "</style>\n",
       "<table border=\"1\" class=\"dataframe\">\n",
       "  <thead>\n",
       "    <tr style=\"text-align: right;\">\n",
       "      <th></th>\n",
       "      <th>index</th>\n",
       "      <th>0</th>\n",
       "    </tr>\n",
       "  </thead>\n",
       "  <tbody>\n",
       "    <tr>\n",
       "      <th>28</th>\n",
       "      <td>OCCUPATION_TYPE</td>\n",
       "      <td>31.345545</td>\n",
       "    </tr>\n",
       "    <tr>\n",
       "      <th>43</th>\n",
       "      <td>EXT_SOURCE_3</td>\n",
       "      <td>19.825307</td>\n",
       "    </tr>\n",
       "    <tr>\n",
       "      <th>116</th>\n",
       "      <td>AMT_REQ_CREDIT_BUREAU_HOUR</td>\n",
       "      <td>13.501631</td>\n",
       "    </tr>\n",
       "    <tr>\n",
       "      <th>117</th>\n",
       "      <td>AMT_REQ_CREDIT_BUREAU_DAY</td>\n",
       "      <td>13.501631</td>\n",
       "    </tr>\n",
       "    <tr>\n",
       "      <th>118</th>\n",
       "      <td>AMT_REQ_CREDIT_BUREAU_WEEK</td>\n",
       "      <td>13.501631</td>\n",
       "    </tr>\n",
       "    <tr>\n",
       "      <th>119</th>\n",
       "      <td>AMT_REQ_CREDIT_BUREAU_MON</td>\n",
       "      <td>13.501631</td>\n",
       "    </tr>\n",
       "    <tr>\n",
       "      <th>120</th>\n",
       "      <td>AMT_REQ_CREDIT_BUREAU_QRT</td>\n",
       "      <td>13.501631</td>\n",
       "    </tr>\n",
       "    <tr>\n",
       "      <th>121</th>\n",
       "      <td>AMT_REQ_CREDIT_BUREAU_YEAR</td>\n",
       "      <td>13.501631</td>\n",
       "    </tr>\n",
       "    <tr>\n",
       "      <th>11</th>\n",
       "      <td>NAME_TYPE_SUITE</td>\n",
       "      <td>0.420148</td>\n",
       "    </tr>\n",
       "    <tr>\n",
       "      <th>91</th>\n",
       "      <td>OBS_30_CNT_SOCIAL_CIRCLE</td>\n",
       "      <td>0.332021</td>\n",
       "    </tr>\n",
       "    <tr>\n",
       "      <th>92</th>\n",
       "      <td>DEF_30_CNT_SOCIAL_CIRCLE</td>\n",
       "      <td>0.332021</td>\n",
       "    </tr>\n",
       "    <tr>\n",
       "      <th>93</th>\n",
       "      <td>OBS_60_CNT_SOCIAL_CIRCLE</td>\n",
       "      <td>0.332021</td>\n",
       "    </tr>\n",
       "    <tr>\n",
       "      <th>94</th>\n",
       "      <td>DEF_60_CNT_SOCIAL_CIRCLE</td>\n",
       "      <td>0.332021</td>\n",
       "    </tr>\n",
       "    <tr>\n",
       "      <th>42</th>\n",
       "      <td>EXT_SOURCE_2</td>\n",
       "      <td>0.214626</td>\n",
       "    </tr>\n",
       "    <tr>\n",
       "      <th>10</th>\n",
       "      <td>AMT_GOODS_PRICE</td>\n",
       "      <td>0.090403</td>\n",
       "    </tr>\n",
       "    <tr>\n",
       "      <th>9</th>\n",
       "      <td>AMT_ANNUITY</td>\n",
       "      <td>0.003902</td>\n",
       "    </tr>\n",
       "    <tr>\n",
       "      <th>29</th>\n",
       "      <td>CNT_FAM_MEMBERS</td>\n",
       "      <td>0.000650</td>\n",
       "    </tr>\n",
       "    <tr>\n",
       "      <th>95</th>\n",
       "      <td>DAYS_LAST_PHONE_CHANGE</td>\n",
       "      <td>0.000325</td>\n",
       "    </tr>\n",
       "  </tbody>\n",
       "</table>\n",
       "</div>"
      ],
      "text/plain": [
       "                          index          0\n",
       "28              OCCUPATION_TYPE  31.345545\n",
       "43                 EXT_SOURCE_3  19.825307\n",
       "116  AMT_REQ_CREDIT_BUREAU_HOUR  13.501631\n",
       "117   AMT_REQ_CREDIT_BUREAU_DAY  13.501631\n",
       "118  AMT_REQ_CREDIT_BUREAU_WEEK  13.501631\n",
       "119   AMT_REQ_CREDIT_BUREAU_MON  13.501631\n",
       "120   AMT_REQ_CREDIT_BUREAU_QRT  13.501631\n",
       "121  AMT_REQ_CREDIT_BUREAU_YEAR  13.501631\n",
       "11              NAME_TYPE_SUITE   0.420148\n",
       "91     OBS_30_CNT_SOCIAL_CIRCLE   0.332021\n",
       "92     DEF_30_CNT_SOCIAL_CIRCLE   0.332021\n",
       "93     OBS_60_CNT_SOCIAL_CIRCLE   0.332021\n",
       "94     DEF_60_CNT_SOCIAL_CIRCLE   0.332021\n",
       "42                 EXT_SOURCE_2   0.214626\n",
       "10              AMT_GOODS_PRICE   0.090403\n",
       "9                   AMT_ANNUITY   0.003902\n",
       "29              CNT_FAM_MEMBERS   0.000650\n",
       "95       DAYS_LAST_PHONE_CHANGE   0.000325"
      ]
     },
     "execution_count": 21,
     "metadata": {},
     "output_type": "execute_result"
    }
   ],
   "source": [
    "remain_null_col"
   ]
  },
  {
   "cell_type": "markdown",
   "id": "ace88779",
   "metadata": {},
   "source": [
    "**Imputation of null values**"
   ]
  },
  {
   "cell_type": "code",
   "execution_count": 22,
   "id": "28957a6c",
   "metadata": {},
   "outputs": [
    {
     "data": {
      "text/plain": [
       "Laborers                 55186\n",
       "Sales staff              32102\n",
       "Core staff               27570\n",
       "Managers                 21371\n",
       "Drivers                  18603\n",
       "High skill tech staff    11380\n",
       "Accountants               9813\n",
       "Medicine staff            8537\n",
       "Security staff            6721\n",
       "Cooking staff             5946\n",
       "Cleaning staff            4653\n",
       "Private service staff     2652\n",
       "Low-skill Laborers        2093\n",
       "Waiters/barmen staff      1348\n",
       "Secretaries               1305\n",
       "Realty agents              751\n",
       "HR staff                   563\n",
       "IT staff                   526\n",
       "Name: OCCUPATION_TYPE, dtype: int64"
      ]
     },
     "execution_count": 22,
     "metadata": {},
     "output_type": "execute_result"
    }
   ],
   "source": [
    "client_appl[\"OCCUPATION_TYPE\"].value_counts()"
   ]
  },
  {
   "cell_type": "code",
   "execution_count": 23,
   "id": "76d8974a",
   "metadata": {},
   "outputs": [],
   "source": [
    "# column is categorical so filling the null values with mode but the mode\n",
    "# of the column is Laborers so we are not filling it with that\n",
    "# so filling the null values with \"Unknown\"\n",
    "client_appl[\"OCCUPATION_TYPE\"] = client_appl[\"OCCUPATION_TYPE\"].fillna(\"Unknown\")"
   ]
  },
  {
   "cell_type": "code",
   "execution_count": 24,
   "id": "114d1a48",
   "metadata": {},
   "outputs": [
    {
     "data": {
      "text/plain": [
       "0.746300    1460\n",
       "0.713631    1315\n",
       "0.694093    1276\n",
       "0.670652    1191\n",
       "0.652897    1154\n",
       "            ... \n",
       "0.021492       1\n",
       "0.019468       1\n",
       "0.023062       1\n",
       "0.014556       1\n",
       "0.043227       1\n",
       "Name: EXT_SOURCE_3, Length: 814, dtype: int64"
      ]
     },
     "execution_count": 24,
     "metadata": {},
     "output_type": "execute_result"
    }
   ],
   "source": [
    "client_appl[\"EXT_SOURCE_3\"].value_counts()"
   ]
  },
  {
   "cell_type": "code",
   "execution_count": 25,
   "id": "fbb65159",
   "metadata": {},
   "outputs": [
    {
     "data": {
      "text/plain": [
       "count    246546.000000\n",
       "mean          0.510853\n",
       "std           0.194844\n",
       "min           0.000527\n",
       "25%           0.370650\n",
       "50%           0.535276\n",
       "75%           0.669057\n",
       "max           0.896010\n",
       "Name: EXT_SOURCE_3, dtype: float64"
      ]
     },
     "execution_count": 25,
     "metadata": {},
     "output_type": "execute_result"
    }
   ],
   "source": [
    "# this columns is numerical so decide with mean and median\n",
    "client_appl[\"EXT_SOURCE_3\"].describe()"
   ]
  },
  {
   "cell_type": "code",
   "execution_count": 26,
   "id": "2762252d",
   "metadata": {},
   "outputs": [],
   "source": [
    "# filling the null values with median\n",
    "client_appl[\"EXT_SOURCE_3\"] = client_appl[\"EXT_SOURCE_3\"].fillna(0.535276)"
   ]
  },
  {
   "cell_type": "code",
   "execution_count": 27,
   "id": "d8abfe1f",
   "metadata": {},
   "outputs": [
    {
     "data": {
      "text/plain": [
       "0.0    264366\n",
       "1.0      1560\n",
       "2.0        56\n",
       "3.0         9\n",
       "4.0         1\n",
       "Name: AMT_REQ_CREDIT_BUREAU_HOUR, dtype: int64"
      ]
     },
     "execution_count": 27,
     "metadata": {},
     "output_type": "execute_result"
    }
   ],
   "source": [
    "client_appl[\"AMT_REQ_CREDIT_BUREAU_HOUR\"].value_counts()"
   ]
  },
  {
   "cell_type": "code",
   "execution_count": 28,
   "id": "bbb6a999",
   "metadata": {},
   "outputs": [
    {
     "data": {
      "text/plain": [
       "count    265992.000000\n",
       "mean          0.006402\n",
       "std           0.083849\n",
       "min           0.000000\n",
       "25%           0.000000\n",
       "50%           0.000000\n",
       "75%           0.000000\n",
       "max           4.000000\n",
       "Name: AMT_REQ_CREDIT_BUREAU_HOUR, dtype: float64"
      ]
     },
     "execution_count": 28,
     "metadata": {},
     "output_type": "execute_result"
    }
   ],
   "source": [
    "# it is numerical so checking mean and median\n",
    "client_appl[\"AMT_REQ_CREDIT_BUREAU_HOUR\"].describe()"
   ]
  },
  {
   "cell_type": "code",
   "execution_count": 29,
   "id": "549703dc",
   "metadata": {},
   "outputs": [],
   "source": [
    "# imputing with median\n",
    "client_appl[\"AMT_REQ_CREDIT_BUREAU_HOUR\"] = client_appl[\"AMT_REQ_CREDIT_BUREAU_HOUR\"].fillna(0.0)"
   ]
  },
  {
   "cell_type": "code",
   "execution_count": 30,
   "id": "8f76b5f3",
   "metadata": {},
   "outputs": [
    {
     "data": {
      "text/plain": [
       "count    265992.000000\n",
       "mean          0.007000\n",
       "std           0.110757\n",
       "min           0.000000\n",
       "25%           0.000000\n",
       "50%           0.000000\n",
       "75%           0.000000\n",
       "max           9.000000\n",
       "Name: AMT_REQ_CREDIT_BUREAU_DAY, dtype: float64"
      ]
     },
     "execution_count": 30,
     "metadata": {},
     "output_type": "execute_result"
    }
   ],
   "source": [
    "# there are 5 more column just like that so doing same step\n",
    "client_appl[\"AMT_REQ_CREDIT_BUREAU_DAY\"].describe()"
   ]
  },
  {
   "cell_type": "code",
   "execution_count": 31,
   "id": "01fec5a5",
   "metadata": {},
   "outputs": [],
   "source": [
    "client_appl[\"AMT_REQ_CREDIT_BUREAU_DAY\"] = client_appl[\"AMT_REQ_CREDIT_BUREAU_DAY\"].fillna(0.0)"
   ]
  },
  {
   "cell_type": "code",
   "execution_count": 32,
   "id": "c90af3a0",
   "metadata": {},
   "outputs": [
    {
     "data": {
      "text/plain": [
       "count    265992.000000\n",
       "mean          0.034362\n",
       "std           0.204685\n",
       "min           0.000000\n",
       "25%           0.000000\n",
       "50%           0.000000\n",
       "75%           0.000000\n",
       "max           8.000000\n",
       "Name: AMT_REQ_CREDIT_BUREAU_WEEK, dtype: float64"
      ]
     },
     "execution_count": 32,
     "metadata": {},
     "output_type": "execute_result"
    }
   ],
   "source": [
    "client_appl[\"AMT_REQ_CREDIT_BUREAU_WEEK\"].describe()"
   ]
  },
  {
   "cell_type": "code",
   "execution_count": 33,
   "id": "0381461b",
   "metadata": {},
   "outputs": [],
   "source": [
    "client_appl[\"AMT_REQ_CREDIT_BUREAU_WEEK\"] = client_appl[\"AMT_REQ_CREDIT_BUREAU_WEEK\"].fillna(0.0)"
   ]
  },
  {
   "cell_type": "code",
   "execution_count": 34,
   "id": "4476468a",
   "metadata": {},
   "outputs": [
    {
     "data": {
      "text/plain": [
       "count    265992.000000\n",
       "mean          0.267395\n",
       "std           0.916002\n",
       "min           0.000000\n",
       "25%           0.000000\n",
       "50%           0.000000\n",
       "75%           0.000000\n",
       "max          27.000000\n",
       "Name: AMT_REQ_CREDIT_BUREAU_MON, dtype: float64"
      ]
     },
     "execution_count": 34,
     "metadata": {},
     "output_type": "execute_result"
    }
   ],
   "source": [
    "client_appl[\"AMT_REQ_CREDIT_BUREAU_MON\"].describe()"
   ]
  },
  {
   "cell_type": "code",
   "execution_count": 35,
   "id": "6791c376",
   "metadata": {},
   "outputs": [],
   "source": [
    "client_appl[\"AMT_REQ_CREDIT_BUREAU_MON\"] = client_appl[\"AMT_REQ_CREDIT_BUREAU_MON\"].fillna(0.0)"
   ]
  },
  {
   "cell_type": "code",
   "execution_count": 36,
   "id": "50f23b22",
   "metadata": {},
   "outputs": [
    {
     "data": {
      "text/plain": [
       "count    265992.000000\n",
       "mean          0.265474\n",
       "std           0.794056\n",
       "min           0.000000\n",
       "25%           0.000000\n",
       "50%           0.000000\n",
       "75%           0.000000\n",
       "max         261.000000\n",
       "Name: AMT_REQ_CREDIT_BUREAU_QRT, dtype: float64"
      ]
     },
     "execution_count": 36,
     "metadata": {},
     "output_type": "execute_result"
    }
   ],
   "source": [
    "client_appl[\"AMT_REQ_CREDIT_BUREAU_QRT\"].describe()"
   ]
  },
  {
   "cell_type": "code",
   "execution_count": 37,
   "id": "3cb2a66a",
   "metadata": {},
   "outputs": [],
   "source": [
    "client_appl[\"AMT_REQ_CREDIT_BUREAU_QRT\"] = client_appl[\"AMT_REQ_CREDIT_BUREAU_QRT\"].fillna(0.0)"
   ]
  },
  {
   "cell_type": "code",
   "execution_count": 38,
   "id": "955013e1",
   "metadata": {},
   "outputs": [
    {
     "data": {
      "text/plain": [
       "count    265992.000000\n",
       "mean          1.899974\n",
       "std           1.869295\n",
       "min           0.000000\n",
       "25%           0.000000\n",
       "50%           1.000000\n",
       "75%           3.000000\n",
       "max          25.000000\n",
       "Name: AMT_REQ_CREDIT_BUREAU_YEAR, dtype: float64"
      ]
     },
     "execution_count": 38,
     "metadata": {},
     "output_type": "execute_result"
    }
   ],
   "source": [
    "client_appl[\"AMT_REQ_CREDIT_BUREAU_YEAR\"].describe()"
   ]
  },
  {
   "cell_type": "code",
   "execution_count": 39,
   "id": "84c1d180",
   "metadata": {},
   "outputs": [],
   "source": [
    "client_appl[\"AMT_REQ_CREDIT_BUREAU_YEAR\"] = client_appl[\"AMT_REQ_CREDIT_BUREAU_YEAR\"].fillna(1.0)"
   ]
  },
  {
   "cell_type": "code",
   "execution_count": 40,
   "id": "9487bd1c",
   "metadata": {},
   "outputs": [
    {
     "data": {
      "text/plain": [
       "Unaccompanied      248526\n",
       "Family              40149\n",
       "Spouse, partner     11370\n",
       "Children             3267\n",
       "Other_B              1770\n",
       "Other_A               866\n",
       "Group of people       271\n",
       "Name: NAME_TYPE_SUITE, dtype: int64"
      ]
     },
     "execution_count": 40,
     "metadata": {},
     "output_type": "execute_result"
    }
   ],
   "source": [
    "client_appl[\"NAME_TYPE_SUITE\"].value_counts()  # Categorical"
   ]
  },
  {
   "cell_type": "code",
   "execution_count": 41,
   "id": "186da960",
   "metadata": {},
   "outputs": [],
   "source": [
    "# filling null values with mode\n",
    "client_appl[\"NAME_TYPE_SUITE\"] = client_appl[\"NAME_TYPE_SUITE\"].fillna(\"Unaccompanied\")"
   ]
  },
  {
   "cell_type": "code",
   "execution_count": 42,
   "id": "ffafded8",
   "metadata": {},
   "outputs": [
    {
     "data": {
      "text/plain": [
       "0.0      163910\n",
       "1.0       48783\n",
       "2.0       29808\n",
       "3.0       20322\n",
       "4.0       14143\n",
       "5.0        9553\n",
       "6.0        6453\n",
       "7.0        4390\n",
       "8.0        2967\n",
       "9.0        2003\n",
       "10.0       1376\n",
       "11.0        852\n",
       "12.0        652\n",
       "13.0        411\n",
       "14.0        258\n",
       "15.0        166\n",
       "16.0        133\n",
       "17.0         88\n",
       "18.0         46\n",
       "19.0         44\n",
       "20.0         30\n",
       "21.0         29\n",
       "22.0         22\n",
       "23.0         15\n",
       "25.0         11\n",
       "24.0         11\n",
       "27.0          5\n",
       "26.0          3\n",
       "30.0          2\n",
       "28.0          1\n",
       "29.0          1\n",
       "47.0          1\n",
       "348.0         1\n",
       "Name: OBS_30_CNT_SOCIAL_CIRCLE, dtype: int64"
      ]
     },
     "execution_count": 42,
     "metadata": {},
     "output_type": "execute_result"
    }
   ],
   "source": [
    "client_appl[\"OBS_30_CNT_SOCIAL_CIRCLE\"].value_counts() #numerical           "
   ]
  },
  {
   "cell_type": "code",
   "execution_count": 43,
   "id": "649e9a2a",
   "metadata": {},
   "outputs": [
    {
     "data": {
      "text/plain": [
       "count    306490.000000\n",
       "mean          1.422245\n",
       "std           2.400989\n",
       "min           0.000000\n",
       "25%           0.000000\n",
       "50%           0.000000\n",
       "75%           2.000000\n",
       "max         348.000000\n",
       "Name: OBS_30_CNT_SOCIAL_CIRCLE, dtype: float64"
      ]
     },
     "execution_count": 43,
     "metadata": {},
     "output_type": "execute_result"
    }
   ],
   "source": [
    "client_appl[\"OBS_30_CNT_SOCIAL_CIRCLE\"].describe()"
   ]
  },
  {
   "cell_type": "code",
   "execution_count": 44,
   "id": "886d1e21",
   "metadata": {},
   "outputs": [],
   "source": [
    "# filling null values with median\n",
    "client_appl[\"OBS_30_CNT_SOCIAL_CIRCLE\"] = client_appl[\"OBS_30_CNT_SOCIAL_CIRCLE\"].fillna(0.0)"
   ]
  },
  {
   "cell_type": "code",
   "execution_count": 45,
   "id": "9bbccd42",
   "metadata": {},
   "outputs": [
    {
     "data": {
      "text/plain": [
       "count    306490.000000\n",
       "mean          0.143421\n",
       "std           0.446698\n",
       "min           0.000000\n",
       "25%           0.000000\n",
       "50%           0.000000\n",
       "75%           0.000000\n",
       "max          34.000000\n",
       "Name: DEF_30_CNT_SOCIAL_CIRCLE, dtype: float64"
      ]
     },
     "execution_count": 45,
     "metadata": {},
     "output_type": "execute_result"
    }
   ],
   "source": [
    "# there are 3 more columns just like above so doing same steps\n",
    "client_appl[\"DEF_30_CNT_SOCIAL_CIRCLE\"].describe()"
   ]
  },
  {
   "cell_type": "code",
   "execution_count": 46,
   "id": "312b4594",
   "metadata": {},
   "outputs": [],
   "source": [
    "client_appl[\"DEF_30_CNT_SOCIAL_CIRCLE\"] = client_appl[\"DEF_30_CNT_SOCIAL_CIRCLE\"].fillna(0.0)"
   ]
  },
  {
   "cell_type": "code",
   "execution_count": 47,
   "id": "5c7be01c",
   "metadata": {},
   "outputs": [
    {
     "data": {
      "text/plain": [
       "count    306490.000000\n",
       "mean          1.405292\n",
       "std           2.379803\n",
       "min           0.000000\n",
       "25%           0.000000\n",
       "50%           0.000000\n",
       "75%           2.000000\n",
       "max         344.000000\n",
       "Name: OBS_60_CNT_SOCIAL_CIRCLE, dtype: float64"
      ]
     },
     "execution_count": 47,
     "metadata": {},
     "output_type": "execute_result"
    }
   ],
   "source": [
    "client_appl[\"OBS_60_CNT_SOCIAL_CIRCLE\"].describe()"
   ]
  },
  {
   "cell_type": "code",
   "execution_count": 48,
   "id": "76052471",
   "metadata": {},
   "outputs": [],
   "source": [
    "client_appl[\"OBS_60_CNT_SOCIAL_CIRCLE\"] = client_appl[\"OBS_60_CNT_SOCIAL_CIRCLE\"].fillna(0.0)"
   ]
  },
  {
   "cell_type": "code",
   "execution_count": 49,
   "id": "687eced8",
   "metadata": {},
   "outputs": [
    {
     "data": {
      "text/plain": [
       "count    306490.000000\n",
       "mean          0.100049\n",
       "std           0.362291\n",
       "min           0.000000\n",
       "25%           0.000000\n",
       "50%           0.000000\n",
       "75%           0.000000\n",
       "max          24.000000\n",
       "Name: DEF_60_CNT_SOCIAL_CIRCLE, dtype: float64"
      ]
     },
     "execution_count": 49,
     "metadata": {},
     "output_type": "execute_result"
    }
   ],
   "source": [
    "client_appl[\"DEF_60_CNT_SOCIAL_CIRCLE\"].describe()"
   ]
  },
  {
   "cell_type": "code",
   "execution_count": 50,
   "id": "609b192c",
   "metadata": {},
   "outputs": [],
   "source": [
    "client_appl[\"DEF_60_CNT_SOCIAL_CIRCLE\"] = client_appl[\"DEF_60_CNT_SOCIAL_CIRCLE\"].fillna(0.0)"
   ]
  },
  {
   "cell_type": "code",
   "execution_count": 51,
   "id": "0be56248",
   "metadata": {},
   "outputs": [
    {
     "data": {
      "text/plain": [
       "0.285898    721\n",
       "0.262258    417\n",
       "0.265256    343\n",
       "0.159679    322\n",
       "0.265312    306\n",
       "           ... \n",
       "0.004725      1\n",
       "0.257313      1\n",
       "0.282030      1\n",
       "0.181540      1\n",
       "0.267834      1\n",
       "Name: EXT_SOURCE_2, Length: 119831, dtype: int64"
      ]
     },
     "execution_count": 51,
     "metadata": {},
     "output_type": "execute_result"
    }
   ],
   "source": [
    "client_appl[\"EXT_SOURCE_2\"].value_counts()  # numerical"
   ]
  },
  {
   "cell_type": "code",
   "execution_count": 52,
   "id": "0919f47b",
   "metadata": {},
   "outputs": [
    {
     "data": {
      "text/plain": [
       "count    3.068510e+05\n",
       "mean     5.143927e-01\n",
       "std      1.910602e-01\n",
       "min      8.173617e-08\n",
       "25%      3.924574e-01\n",
       "50%      5.659614e-01\n",
       "75%      6.636171e-01\n",
       "max      8.549997e-01\n",
       "Name: EXT_SOURCE_2, dtype: float64"
      ]
     },
     "execution_count": 52,
     "metadata": {},
     "output_type": "execute_result"
    }
   ],
   "source": [
    "client_appl[\"EXT_SOURCE_2\"].describe()"
   ]
  },
  {
   "cell_type": "code",
   "execution_count": 53,
   "id": "e9e932c3",
   "metadata": {},
   "outputs": [
    {
     "data": {
      "text/plain": [
       "0.5659614260608526"
      ]
     },
     "execution_count": 53,
     "metadata": {},
     "output_type": "execute_result"
    }
   ],
   "source": [
    "# it is not in the format so\n",
    "client_appl[\"EXT_SOURCE_2\"].median()"
   ]
  },
  {
   "cell_type": "code",
   "execution_count": 54,
   "id": "37bf9a95",
   "metadata": {},
   "outputs": [],
   "source": [
    "client_appl[\"EXT_SOURCE_2\"] = client_appl[\"EXT_SOURCE_2\"].fillna(0.566)"
   ]
  },
  {
   "cell_type": "code",
   "execution_count": 55,
   "id": "961445e9",
   "metadata": {},
   "outputs": [
    {
     "data": {
      "text/plain": [
       "450000.0     26022\n",
       "225000.0     25282\n",
       "675000.0     24962\n",
       "900000.0     15416\n",
       "270000.0     11428\n",
       "             ...  \n",
       "1265751.0        1\n",
       "503266.5         1\n",
       "810778.5         1\n",
       "666090.0         1\n",
       "743863.5         1\n",
       "Name: AMT_GOODS_PRICE, Length: 1002, dtype: int64"
      ]
     },
     "execution_count": 55,
     "metadata": {},
     "output_type": "execute_result"
    }
   ],
   "source": [
    "client_appl[\"AMT_GOODS_PRICE\"].value_counts()  # numerical             "
   ]
  },
  {
   "cell_type": "code",
   "execution_count": 56,
   "id": "0ea5f011",
   "metadata": {},
   "outputs": [
    {
     "data": {
      "text/plain": [
       "count    3.072330e+05\n",
       "mean     5.383962e+05\n",
       "std      3.694465e+05\n",
       "min      4.050000e+04\n",
       "25%      2.385000e+05\n",
       "50%      4.500000e+05\n",
       "75%      6.795000e+05\n",
       "max      4.050000e+06\n",
       "Name: AMT_GOODS_PRICE, dtype: float64"
      ]
     },
     "execution_count": 56,
     "metadata": {},
     "output_type": "execute_result"
    }
   ],
   "source": [
    "client_appl[\"AMT_GOODS_PRICE\"].describe()"
   ]
  },
  {
   "cell_type": "code",
   "execution_count": 57,
   "id": "8c40ab55",
   "metadata": {},
   "outputs": [
    {
     "data": {
      "text/plain": [
       "450000.0"
      ]
     },
     "execution_count": 57,
     "metadata": {},
     "output_type": "execute_result"
    }
   ],
   "source": [
    "client_appl[\"AMT_GOODS_PRICE\"].median()"
   ]
  },
  {
   "cell_type": "code",
   "execution_count": 58,
   "id": "064cfde5",
   "metadata": {},
   "outputs": [],
   "source": [
    "client_appl[\"AMT_GOODS_PRICE\"] = client_appl[\"AMT_GOODS_PRICE\"].fillna(450000.0)"
   ]
  },
  {
   "cell_type": "code",
   "execution_count": 59,
   "id": "ea2663fe",
   "metadata": {},
   "outputs": [
    {
     "data": {
      "text/plain": [
       "9000.0      6385\n",
       "13500.0     5514\n",
       "6750.0      2279\n",
       "10125.0     2035\n",
       "37800.0     1602\n",
       "            ... \n",
       "79902.0        1\n",
       "106969.5       1\n",
       "60885.0        1\n",
       "59661.0        1\n",
       "77809.5        1\n",
       "Name: AMT_ANNUITY, Length: 13672, dtype: int64"
      ]
     },
     "execution_count": 59,
     "metadata": {},
     "output_type": "execute_result"
    }
   ],
   "source": [
    "client_appl[\"AMT_ANNUITY\"].value_counts()  # numerical            "
   ]
  },
  {
   "cell_type": "code",
   "execution_count": 60,
   "id": "561d0900",
   "metadata": {},
   "outputs": [
    {
     "data": {
      "text/plain": [
       "24903.0"
      ]
     },
     "execution_count": 60,
     "metadata": {},
     "output_type": "execute_result"
    }
   ],
   "source": [
    "client_appl[\"AMT_ANNUITY\"].median()"
   ]
  },
  {
   "cell_type": "code",
   "execution_count": 61,
   "id": "04a8c428",
   "metadata": {},
   "outputs": [],
   "source": [
    "client_appl[\"AMT_ANNUITY\"] = client_appl[\"AMT_ANNUITY\"].fillna(24903.0)"
   ]
  },
  {
   "cell_type": "code",
   "execution_count": 62,
   "id": "059aed2a",
   "metadata": {},
   "outputs": [
    {
     "data": {
      "text/plain": [
       "2.0     158357\n",
       "1.0      67847\n",
       "3.0      52601\n",
       "4.0      24697\n",
       "5.0       3478\n",
       "6.0        408\n",
       "7.0         81\n",
       "8.0         20\n",
       "9.0          6\n",
       "10.0         3\n",
       "14.0         2\n",
       "12.0         2\n",
       "20.0         2\n",
       "16.0         2\n",
       "13.0         1\n",
       "15.0         1\n",
       "11.0         1\n",
       "Name: CNT_FAM_MEMBERS, dtype: int64"
      ]
     },
     "execution_count": 62,
     "metadata": {},
     "output_type": "execute_result"
    }
   ],
   "source": [
    "client_appl[\"CNT_FAM_MEMBERS\"].value_counts()  # numerical     "
   ]
  },
  {
   "cell_type": "code",
   "execution_count": 63,
   "id": "27e193a6",
   "metadata": {},
   "outputs": [
    {
     "data": {
      "text/plain": [
       "2.0"
      ]
     },
     "execution_count": 63,
     "metadata": {},
     "output_type": "execute_result"
    }
   ],
   "source": [
    "client_appl[\"CNT_FAM_MEMBERS\"].median()"
   ]
  },
  {
   "cell_type": "code",
   "execution_count": 64,
   "id": "c717d56a",
   "metadata": {},
   "outputs": [],
   "source": [
    "client_appl[\"CNT_FAM_MEMBERS\"] = client_appl[\"CNT_FAM_MEMBERS\"].fillna(2.0)"
   ]
  },
  {
   "cell_type": "code",
   "execution_count": 65,
   "id": "799f6e28",
   "metadata": {
    "scrolled": true
   },
   "outputs": [
    {
     "data": {
      "text/plain": [
       " 0.0       37672\n",
       "-1.0        2812\n",
       "-2.0        2318\n",
       "-3.0        1763\n",
       "-4.0        1285\n",
       "           ...  \n",
       "-4051.0        1\n",
       "-3593.0        1\n",
       "-3622.0        1\n",
       "-3570.0        1\n",
       "-3538.0        1\n",
       "Name: DAYS_LAST_PHONE_CHANGE, Length: 3773, dtype: int64"
      ]
     },
     "execution_count": 65,
     "metadata": {},
     "output_type": "execute_result"
    }
   ],
   "source": [
    "client_appl[\"DAYS_LAST_PHONE_CHANGE\"].value_counts()       "
   ]
  },
  {
   "cell_type": "code",
   "execution_count": 66,
   "id": "59db6980",
   "metadata": {},
   "outputs": [
    {
     "data": {
      "text/plain": [
       "-757.0"
      ]
     },
     "execution_count": 66,
     "metadata": {},
     "output_type": "execute_result"
    }
   ],
   "source": [
    "client_appl[\"DAYS_LAST_PHONE_CHANGE\"].median()"
   ]
  },
  {
   "cell_type": "code",
   "execution_count": 67,
   "id": "242d28ef",
   "metadata": {},
   "outputs": [],
   "source": [
    "client_appl[\"DAYS_LAST_PHONE_CHANGE\"] = client_appl[\"DAYS_LAST_PHONE_CHANGE\"].fillna(-757.0)"
   ]
  },
  {
   "cell_type": "code",
   "execution_count": 68,
   "id": "1c7c63e7",
   "metadata": {},
   "outputs": [
    {
     "data": {
      "text/plain": [
       "SK_ID_CURR                     0\n",
       "TARGET                         0\n",
       "NAME_CONTRACT_TYPE             0\n",
       "CODE_GENDER                    0\n",
       "FLAG_OWN_CAR                   0\n",
       "FLAG_OWN_REALTY                0\n",
       "CNT_CHILDREN                   0\n",
       "AMT_INCOME_TOTAL               0\n",
       "AMT_CREDIT                     0\n",
       "AMT_ANNUITY                    0\n",
       "AMT_GOODS_PRICE                0\n",
       "NAME_TYPE_SUITE                0\n",
       "NAME_INCOME_TYPE               0\n",
       "NAME_EDUCATION_TYPE            0\n",
       "NAME_FAMILY_STATUS             0\n",
       "NAME_HOUSING_TYPE              0\n",
       "REGION_POPULATION_RELATIVE     0\n",
       "DAYS_BIRTH                     0\n",
       "DAYS_EMPLOYED                  0\n",
       "DAYS_REGISTRATION              0\n",
       "DAYS_ID_PUBLISH                0\n",
       "FLAG_MOBIL                     0\n",
       "FLAG_EMP_PHONE                 0\n",
       "FLAG_WORK_PHONE                0\n",
       "FLAG_CONT_MOBILE               0\n",
       "FLAG_PHONE                     0\n",
       "FLAG_EMAIL                     0\n",
       "OCCUPATION_TYPE                0\n",
       "CNT_FAM_MEMBERS                0\n",
       "REGION_RATING_CLIENT           0\n",
       "REGION_RATING_CLIENT_W_CITY    0\n",
       "WEEKDAY_APPR_PROCESS_START     0\n",
       "HOUR_APPR_PROCESS_START        0\n",
       "REG_REGION_NOT_LIVE_REGION     0\n",
       "REG_REGION_NOT_WORK_REGION     0\n",
       "LIVE_REGION_NOT_WORK_REGION    0\n",
       "REG_CITY_NOT_LIVE_CITY         0\n",
       "REG_CITY_NOT_WORK_CITY         0\n",
       "LIVE_CITY_NOT_WORK_CITY        0\n",
       "ORGANIZATION_TYPE              0\n",
       "EXT_SOURCE_2                   0\n",
       "EXT_SOURCE_3                   0\n",
       "OBS_30_CNT_SOCIAL_CIRCLE       0\n",
       "DEF_30_CNT_SOCIAL_CIRCLE       0\n",
       "OBS_60_CNT_SOCIAL_CIRCLE       0\n",
       "DEF_60_CNT_SOCIAL_CIRCLE       0\n",
       "DAYS_LAST_PHONE_CHANGE         0\n",
       "FLAG_DOCUMENT_2                0\n",
       "FLAG_DOCUMENT_3                0\n",
       "FLAG_DOCUMENT_4                0\n",
       "FLAG_DOCUMENT_5                0\n",
       "FLAG_DOCUMENT_6                0\n",
       "FLAG_DOCUMENT_7                0\n",
       "FLAG_DOCUMENT_8                0\n",
       "FLAG_DOCUMENT_9                0\n",
       "FLAG_DOCUMENT_10               0\n",
       "FLAG_DOCUMENT_11               0\n",
       "FLAG_DOCUMENT_12               0\n",
       "FLAG_DOCUMENT_13               0\n",
       "FLAG_DOCUMENT_14               0\n",
       "FLAG_DOCUMENT_15               0\n",
       "FLAG_DOCUMENT_16               0\n",
       "FLAG_DOCUMENT_17               0\n",
       "FLAG_DOCUMENT_18               0\n",
       "FLAG_DOCUMENT_19               0\n",
       "FLAG_DOCUMENT_20               0\n",
       "FLAG_DOCUMENT_21               0\n",
       "AMT_REQ_CREDIT_BUREAU_HOUR     0\n",
       "AMT_REQ_CREDIT_BUREAU_DAY      0\n",
       "AMT_REQ_CREDIT_BUREAU_WEEK     0\n",
       "AMT_REQ_CREDIT_BUREAU_MON      0\n",
       "AMT_REQ_CREDIT_BUREAU_QRT      0\n",
       "AMT_REQ_CREDIT_BUREAU_YEAR     0\n",
       "dtype: int64"
      ]
     },
     "execution_count": 68,
     "metadata": {},
     "output_type": "execute_result"
    }
   ],
   "source": [
    "# So all the imputation part is finished so checking count of null values\n",
    "client_appl.isna().sum()"
   ]
  },
  {
   "cell_type": "markdown",
   "id": "efce1895",
   "metadata": {},
   "source": [
    "**Checking for data type errors and errors in values in catgorical column**"
   ]
  },
  {
   "cell_type": "code",
   "execution_count": 69,
   "id": "9476c1ef",
   "metadata": {},
   "outputs": [
    {
     "data": {
      "text/plain": [
       "SK_ID_CURR                       int64\n",
       "TARGET                           int64\n",
       "NAME_CONTRACT_TYPE              object\n",
       "CODE_GENDER                     object\n",
       "FLAG_OWN_CAR                    object\n",
       "FLAG_OWN_REALTY                 object\n",
       "CNT_CHILDREN                     int64\n",
       "AMT_INCOME_TOTAL               float64\n",
       "AMT_CREDIT                     float64\n",
       "AMT_ANNUITY                    float64\n",
       "AMT_GOODS_PRICE                float64\n",
       "NAME_TYPE_SUITE                 object\n",
       "NAME_INCOME_TYPE                object\n",
       "NAME_EDUCATION_TYPE             object\n",
       "NAME_FAMILY_STATUS              object\n",
       "NAME_HOUSING_TYPE               object\n",
       "REGION_POPULATION_RELATIVE     float64\n",
       "DAYS_BIRTH                       int64\n",
       "DAYS_EMPLOYED                    int64\n",
       "DAYS_REGISTRATION              float64\n",
       "DAYS_ID_PUBLISH                  int64\n",
       "FLAG_MOBIL                       int64\n",
       "FLAG_EMP_PHONE                   int64\n",
       "FLAG_WORK_PHONE                  int64\n",
       "FLAG_CONT_MOBILE                 int64\n",
       "FLAG_PHONE                       int64\n",
       "FLAG_EMAIL                       int64\n",
       "OCCUPATION_TYPE                 object\n",
       "CNT_FAM_MEMBERS                float64\n",
       "REGION_RATING_CLIENT             int64\n",
       "REGION_RATING_CLIENT_W_CITY      int64\n",
       "WEEKDAY_APPR_PROCESS_START      object\n",
       "HOUR_APPR_PROCESS_START          int64\n",
       "REG_REGION_NOT_LIVE_REGION       int64\n",
       "REG_REGION_NOT_WORK_REGION       int64\n",
       "LIVE_REGION_NOT_WORK_REGION      int64\n",
       "REG_CITY_NOT_LIVE_CITY           int64\n",
       "REG_CITY_NOT_WORK_CITY           int64\n",
       "LIVE_CITY_NOT_WORK_CITY          int64\n",
       "ORGANIZATION_TYPE               object\n",
       "EXT_SOURCE_2                   float64\n",
       "EXT_SOURCE_3                   float64\n",
       "OBS_30_CNT_SOCIAL_CIRCLE       float64\n",
       "DEF_30_CNT_SOCIAL_CIRCLE       float64\n",
       "OBS_60_CNT_SOCIAL_CIRCLE       float64\n",
       "DEF_60_CNT_SOCIAL_CIRCLE       float64\n",
       "DAYS_LAST_PHONE_CHANGE         float64\n",
       "FLAG_DOCUMENT_2                  int64\n",
       "FLAG_DOCUMENT_3                  int64\n",
       "FLAG_DOCUMENT_4                  int64\n",
       "FLAG_DOCUMENT_5                  int64\n",
       "FLAG_DOCUMENT_6                  int64\n",
       "FLAG_DOCUMENT_7                  int64\n",
       "FLAG_DOCUMENT_8                  int64\n",
       "FLAG_DOCUMENT_9                  int64\n",
       "FLAG_DOCUMENT_10                 int64\n",
       "FLAG_DOCUMENT_11                 int64\n",
       "FLAG_DOCUMENT_12                 int64\n",
       "FLAG_DOCUMENT_13                 int64\n",
       "FLAG_DOCUMENT_14                 int64\n",
       "FLAG_DOCUMENT_15                 int64\n",
       "FLAG_DOCUMENT_16                 int64\n",
       "FLAG_DOCUMENT_17                 int64\n",
       "FLAG_DOCUMENT_18                 int64\n",
       "FLAG_DOCUMENT_19                 int64\n",
       "FLAG_DOCUMENT_20                 int64\n",
       "FLAG_DOCUMENT_21                 int64\n",
       "AMT_REQ_CREDIT_BUREAU_HOUR     float64\n",
       "AMT_REQ_CREDIT_BUREAU_DAY      float64\n",
       "AMT_REQ_CREDIT_BUREAU_WEEK     float64\n",
       "AMT_REQ_CREDIT_BUREAU_MON      float64\n",
       "AMT_REQ_CREDIT_BUREAU_QRT      float64\n",
       "AMT_REQ_CREDIT_BUREAU_YEAR     float64\n",
       "dtype: object"
      ]
     },
     "execution_count": 69,
     "metadata": {},
     "output_type": "execute_result"
    }
   ],
   "source": [
    "client_appl.dtypes"
   ]
  },
  {
   "cell_type": "code",
   "execution_count": 70,
   "id": "63416ccd",
   "metadata": {},
   "outputs": [
    {
     "data": {
      "text/html": [
       "<div>\n",
       "<style scoped>\n",
       "    .dataframe tbody tr th:only-of-type {\n",
       "        vertical-align: middle;\n",
       "    }\n",
       "\n",
       "    .dataframe tbody tr th {\n",
       "        vertical-align: top;\n",
       "    }\n",
       "\n",
       "    .dataframe thead th {\n",
       "        text-align: right;\n",
       "    }\n",
       "</style>\n",
       "<table border=\"1\" class=\"dataframe\">\n",
       "  <thead>\n",
       "    <tr style=\"text-align: right;\">\n",
       "      <th></th>\n",
       "      <th>SK_ID_CURR</th>\n",
       "      <th>TARGET</th>\n",
       "      <th>NAME_CONTRACT_TYPE</th>\n",
       "      <th>CODE_GENDER</th>\n",
       "      <th>FLAG_OWN_CAR</th>\n",
       "      <th>FLAG_OWN_REALTY</th>\n",
       "      <th>CNT_CHILDREN</th>\n",
       "      <th>AMT_INCOME_TOTAL</th>\n",
       "      <th>AMT_CREDIT</th>\n",
       "      <th>AMT_ANNUITY</th>\n",
       "      <th>AMT_GOODS_PRICE</th>\n",
       "      <th>NAME_TYPE_SUITE</th>\n",
       "      <th>NAME_INCOME_TYPE</th>\n",
       "      <th>NAME_EDUCATION_TYPE</th>\n",
       "      <th>NAME_FAMILY_STATUS</th>\n",
       "      <th>NAME_HOUSING_TYPE</th>\n",
       "      <th>REGION_POPULATION_RELATIVE</th>\n",
       "      <th>DAYS_BIRTH</th>\n",
       "      <th>DAYS_EMPLOYED</th>\n",
       "      <th>DAYS_REGISTRATION</th>\n",
       "      <th>DAYS_ID_PUBLISH</th>\n",
       "      <th>FLAG_MOBIL</th>\n",
       "      <th>FLAG_EMP_PHONE</th>\n",
       "      <th>FLAG_WORK_PHONE</th>\n",
       "      <th>FLAG_CONT_MOBILE</th>\n",
       "      <th>FLAG_PHONE</th>\n",
       "      <th>FLAG_EMAIL</th>\n",
       "      <th>OCCUPATION_TYPE</th>\n",
       "      <th>CNT_FAM_MEMBERS</th>\n",
       "      <th>REGION_RATING_CLIENT</th>\n",
       "      <th>REGION_RATING_CLIENT_W_CITY</th>\n",
       "      <th>WEEKDAY_APPR_PROCESS_START</th>\n",
       "      <th>HOUR_APPR_PROCESS_START</th>\n",
       "      <th>REG_REGION_NOT_LIVE_REGION</th>\n",
       "      <th>REG_REGION_NOT_WORK_REGION</th>\n",
       "      <th>LIVE_REGION_NOT_WORK_REGION</th>\n",
       "      <th>REG_CITY_NOT_LIVE_CITY</th>\n",
       "      <th>REG_CITY_NOT_WORK_CITY</th>\n",
       "      <th>LIVE_CITY_NOT_WORK_CITY</th>\n",
       "      <th>ORGANIZATION_TYPE</th>\n",
       "      <th>EXT_SOURCE_2</th>\n",
       "      <th>EXT_SOURCE_3</th>\n",
       "      <th>OBS_30_CNT_SOCIAL_CIRCLE</th>\n",
       "      <th>DEF_30_CNT_SOCIAL_CIRCLE</th>\n",
       "      <th>OBS_60_CNT_SOCIAL_CIRCLE</th>\n",
       "      <th>DEF_60_CNT_SOCIAL_CIRCLE</th>\n",
       "      <th>DAYS_LAST_PHONE_CHANGE</th>\n",
       "      <th>FLAG_DOCUMENT_2</th>\n",
       "      <th>FLAG_DOCUMENT_3</th>\n",
       "      <th>FLAG_DOCUMENT_4</th>\n",
       "      <th>FLAG_DOCUMENT_5</th>\n",
       "      <th>FLAG_DOCUMENT_6</th>\n",
       "      <th>FLAG_DOCUMENT_7</th>\n",
       "      <th>FLAG_DOCUMENT_8</th>\n",
       "      <th>FLAG_DOCUMENT_9</th>\n",
       "      <th>FLAG_DOCUMENT_10</th>\n",
       "      <th>FLAG_DOCUMENT_11</th>\n",
       "      <th>FLAG_DOCUMENT_12</th>\n",
       "      <th>FLAG_DOCUMENT_13</th>\n",
       "      <th>FLAG_DOCUMENT_14</th>\n",
       "      <th>FLAG_DOCUMENT_15</th>\n",
       "      <th>FLAG_DOCUMENT_16</th>\n",
       "      <th>FLAG_DOCUMENT_17</th>\n",
       "      <th>FLAG_DOCUMENT_18</th>\n",
       "      <th>FLAG_DOCUMENT_19</th>\n",
       "      <th>FLAG_DOCUMENT_20</th>\n",
       "      <th>FLAG_DOCUMENT_21</th>\n",
       "      <th>AMT_REQ_CREDIT_BUREAU_HOUR</th>\n",
       "      <th>AMT_REQ_CREDIT_BUREAU_DAY</th>\n",
       "      <th>AMT_REQ_CREDIT_BUREAU_WEEK</th>\n",
       "      <th>AMT_REQ_CREDIT_BUREAU_MON</th>\n",
       "      <th>AMT_REQ_CREDIT_BUREAU_QRT</th>\n",
       "      <th>AMT_REQ_CREDIT_BUREAU_YEAR</th>\n",
       "    </tr>\n",
       "  </thead>\n",
       "  <tbody>\n",
       "    <tr>\n",
       "      <th>0</th>\n",
       "      <td>100002</td>\n",
       "      <td>1</td>\n",
       "      <td>Cash loans</td>\n",
       "      <td>M</td>\n",
       "      <td>N</td>\n",
       "      <td>Y</td>\n",
       "      <td>0</td>\n",
       "      <td>202500.0</td>\n",
       "      <td>406597.5</td>\n",
       "      <td>24700.5</td>\n",
       "      <td>351000.0</td>\n",
       "      <td>Unaccompanied</td>\n",
       "      <td>Working</td>\n",
       "      <td>Secondary / secondary special</td>\n",
       "      <td>Single / not married</td>\n",
       "      <td>House / apartment</td>\n",
       "      <td>0.018801</td>\n",
       "      <td>-9461</td>\n",
       "      <td>-637</td>\n",
       "      <td>-3648.0</td>\n",
       "      <td>-2120</td>\n",
       "      <td>1</td>\n",
       "      <td>1</td>\n",
       "      <td>0</td>\n",
       "      <td>1</td>\n",
       "      <td>1</td>\n",
       "      <td>0</td>\n",
       "      <td>Laborers</td>\n",
       "      <td>1.0</td>\n",
       "      <td>2</td>\n",
       "      <td>2</td>\n",
       "      <td>WEDNESDAY</td>\n",
       "      <td>10</td>\n",
       "      <td>0</td>\n",
       "      <td>0</td>\n",
       "      <td>0</td>\n",
       "      <td>0</td>\n",
       "      <td>0</td>\n",
       "      <td>0</td>\n",
       "      <td>Business Entity Type 3</td>\n",
       "      <td>0.262949</td>\n",
       "      <td>0.139376</td>\n",
       "      <td>2.0</td>\n",
       "      <td>2.0</td>\n",
       "      <td>2.0</td>\n",
       "      <td>2.0</td>\n",
       "      <td>-1134.0</td>\n",
       "      <td>0</td>\n",
       "      <td>1</td>\n",
       "      <td>0</td>\n",
       "      <td>0</td>\n",
       "      <td>0</td>\n",
       "      <td>0</td>\n",
       "      <td>0</td>\n",
       "      <td>0</td>\n",
       "      <td>0</td>\n",
       "      <td>0</td>\n",
       "      <td>0</td>\n",
       "      <td>0</td>\n",
       "      <td>0</td>\n",
       "      <td>0</td>\n",
       "      <td>0</td>\n",
       "      <td>0</td>\n",
       "      <td>0</td>\n",
       "      <td>0</td>\n",
       "      <td>0</td>\n",
       "      <td>0</td>\n",
       "      <td>0.0</td>\n",
       "      <td>0.0</td>\n",
       "      <td>0.0</td>\n",
       "      <td>0.0</td>\n",
       "      <td>0.0</td>\n",
       "      <td>1.0</td>\n",
       "    </tr>\n",
       "    <tr>\n",
       "      <th>1</th>\n",
       "      <td>100003</td>\n",
       "      <td>0</td>\n",
       "      <td>Cash loans</td>\n",
       "      <td>F</td>\n",
       "      <td>N</td>\n",
       "      <td>N</td>\n",
       "      <td>0</td>\n",
       "      <td>270000.0</td>\n",
       "      <td>1293502.5</td>\n",
       "      <td>35698.5</td>\n",
       "      <td>1129500.0</td>\n",
       "      <td>Family</td>\n",
       "      <td>State servant</td>\n",
       "      <td>Higher education</td>\n",
       "      <td>Married</td>\n",
       "      <td>House / apartment</td>\n",
       "      <td>0.003541</td>\n",
       "      <td>-16765</td>\n",
       "      <td>-1188</td>\n",
       "      <td>-1186.0</td>\n",
       "      <td>-291</td>\n",
       "      <td>1</td>\n",
       "      <td>1</td>\n",
       "      <td>0</td>\n",
       "      <td>1</td>\n",
       "      <td>1</td>\n",
       "      <td>0</td>\n",
       "      <td>Core staff</td>\n",
       "      <td>2.0</td>\n",
       "      <td>1</td>\n",
       "      <td>1</td>\n",
       "      <td>MONDAY</td>\n",
       "      <td>11</td>\n",
       "      <td>0</td>\n",
       "      <td>0</td>\n",
       "      <td>0</td>\n",
       "      <td>0</td>\n",
       "      <td>0</td>\n",
       "      <td>0</td>\n",
       "      <td>School</td>\n",
       "      <td>0.622246</td>\n",
       "      <td>0.535276</td>\n",
       "      <td>1.0</td>\n",
       "      <td>0.0</td>\n",
       "      <td>1.0</td>\n",
       "      <td>0.0</td>\n",
       "      <td>-828.0</td>\n",
       "      <td>0</td>\n",
       "      <td>1</td>\n",
       "      <td>0</td>\n",
       "      <td>0</td>\n",
       "      <td>0</td>\n",
       "      <td>0</td>\n",
       "      <td>0</td>\n",
       "      <td>0</td>\n",
       "      <td>0</td>\n",
       "      <td>0</td>\n",
       "      <td>0</td>\n",
       "      <td>0</td>\n",
       "      <td>0</td>\n",
       "      <td>0</td>\n",
       "      <td>0</td>\n",
       "      <td>0</td>\n",
       "      <td>0</td>\n",
       "      <td>0</td>\n",
       "      <td>0</td>\n",
       "      <td>0</td>\n",
       "      <td>0.0</td>\n",
       "      <td>0.0</td>\n",
       "      <td>0.0</td>\n",
       "      <td>0.0</td>\n",
       "      <td>0.0</td>\n",
       "      <td>0.0</td>\n",
       "    </tr>\n",
       "    <tr>\n",
       "      <th>2</th>\n",
       "      <td>100004</td>\n",
       "      <td>0</td>\n",
       "      <td>Revolving loans</td>\n",
       "      <td>M</td>\n",
       "      <td>Y</td>\n",
       "      <td>Y</td>\n",
       "      <td>0</td>\n",
       "      <td>67500.0</td>\n",
       "      <td>135000.0</td>\n",
       "      <td>6750.0</td>\n",
       "      <td>135000.0</td>\n",
       "      <td>Unaccompanied</td>\n",
       "      <td>Working</td>\n",
       "      <td>Secondary / secondary special</td>\n",
       "      <td>Single / not married</td>\n",
       "      <td>House / apartment</td>\n",
       "      <td>0.010032</td>\n",
       "      <td>-19046</td>\n",
       "      <td>-225</td>\n",
       "      <td>-4260.0</td>\n",
       "      <td>-2531</td>\n",
       "      <td>1</td>\n",
       "      <td>1</td>\n",
       "      <td>1</td>\n",
       "      <td>1</td>\n",
       "      <td>1</td>\n",
       "      <td>0</td>\n",
       "      <td>Laborers</td>\n",
       "      <td>1.0</td>\n",
       "      <td>2</td>\n",
       "      <td>2</td>\n",
       "      <td>MONDAY</td>\n",
       "      <td>9</td>\n",
       "      <td>0</td>\n",
       "      <td>0</td>\n",
       "      <td>0</td>\n",
       "      <td>0</td>\n",
       "      <td>0</td>\n",
       "      <td>0</td>\n",
       "      <td>Government</td>\n",
       "      <td>0.555912</td>\n",
       "      <td>0.729567</td>\n",
       "      <td>0.0</td>\n",
       "      <td>0.0</td>\n",
       "      <td>0.0</td>\n",
       "      <td>0.0</td>\n",
       "      <td>-815.0</td>\n",
       "      <td>0</td>\n",
       "      <td>0</td>\n",
       "      <td>0</td>\n",
       "      <td>0</td>\n",
       "      <td>0</td>\n",
       "      <td>0</td>\n",
       "      <td>0</td>\n",
       "      <td>0</td>\n",
       "      <td>0</td>\n",
       "      <td>0</td>\n",
       "      <td>0</td>\n",
       "      <td>0</td>\n",
       "      <td>0</td>\n",
       "      <td>0</td>\n",
       "      <td>0</td>\n",
       "      <td>0</td>\n",
       "      <td>0</td>\n",
       "      <td>0</td>\n",
       "      <td>0</td>\n",
       "      <td>0</td>\n",
       "      <td>0.0</td>\n",
       "      <td>0.0</td>\n",
       "      <td>0.0</td>\n",
       "      <td>0.0</td>\n",
       "      <td>0.0</td>\n",
       "      <td>0.0</td>\n",
       "    </tr>\n",
       "    <tr>\n",
       "      <th>3</th>\n",
       "      <td>100006</td>\n",
       "      <td>0</td>\n",
       "      <td>Cash loans</td>\n",
       "      <td>F</td>\n",
       "      <td>N</td>\n",
       "      <td>Y</td>\n",
       "      <td>0</td>\n",
       "      <td>135000.0</td>\n",
       "      <td>312682.5</td>\n",
       "      <td>29686.5</td>\n",
       "      <td>297000.0</td>\n",
       "      <td>Unaccompanied</td>\n",
       "      <td>Working</td>\n",
       "      <td>Secondary / secondary special</td>\n",
       "      <td>Civil marriage</td>\n",
       "      <td>House / apartment</td>\n",
       "      <td>0.008019</td>\n",
       "      <td>-19005</td>\n",
       "      <td>-3039</td>\n",
       "      <td>-9833.0</td>\n",
       "      <td>-2437</td>\n",
       "      <td>1</td>\n",
       "      <td>1</td>\n",
       "      <td>0</td>\n",
       "      <td>1</td>\n",
       "      <td>0</td>\n",
       "      <td>0</td>\n",
       "      <td>Laborers</td>\n",
       "      <td>2.0</td>\n",
       "      <td>2</td>\n",
       "      <td>2</td>\n",
       "      <td>WEDNESDAY</td>\n",
       "      <td>17</td>\n",
       "      <td>0</td>\n",
       "      <td>0</td>\n",
       "      <td>0</td>\n",
       "      <td>0</td>\n",
       "      <td>0</td>\n",
       "      <td>0</td>\n",
       "      <td>Business Entity Type 3</td>\n",
       "      <td>0.650442</td>\n",
       "      <td>0.535276</td>\n",
       "      <td>2.0</td>\n",
       "      <td>0.0</td>\n",
       "      <td>2.0</td>\n",
       "      <td>0.0</td>\n",
       "      <td>-617.0</td>\n",
       "      <td>0</td>\n",
       "      <td>1</td>\n",
       "      <td>0</td>\n",
       "      <td>0</td>\n",
       "      <td>0</td>\n",
       "      <td>0</td>\n",
       "      <td>0</td>\n",
       "      <td>0</td>\n",
       "      <td>0</td>\n",
       "      <td>0</td>\n",
       "      <td>0</td>\n",
       "      <td>0</td>\n",
       "      <td>0</td>\n",
       "      <td>0</td>\n",
       "      <td>0</td>\n",
       "      <td>0</td>\n",
       "      <td>0</td>\n",
       "      <td>0</td>\n",
       "      <td>0</td>\n",
       "      <td>0</td>\n",
       "      <td>0.0</td>\n",
       "      <td>0.0</td>\n",
       "      <td>0.0</td>\n",
       "      <td>0.0</td>\n",
       "      <td>0.0</td>\n",
       "      <td>1.0</td>\n",
       "    </tr>\n",
       "    <tr>\n",
       "      <th>4</th>\n",
       "      <td>100007</td>\n",
       "      <td>0</td>\n",
       "      <td>Cash loans</td>\n",
       "      <td>M</td>\n",
       "      <td>N</td>\n",
       "      <td>Y</td>\n",
       "      <td>0</td>\n",
       "      <td>121500.0</td>\n",
       "      <td>513000.0</td>\n",
       "      <td>21865.5</td>\n",
       "      <td>513000.0</td>\n",
       "      <td>Unaccompanied</td>\n",
       "      <td>Working</td>\n",
       "      <td>Secondary / secondary special</td>\n",
       "      <td>Single / not married</td>\n",
       "      <td>House / apartment</td>\n",
       "      <td>0.028663</td>\n",
       "      <td>-19932</td>\n",
       "      <td>-3038</td>\n",
       "      <td>-4311.0</td>\n",
       "      <td>-3458</td>\n",
       "      <td>1</td>\n",
       "      <td>1</td>\n",
       "      <td>0</td>\n",
       "      <td>1</td>\n",
       "      <td>0</td>\n",
       "      <td>0</td>\n",
       "      <td>Core staff</td>\n",
       "      <td>1.0</td>\n",
       "      <td>2</td>\n",
       "      <td>2</td>\n",
       "      <td>THURSDAY</td>\n",
       "      <td>11</td>\n",
       "      <td>0</td>\n",
       "      <td>0</td>\n",
       "      <td>0</td>\n",
       "      <td>0</td>\n",
       "      <td>1</td>\n",
       "      <td>1</td>\n",
       "      <td>Religion</td>\n",
       "      <td>0.322738</td>\n",
       "      <td>0.535276</td>\n",
       "      <td>0.0</td>\n",
       "      <td>0.0</td>\n",
       "      <td>0.0</td>\n",
       "      <td>0.0</td>\n",
       "      <td>-1106.0</td>\n",
       "      <td>0</td>\n",
       "      <td>0</td>\n",
       "      <td>0</td>\n",
       "      <td>0</td>\n",
       "      <td>0</td>\n",
       "      <td>0</td>\n",
       "      <td>1</td>\n",
       "      <td>0</td>\n",
       "      <td>0</td>\n",
       "      <td>0</td>\n",
       "      <td>0</td>\n",
       "      <td>0</td>\n",
       "      <td>0</td>\n",
       "      <td>0</td>\n",
       "      <td>0</td>\n",
       "      <td>0</td>\n",
       "      <td>0</td>\n",
       "      <td>0</td>\n",
       "      <td>0</td>\n",
       "      <td>0</td>\n",
       "      <td>0.0</td>\n",
       "      <td>0.0</td>\n",
       "      <td>0.0</td>\n",
       "      <td>0.0</td>\n",
       "      <td>0.0</td>\n",
       "      <td>0.0</td>\n",
       "    </tr>\n",
       "  </tbody>\n",
       "</table>\n",
       "</div>"
      ],
      "text/plain": [
       "   SK_ID_CURR  TARGET NAME_CONTRACT_TYPE CODE_GENDER FLAG_OWN_CAR  \\\n",
       "0      100002       1         Cash loans           M            N   \n",
       "1      100003       0         Cash loans           F            N   \n",
       "2      100004       0    Revolving loans           M            Y   \n",
       "3      100006       0         Cash loans           F            N   \n",
       "4      100007       0         Cash loans           M            N   \n",
       "\n",
       "  FLAG_OWN_REALTY  CNT_CHILDREN  AMT_INCOME_TOTAL  AMT_CREDIT  AMT_ANNUITY  \\\n",
       "0               Y             0          202500.0    406597.5      24700.5   \n",
       "1               N             0          270000.0   1293502.5      35698.5   \n",
       "2               Y             0           67500.0    135000.0       6750.0   \n",
       "3               Y             0          135000.0    312682.5      29686.5   \n",
       "4               Y             0          121500.0    513000.0      21865.5   \n",
       "\n",
       "   AMT_GOODS_PRICE NAME_TYPE_SUITE NAME_INCOME_TYPE  \\\n",
       "0         351000.0   Unaccompanied          Working   \n",
       "1        1129500.0          Family    State servant   \n",
       "2         135000.0   Unaccompanied          Working   \n",
       "3         297000.0   Unaccompanied          Working   \n",
       "4         513000.0   Unaccompanied          Working   \n",
       "\n",
       "             NAME_EDUCATION_TYPE    NAME_FAMILY_STATUS  NAME_HOUSING_TYPE  \\\n",
       "0  Secondary / secondary special  Single / not married  House / apartment   \n",
       "1               Higher education               Married  House / apartment   \n",
       "2  Secondary / secondary special  Single / not married  House / apartment   \n",
       "3  Secondary / secondary special        Civil marriage  House / apartment   \n",
       "4  Secondary / secondary special  Single / not married  House / apartment   \n",
       "\n",
       "   REGION_POPULATION_RELATIVE  DAYS_BIRTH  DAYS_EMPLOYED  DAYS_REGISTRATION  \\\n",
       "0                    0.018801       -9461           -637            -3648.0   \n",
       "1                    0.003541      -16765          -1188            -1186.0   \n",
       "2                    0.010032      -19046           -225            -4260.0   \n",
       "3                    0.008019      -19005          -3039            -9833.0   \n",
       "4                    0.028663      -19932          -3038            -4311.0   \n",
       "\n",
       "   DAYS_ID_PUBLISH  FLAG_MOBIL  FLAG_EMP_PHONE  FLAG_WORK_PHONE  \\\n",
       "0            -2120           1               1                0   \n",
       "1             -291           1               1                0   \n",
       "2            -2531           1               1                1   \n",
       "3            -2437           1               1                0   \n",
       "4            -3458           1               1                0   \n",
       "\n",
       "   FLAG_CONT_MOBILE  FLAG_PHONE  FLAG_EMAIL OCCUPATION_TYPE  CNT_FAM_MEMBERS  \\\n",
       "0                 1           1           0        Laborers              1.0   \n",
       "1                 1           1           0      Core staff              2.0   \n",
       "2                 1           1           0        Laborers              1.0   \n",
       "3                 1           0           0        Laborers              2.0   \n",
       "4                 1           0           0      Core staff              1.0   \n",
       "\n",
       "   REGION_RATING_CLIENT  REGION_RATING_CLIENT_W_CITY  \\\n",
       "0                     2                            2   \n",
       "1                     1                            1   \n",
       "2                     2                            2   \n",
       "3                     2                            2   \n",
       "4                     2                            2   \n",
       "\n",
       "  WEEKDAY_APPR_PROCESS_START  HOUR_APPR_PROCESS_START  \\\n",
       "0                  WEDNESDAY                       10   \n",
       "1                     MONDAY                       11   \n",
       "2                     MONDAY                        9   \n",
       "3                  WEDNESDAY                       17   \n",
       "4                   THURSDAY                       11   \n",
       "\n",
       "   REG_REGION_NOT_LIVE_REGION  REG_REGION_NOT_WORK_REGION  \\\n",
       "0                           0                           0   \n",
       "1                           0                           0   \n",
       "2                           0                           0   \n",
       "3                           0                           0   \n",
       "4                           0                           0   \n",
       "\n",
       "   LIVE_REGION_NOT_WORK_REGION  REG_CITY_NOT_LIVE_CITY  \\\n",
       "0                            0                       0   \n",
       "1                            0                       0   \n",
       "2                            0                       0   \n",
       "3                            0                       0   \n",
       "4                            0                       0   \n",
       "\n",
       "   REG_CITY_NOT_WORK_CITY  LIVE_CITY_NOT_WORK_CITY       ORGANIZATION_TYPE  \\\n",
       "0                       0                        0  Business Entity Type 3   \n",
       "1                       0                        0                  School   \n",
       "2                       0                        0              Government   \n",
       "3                       0                        0  Business Entity Type 3   \n",
       "4                       1                        1                Religion   \n",
       "\n",
       "   EXT_SOURCE_2  EXT_SOURCE_3  OBS_30_CNT_SOCIAL_CIRCLE  \\\n",
       "0      0.262949      0.139376                       2.0   \n",
       "1      0.622246      0.535276                       1.0   \n",
       "2      0.555912      0.729567                       0.0   \n",
       "3      0.650442      0.535276                       2.0   \n",
       "4      0.322738      0.535276                       0.0   \n",
       "\n",
       "   DEF_30_CNT_SOCIAL_CIRCLE  OBS_60_CNT_SOCIAL_CIRCLE  \\\n",
       "0                       2.0                       2.0   \n",
       "1                       0.0                       1.0   \n",
       "2                       0.0                       0.0   \n",
       "3                       0.0                       2.0   \n",
       "4                       0.0                       0.0   \n",
       "\n",
       "   DEF_60_CNT_SOCIAL_CIRCLE  DAYS_LAST_PHONE_CHANGE  FLAG_DOCUMENT_2  \\\n",
       "0                       2.0                 -1134.0                0   \n",
       "1                       0.0                  -828.0                0   \n",
       "2                       0.0                  -815.0                0   \n",
       "3                       0.0                  -617.0                0   \n",
       "4                       0.0                 -1106.0                0   \n",
       "\n",
       "   FLAG_DOCUMENT_3  FLAG_DOCUMENT_4  FLAG_DOCUMENT_5  FLAG_DOCUMENT_6  \\\n",
       "0                1                0                0                0   \n",
       "1                1                0                0                0   \n",
       "2                0                0                0                0   \n",
       "3                1                0                0                0   \n",
       "4                0                0                0                0   \n",
       "\n",
       "   FLAG_DOCUMENT_7  FLAG_DOCUMENT_8  FLAG_DOCUMENT_9  FLAG_DOCUMENT_10  \\\n",
       "0                0                0                0                 0   \n",
       "1                0                0                0                 0   \n",
       "2                0                0                0                 0   \n",
       "3                0                0                0                 0   \n",
       "4                0                1                0                 0   \n",
       "\n",
       "   FLAG_DOCUMENT_11  FLAG_DOCUMENT_12  FLAG_DOCUMENT_13  FLAG_DOCUMENT_14  \\\n",
       "0                 0                 0                 0                 0   \n",
       "1                 0                 0                 0                 0   \n",
       "2                 0                 0                 0                 0   \n",
       "3                 0                 0                 0                 0   \n",
       "4                 0                 0                 0                 0   \n",
       "\n",
       "   FLAG_DOCUMENT_15  FLAG_DOCUMENT_16  FLAG_DOCUMENT_17  FLAG_DOCUMENT_18  \\\n",
       "0                 0                 0                 0                 0   \n",
       "1                 0                 0                 0                 0   \n",
       "2                 0                 0                 0                 0   \n",
       "3                 0                 0                 0                 0   \n",
       "4                 0                 0                 0                 0   \n",
       "\n",
       "   FLAG_DOCUMENT_19  FLAG_DOCUMENT_20  FLAG_DOCUMENT_21  \\\n",
       "0                 0                 0                 0   \n",
       "1                 0                 0                 0   \n",
       "2                 0                 0                 0   \n",
       "3                 0                 0                 0   \n",
       "4                 0                 0                 0   \n",
       "\n",
       "   AMT_REQ_CREDIT_BUREAU_HOUR  AMT_REQ_CREDIT_BUREAU_DAY  \\\n",
       "0                         0.0                        0.0   \n",
       "1                         0.0                        0.0   \n",
       "2                         0.0                        0.0   \n",
       "3                         0.0                        0.0   \n",
       "4                         0.0                        0.0   \n",
       "\n",
       "   AMT_REQ_CREDIT_BUREAU_WEEK  AMT_REQ_CREDIT_BUREAU_MON  \\\n",
       "0                         0.0                        0.0   \n",
       "1                         0.0                        0.0   \n",
       "2                         0.0                        0.0   \n",
       "3                         0.0                        0.0   \n",
       "4                         0.0                        0.0   \n",
       "\n",
       "   AMT_REQ_CREDIT_BUREAU_QRT  AMT_REQ_CREDIT_BUREAU_YEAR  \n",
       "0                        0.0                         1.0  \n",
       "1                        0.0                         0.0  \n",
       "2                        0.0                         0.0  \n",
       "3                        0.0                         1.0  \n",
       "4                        0.0                         0.0  "
      ]
     },
     "execution_count": 70,
     "metadata": {},
     "output_type": "execute_result"
    }
   ],
   "source": [
    "client_appl.head()"
   ]
  },
  {
   "cell_type": "code",
   "execution_count": 71,
   "id": "184ac06a",
   "metadata": {},
   "outputs": [],
   "source": [
    "# for categorical type\n",
    "categ = []\n",
    "numer = []\n",
    "for i in client_appl.columns:\n",
    "    if client_appl[i].dtype=='object':\n",
    "        categ.append(i)\n",
    "    else:\n",
    "        numer.append(i)"
   ]
  },
  {
   "cell_type": "code",
   "execution_count": 72,
   "id": "8caace50",
   "metadata": {},
   "outputs": [
    {
     "data": {
      "text/plain": [
       "['NAME_CONTRACT_TYPE',\n",
       " 'CODE_GENDER',\n",
       " 'FLAG_OWN_CAR',\n",
       " 'FLAG_OWN_REALTY',\n",
       " 'NAME_TYPE_SUITE',\n",
       " 'NAME_INCOME_TYPE',\n",
       " 'NAME_EDUCATION_TYPE',\n",
       " 'NAME_FAMILY_STATUS',\n",
       " 'NAME_HOUSING_TYPE',\n",
       " 'OCCUPATION_TYPE',\n",
       " 'WEEKDAY_APPR_PROCESS_START',\n",
       " 'ORGANIZATION_TYPE']"
      ]
     },
     "execution_count": 72,
     "metadata": {},
     "output_type": "execute_result"
    }
   ],
   "source": [
    "categ"
   ]
  },
  {
   "cell_type": "code",
   "execution_count": 73,
   "id": "67e2daf1",
   "metadata": {},
   "outputs": [
    {
     "data": {
      "text/plain": [
       "Cash loans         278232\n",
       "Revolving loans     29279\n",
       "Name: NAME_CONTRACT_TYPE, dtype: int64"
      ]
     },
     "execution_count": 73,
     "metadata": {},
     "output_type": "execute_result"
    }
   ],
   "source": [
    "client_appl[\"NAME_CONTRACT_TYPE\"].value_counts()"
   ]
  },
  {
   "cell_type": "code",
   "execution_count": 74,
   "id": "1a8f6b92",
   "metadata": {},
   "outputs": [
    {
     "data": {
      "text/plain": [
       "F      202448\n",
       "M      105059\n",
       "XNA         4\n",
       "Name: CODE_GENDER, dtype: int64"
      ]
     },
     "execution_count": 74,
     "metadata": {},
     "output_type": "execute_result"
    }
   ],
   "source": [
    "client_appl[\"CODE_GENDER\"].value_counts()"
   ]
  },
  {
   "cell_type": "code",
   "execution_count": 75,
   "id": "f9c717c9",
   "metadata": {},
   "outputs": [],
   "source": [
    "# code gender column has XNA value which is NA so replacing with mode\n",
    "client_appl[\"CODE_GENDER\"] = client_appl[\"CODE_GENDER\"].replace(\"XNA\",\"F\")"
   ]
  },
  {
   "cell_type": "code",
   "execution_count": 76,
   "id": "0e21c72e",
   "metadata": {},
   "outputs": [
    {
     "data": {
      "text/plain": [
       "F    202452\n",
       "M    105059\n",
       "Name: CODE_GENDER, dtype: int64"
      ]
     },
     "execution_count": 76,
     "metadata": {},
     "output_type": "execute_result"
    }
   ],
   "source": [
    "client_appl[\"CODE_GENDER\"].value_counts()"
   ]
  },
  {
   "cell_type": "code",
   "execution_count": 77,
   "id": "dbe95020",
   "metadata": {},
   "outputs": [
    {
     "data": {
      "text/plain": [
       "N    202924\n",
       "Y    104587\n",
       "Name: FLAG_OWN_CAR, dtype: int64"
      ]
     },
     "execution_count": 77,
     "metadata": {},
     "output_type": "execute_result"
    }
   ],
   "source": [
    "client_appl[\"FLAG_OWN_CAR\"].value_counts()"
   ]
  },
  {
   "cell_type": "code",
   "execution_count": 78,
   "id": "0dce4e41",
   "metadata": {},
   "outputs": [
    {
     "data": {
      "text/plain": [
       "Y    213312\n",
       "N     94199\n",
       "Name: FLAG_OWN_REALTY, dtype: int64"
      ]
     },
     "execution_count": 78,
     "metadata": {},
     "output_type": "execute_result"
    }
   ],
   "source": [
    "client_appl[\"FLAG_OWN_REALTY\"].value_counts()"
   ]
  },
  {
   "cell_type": "code",
   "execution_count": 79,
   "id": "f8524f9e",
   "metadata": {},
   "outputs": [
    {
     "data": {
      "text/plain": [
       "Unaccompanied      249818\n",
       "Family              40149\n",
       "Spouse, partner     11370\n",
       "Children             3267\n",
       "Other_B              1770\n",
       "Other_A               866\n",
       "Group of people       271\n",
       "Name: NAME_TYPE_SUITE, dtype: int64"
      ]
     },
     "execution_count": 79,
     "metadata": {},
     "output_type": "execute_result"
    }
   ],
   "source": [
    "client_appl[\"NAME_TYPE_SUITE\"].value_counts()"
   ]
  },
  {
   "cell_type": "code",
   "execution_count": 80,
   "id": "389cf173",
   "metadata": {},
   "outputs": [
    {
     "data": {
      "text/plain": [
       "Working                 158774\n",
       "Commercial associate     71617\n",
       "Pensioner                55362\n",
       "State servant            21703\n",
       "Unemployed                  22\n",
       "Student                     18\n",
       "Businessman                 10\n",
       "Maternity leave              5\n",
       "Name: NAME_INCOME_TYPE, dtype: int64"
      ]
     },
     "execution_count": 80,
     "metadata": {},
     "output_type": "execute_result"
    }
   ],
   "source": [
    "client_appl[\"NAME_INCOME_TYPE\"].value_counts()"
   ]
  },
  {
   "cell_type": "code",
   "execution_count": 81,
   "id": "04bb847e",
   "metadata": {},
   "outputs": [
    {
     "data": {
      "text/plain": [
       "Secondary / secondary special    218391\n",
       "Higher education                  74863\n",
       "Incomplete higher                 10277\n",
       "Lower secondary                    3816\n",
       "Academic degree                     164\n",
       "Name: NAME_EDUCATION_TYPE, dtype: int64"
      ]
     },
     "execution_count": 81,
     "metadata": {},
     "output_type": "execute_result"
    }
   ],
   "source": [
    "client_appl[\"NAME_EDUCATION_TYPE\"].value_counts()"
   ]
  },
  {
   "cell_type": "code",
   "execution_count": 82,
   "id": "c9494706",
   "metadata": {},
   "outputs": [
    {
     "data": {
      "text/plain": [
       "Married                 196432\n",
       "Single / not married     45444\n",
       "Civil marriage           29775\n",
       "Separated                19770\n",
       "Widow                    16088\n",
       "Unknown                      2\n",
       "Name: NAME_FAMILY_STATUS, dtype: int64"
      ]
     },
     "execution_count": 82,
     "metadata": {},
     "output_type": "execute_result"
    }
   ],
   "source": [
    "client_appl[\"NAME_FAMILY_STATUS\"].value_counts()"
   ]
  },
  {
   "cell_type": "code",
   "execution_count": 83,
   "id": "129d88df",
   "metadata": {},
   "outputs": [],
   "source": [
    "# unknown has 2 values only so replacing it with mode\n",
    "client_appl[\"NAME_FAMILY_STATUS\"] = client_appl[\"NAME_FAMILY_STATUS\"].replace(\"Unknown\",\"Married\")"
   ]
  },
  {
   "cell_type": "code",
   "execution_count": 84,
   "id": "b4e19d9f",
   "metadata": {},
   "outputs": [
    {
     "data": {
      "text/plain": [
       "House / apartment      272868\n",
       "With parents            14840\n",
       "Municipal apartment     11183\n",
       "Rented apartment         4881\n",
       "Office apartment         2617\n",
       "Co-op apartment          1122\n",
       "Name: NAME_HOUSING_TYPE, dtype: int64"
      ]
     },
     "execution_count": 84,
     "metadata": {},
     "output_type": "execute_result"
    }
   ],
   "source": [
    "client_appl[\"NAME_HOUSING_TYPE\"].value_counts()"
   ]
  },
  {
   "cell_type": "code",
   "execution_count": 85,
   "id": "65c1aafa",
   "metadata": {},
   "outputs": [
    {
     "data": {
      "text/plain": [
       "Unknown                  96391\n",
       "Laborers                 55186\n",
       "Sales staff              32102\n",
       "Core staff               27570\n",
       "Managers                 21371\n",
       "Drivers                  18603\n",
       "High skill tech staff    11380\n",
       "Accountants               9813\n",
       "Medicine staff            8537\n",
       "Security staff            6721\n",
       "Cooking staff             5946\n",
       "Cleaning staff            4653\n",
       "Private service staff     2652\n",
       "Low-skill Laborers        2093\n",
       "Waiters/barmen staff      1348\n",
       "Secretaries               1305\n",
       "Realty agents              751\n",
       "HR staff                   563\n",
       "IT staff                   526\n",
       "Name: OCCUPATION_TYPE, dtype: int64"
      ]
     },
     "execution_count": 85,
     "metadata": {},
     "output_type": "execute_result"
    }
   ],
   "source": [
    "client_appl[\"OCCUPATION_TYPE\"].value_counts()"
   ]
  },
  {
   "cell_type": "code",
   "execution_count": 86,
   "id": "ed31525d",
   "metadata": {},
   "outputs": [
    {
     "data": {
      "text/plain": [
       "TUESDAY      53901\n",
       "WEDNESDAY    51934\n",
       "MONDAY       50714\n",
       "THURSDAY     50591\n",
       "FRIDAY       50338\n",
       "SATURDAY     33852\n",
       "SUNDAY       16181\n",
       "Name: WEEKDAY_APPR_PROCESS_START, dtype: int64"
      ]
     },
     "execution_count": 86,
     "metadata": {},
     "output_type": "execute_result"
    }
   ],
   "source": [
    "client_appl[\"WEEKDAY_APPR_PROCESS_START\"].value_counts()      "
   ]
  },
  {
   "cell_type": "code",
   "execution_count": 87,
   "id": "e40ec6d6",
   "metadata": {
    "scrolled": true
   },
   "outputs": [
    {
     "data": {
      "text/plain": [
       "Business Entity Type 3    67992\n",
       "XNA                       55374\n",
       "Self-employed             38412\n",
       "Other                     16683\n",
       "Medicine                  11193\n",
       "Business Entity Type 2    10553\n",
       "Government                10404\n",
       "School                     8893\n",
       "Trade: type 7              7831\n",
       "Kindergarten               6880\n",
       "Construction               6721\n",
       "Business Entity Type 1     5984\n",
       "Transport: type 4          5398\n",
       "Trade: type 3              3492\n",
       "Industry: type 9           3368\n",
       "Industry: type 3           3278\n",
       "Security                   3247\n",
       "Housing                    2958\n",
       "Industry: type 11          2704\n",
       "Military                   2634\n",
       "Bank                       2507\n",
       "Agriculture                2454\n",
       "Police                     2341\n",
       "Transport: type 2          2204\n",
       "Postal                     2157\n",
       "Security Ministries        1974\n",
       "Trade: type 2              1900\n",
       "Restaurant                 1811\n",
       "Services                   1575\n",
       "University                 1327\n",
       "Industry: type 7           1307\n",
       "Transport: type 3          1187\n",
       "Industry: type 1           1039\n",
       "Hotel                       966\n",
       "Electricity                 950\n",
       "Industry: type 4            877\n",
       "Trade: type 6               631\n",
       "Industry: type 5            599\n",
       "Insurance                   597\n",
       "Telecom                     577\n",
       "Emergency                   560\n",
       "Industry: type 2            458\n",
       "Advertising                 429\n",
       "Realtor                     396\n",
       "Culture                     379\n",
       "Industry: type 12           369\n",
       "Trade: type 1               348\n",
       "Mobile                      317\n",
       "Legal Services              305\n",
       "Cleaning                    260\n",
       "Transport: type 1           201\n",
       "Industry: type 6            112\n",
       "Industry: type 10           109\n",
       "Religion                     85\n",
       "Industry: type 13            67\n",
       "Trade: type 4                64\n",
       "Trade: type 5                49\n",
       "Industry: type 8             24\n",
       "Name: ORGANIZATION_TYPE, dtype: int64"
      ]
     },
     "execution_count": 87,
     "metadata": {},
     "output_type": "execute_result"
    }
   ],
   "source": [
    "client_appl[\"ORGANIZATION_TYPE\"].value_counts()      "
   ]
  },
  {
   "cell_type": "code",
   "execution_count": 88,
   "id": "067bc3e6",
   "metadata": {},
   "outputs": [],
   "source": [
    "# as the organisation type has XNA values replacing it with mode\n",
    "client_appl[\"ORGANIZATION_TYPE\"] = client_appl[\"ORGANIZATION_TYPE\"].replace(\"XNA\",\"Business Entity Type 3\")"
   ]
  },
  {
   "cell_type": "code",
   "execution_count": 89,
   "id": "317b0f3d",
   "metadata": {},
   "outputs": [
    {
     "data": {
      "text/plain": [
       "SK_ID_CURR                       int64\n",
       "TARGET                           int64\n",
       "CNT_CHILDREN                     int64\n",
       "AMT_INCOME_TOTAL               float64\n",
       "AMT_CREDIT                     float64\n",
       "AMT_ANNUITY                    float64\n",
       "AMT_GOODS_PRICE                float64\n",
       "REGION_POPULATION_RELATIVE     float64\n",
       "DAYS_BIRTH                       int64\n",
       "DAYS_EMPLOYED                    int64\n",
       "DAYS_REGISTRATION              float64\n",
       "DAYS_ID_PUBLISH                  int64\n",
       "FLAG_MOBIL                       int64\n",
       "FLAG_EMP_PHONE                   int64\n",
       "FLAG_WORK_PHONE                  int64\n",
       "FLAG_CONT_MOBILE                 int64\n",
       "FLAG_PHONE                       int64\n",
       "FLAG_EMAIL                       int64\n",
       "CNT_FAM_MEMBERS                float64\n",
       "REGION_RATING_CLIENT             int64\n",
       "REGION_RATING_CLIENT_W_CITY      int64\n",
       "HOUR_APPR_PROCESS_START          int64\n",
       "REG_REGION_NOT_LIVE_REGION       int64\n",
       "REG_REGION_NOT_WORK_REGION       int64\n",
       "LIVE_REGION_NOT_WORK_REGION      int64\n",
       "REG_CITY_NOT_LIVE_CITY           int64\n",
       "REG_CITY_NOT_WORK_CITY           int64\n",
       "LIVE_CITY_NOT_WORK_CITY          int64\n",
       "EXT_SOURCE_2                   float64\n",
       "EXT_SOURCE_3                   float64\n",
       "OBS_30_CNT_SOCIAL_CIRCLE       float64\n",
       "DEF_30_CNT_SOCIAL_CIRCLE       float64\n",
       "OBS_60_CNT_SOCIAL_CIRCLE       float64\n",
       "DEF_60_CNT_SOCIAL_CIRCLE       float64\n",
       "DAYS_LAST_PHONE_CHANGE         float64\n",
       "FLAG_DOCUMENT_2                  int64\n",
       "FLAG_DOCUMENT_3                  int64\n",
       "FLAG_DOCUMENT_4                  int64\n",
       "FLAG_DOCUMENT_5                  int64\n",
       "FLAG_DOCUMENT_6                  int64\n",
       "FLAG_DOCUMENT_7                  int64\n",
       "FLAG_DOCUMENT_8                  int64\n",
       "FLAG_DOCUMENT_9                  int64\n",
       "FLAG_DOCUMENT_10                 int64\n",
       "FLAG_DOCUMENT_11                 int64\n",
       "FLAG_DOCUMENT_12                 int64\n",
       "FLAG_DOCUMENT_13                 int64\n",
       "FLAG_DOCUMENT_14                 int64\n",
       "FLAG_DOCUMENT_15                 int64\n",
       "FLAG_DOCUMENT_16                 int64\n",
       "FLAG_DOCUMENT_17                 int64\n",
       "FLAG_DOCUMENT_18                 int64\n",
       "FLAG_DOCUMENT_19                 int64\n",
       "FLAG_DOCUMENT_20                 int64\n",
       "FLAG_DOCUMENT_21                 int64\n",
       "AMT_REQ_CREDIT_BUREAU_HOUR     float64\n",
       "AMT_REQ_CREDIT_BUREAU_DAY      float64\n",
       "AMT_REQ_CREDIT_BUREAU_WEEK     float64\n",
       "AMT_REQ_CREDIT_BUREAU_MON      float64\n",
       "AMT_REQ_CREDIT_BUREAU_QRT      float64\n",
       "AMT_REQ_CREDIT_BUREAU_YEAR     float64\n",
       "dtype: object"
      ]
     },
     "execution_count": 89,
     "metadata": {},
     "output_type": "execute_result"
    }
   ],
   "source": [
    "# for numerical columns\n",
    "client_appl[numer].dtypes"
   ]
  },
  {
   "cell_type": "code",
   "execution_count": 90,
   "id": "7b9864b8",
   "metadata": {},
   "outputs": [
    {
     "data": {
      "text/html": [
       "<div>\n",
       "<style scoped>\n",
       "    .dataframe tbody tr th:only-of-type {\n",
       "        vertical-align: middle;\n",
       "    }\n",
       "\n",
       "    .dataframe tbody tr th {\n",
       "        vertical-align: top;\n",
       "    }\n",
       "\n",
       "    .dataframe thead th {\n",
       "        text-align: right;\n",
       "    }\n",
       "</style>\n",
       "<table border=\"1\" class=\"dataframe\">\n",
       "  <thead>\n",
       "    <tr style=\"text-align: right;\">\n",
       "      <th></th>\n",
       "      <th>SK_ID_CURR</th>\n",
       "      <th>TARGET</th>\n",
       "      <th>CNT_CHILDREN</th>\n",
       "      <th>AMT_INCOME_TOTAL</th>\n",
       "      <th>AMT_CREDIT</th>\n",
       "      <th>AMT_ANNUITY</th>\n",
       "      <th>AMT_GOODS_PRICE</th>\n",
       "      <th>REGION_POPULATION_RELATIVE</th>\n",
       "      <th>DAYS_BIRTH</th>\n",
       "      <th>DAYS_EMPLOYED</th>\n",
       "      <th>DAYS_REGISTRATION</th>\n",
       "      <th>DAYS_ID_PUBLISH</th>\n",
       "      <th>FLAG_MOBIL</th>\n",
       "      <th>FLAG_EMP_PHONE</th>\n",
       "      <th>FLAG_WORK_PHONE</th>\n",
       "      <th>FLAG_CONT_MOBILE</th>\n",
       "      <th>FLAG_PHONE</th>\n",
       "      <th>FLAG_EMAIL</th>\n",
       "      <th>CNT_FAM_MEMBERS</th>\n",
       "      <th>REGION_RATING_CLIENT</th>\n",
       "      <th>REGION_RATING_CLIENT_W_CITY</th>\n",
       "      <th>HOUR_APPR_PROCESS_START</th>\n",
       "      <th>REG_REGION_NOT_LIVE_REGION</th>\n",
       "      <th>REG_REGION_NOT_WORK_REGION</th>\n",
       "      <th>LIVE_REGION_NOT_WORK_REGION</th>\n",
       "      <th>REG_CITY_NOT_LIVE_CITY</th>\n",
       "      <th>REG_CITY_NOT_WORK_CITY</th>\n",
       "      <th>LIVE_CITY_NOT_WORK_CITY</th>\n",
       "      <th>EXT_SOURCE_2</th>\n",
       "      <th>EXT_SOURCE_3</th>\n",
       "      <th>OBS_30_CNT_SOCIAL_CIRCLE</th>\n",
       "      <th>DEF_30_CNT_SOCIAL_CIRCLE</th>\n",
       "      <th>OBS_60_CNT_SOCIAL_CIRCLE</th>\n",
       "      <th>DEF_60_CNT_SOCIAL_CIRCLE</th>\n",
       "      <th>DAYS_LAST_PHONE_CHANGE</th>\n",
       "      <th>FLAG_DOCUMENT_2</th>\n",
       "      <th>FLAG_DOCUMENT_3</th>\n",
       "      <th>FLAG_DOCUMENT_4</th>\n",
       "      <th>FLAG_DOCUMENT_5</th>\n",
       "      <th>FLAG_DOCUMENT_6</th>\n",
       "      <th>FLAG_DOCUMENT_7</th>\n",
       "      <th>FLAG_DOCUMENT_8</th>\n",
       "      <th>FLAG_DOCUMENT_9</th>\n",
       "      <th>FLAG_DOCUMENT_10</th>\n",
       "      <th>FLAG_DOCUMENT_11</th>\n",
       "      <th>FLAG_DOCUMENT_12</th>\n",
       "      <th>FLAG_DOCUMENT_13</th>\n",
       "      <th>FLAG_DOCUMENT_14</th>\n",
       "      <th>FLAG_DOCUMENT_15</th>\n",
       "      <th>FLAG_DOCUMENT_16</th>\n",
       "      <th>FLAG_DOCUMENT_17</th>\n",
       "      <th>FLAG_DOCUMENT_18</th>\n",
       "      <th>FLAG_DOCUMENT_19</th>\n",
       "      <th>FLAG_DOCUMENT_20</th>\n",
       "      <th>FLAG_DOCUMENT_21</th>\n",
       "      <th>AMT_REQ_CREDIT_BUREAU_HOUR</th>\n",
       "      <th>AMT_REQ_CREDIT_BUREAU_DAY</th>\n",
       "      <th>AMT_REQ_CREDIT_BUREAU_WEEK</th>\n",
       "      <th>AMT_REQ_CREDIT_BUREAU_MON</th>\n",
       "      <th>AMT_REQ_CREDIT_BUREAU_QRT</th>\n",
       "      <th>AMT_REQ_CREDIT_BUREAU_YEAR</th>\n",
       "    </tr>\n",
       "  </thead>\n",
       "  <tbody>\n",
       "    <tr>\n",
       "      <th>0</th>\n",
       "      <td>100002</td>\n",
       "      <td>1</td>\n",
       "      <td>0</td>\n",
       "      <td>202500.0</td>\n",
       "      <td>406597.5</td>\n",
       "      <td>24700.5</td>\n",
       "      <td>351000.0</td>\n",
       "      <td>0.018801</td>\n",
       "      <td>-9461</td>\n",
       "      <td>-637</td>\n",
       "      <td>-3648.0</td>\n",
       "      <td>-2120</td>\n",
       "      <td>1</td>\n",
       "      <td>1</td>\n",
       "      <td>0</td>\n",
       "      <td>1</td>\n",
       "      <td>1</td>\n",
       "      <td>0</td>\n",
       "      <td>1.0</td>\n",
       "      <td>2</td>\n",
       "      <td>2</td>\n",
       "      <td>10</td>\n",
       "      <td>0</td>\n",
       "      <td>0</td>\n",
       "      <td>0</td>\n",
       "      <td>0</td>\n",
       "      <td>0</td>\n",
       "      <td>0</td>\n",
       "      <td>0.262949</td>\n",
       "      <td>0.139376</td>\n",
       "      <td>2.0</td>\n",
       "      <td>2.0</td>\n",
       "      <td>2.0</td>\n",
       "      <td>2.0</td>\n",
       "      <td>-1134.0</td>\n",
       "      <td>0</td>\n",
       "      <td>1</td>\n",
       "      <td>0</td>\n",
       "      <td>0</td>\n",
       "      <td>0</td>\n",
       "      <td>0</td>\n",
       "      <td>0</td>\n",
       "      <td>0</td>\n",
       "      <td>0</td>\n",
       "      <td>0</td>\n",
       "      <td>0</td>\n",
       "      <td>0</td>\n",
       "      <td>0</td>\n",
       "      <td>0</td>\n",
       "      <td>0</td>\n",
       "      <td>0</td>\n",
       "      <td>0</td>\n",
       "      <td>0</td>\n",
       "      <td>0</td>\n",
       "      <td>0</td>\n",
       "      <td>0.0</td>\n",
       "      <td>0.0</td>\n",
       "      <td>0.0</td>\n",
       "      <td>0.0</td>\n",
       "      <td>0.0</td>\n",
       "      <td>1.0</td>\n",
       "    </tr>\n",
       "    <tr>\n",
       "      <th>1</th>\n",
       "      <td>100003</td>\n",
       "      <td>0</td>\n",
       "      <td>0</td>\n",
       "      <td>270000.0</td>\n",
       "      <td>1293502.5</td>\n",
       "      <td>35698.5</td>\n",
       "      <td>1129500.0</td>\n",
       "      <td>0.003541</td>\n",
       "      <td>-16765</td>\n",
       "      <td>-1188</td>\n",
       "      <td>-1186.0</td>\n",
       "      <td>-291</td>\n",
       "      <td>1</td>\n",
       "      <td>1</td>\n",
       "      <td>0</td>\n",
       "      <td>1</td>\n",
       "      <td>1</td>\n",
       "      <td>0</td>\n",
       "      <td>2.0</td>\n",
       "      <td>1</td>\n",
       "      <td>1</td>\n",
       "      <td>11</td>\n",
       "      <td>0</td>\n",
       "      <td>0</td>\n",
       "      <td>0</td>\n",
       "      <td>0</td>\n",
       "      <td>0</td>\n",
       "      <td>0</td>\n",
       "      <td>0.622246</td>\n",
       "      <td>0.535276</td>\n",
       "      <td>1.0</td>\n",
       "      <td>0.0</td>\n",
       "      <td>1.0</td>\n",
       "      <td>0.0</td>\n",
       "      <td>-828.0</td>\n",
       "      <td>0</td>\n",
       "      <td>1</td>\n",
       "      <td>0</td>\n",
       "      <td>0</td>\n",
       "      <td>0</td>\n",
       "      <td>0</td>\n",
       "      <td>0</td>\n",
       "      <td>0</td>\n",
       "      <td>0</td>\n",
       "      <td>0</td>\n",
       "      <td>0</td>\n",
       "      <td>0</td>\n",
       "      <td>0</td>\n",
       "      <td>0</td>\n",
       "      <td>0</td>\n",
       "      <td>0</td>\n",
       "      <td>0</td>\n",
       "      <td>0</td>\n",
       "      <td>0</td>\n",
       "      <td>0</td>\n",
       "      <td>0.0</td>\n",
       "      <td>0.0</td>\n",
       "      <td>0.0</td>\n",
       "      <td>0.0</td>\n",
       "      <td>0.0</td>\n",
       "      <td>0.0</td>\n",
       "    </tr>\n",
       "    <tr>\n",
       "      <th>2</th>\n",
       "      <td>100004</td>\n",
       "      <td>0</td>\n",
       "      <td>0</td>\n",
       "      <td>67500.0</td>\n",
       "      <td>135000.0</td>\n",
       "      <td>6750.0</td>\n",
       "      <td>135000.0</td>\n",
       "      <td>0.010032</td>\n",
       "      <td>-19046</td>\n",
       "      <td>-225</td>\n",
       "      <td>-4260.0</td>\n",
       "      <td>-2531</td>\n",
       "      <td>1</td>\n",
       "      <td>1</td>\n",
       "      <td>1</td>\n",
       "      <td>1</td>\n",
       "      <td>1</td>\n",
       "      <td>0</td>\n",
       "      <td>1.0</td>\n",
       "      <td>2</td>\n",
       "      <td>2</td>\n",
       "      <td>9</td>\n",
       "      <td>0</td>\n",
       "      <td>0</td>\n",
       "      <td>0</td>\n",
       "      <td>0</td>\n",
       "      <td>0</td>\n",
       "      <td>0</td>\n",
       "      <td>0.555912</td>\n",
       "      <td>0.729567</td>\n",
       "      <td>0.0</td>\n",
       "      <td>0.0</td>\n",
       "      <td>0.0</td>\n",
       "      <td>0.0</td>\n",
       "      <td>-815.0</td>\n",
       "      <td>0</td>\n",
       "      <td>0</td>\n",
       "      <td>0</td>\n",
       "      <td>0</td>\n",
       "      <td>0</td>\n",
       "      <td>0</td>\n",
       "      <td>0</td>\n",
       "      <td>0</td>\n",
       "      <td>0</td>\n",
       "      <td>0</td>\n",
       "      <td>0</td>\n",
       "      <td>0</td>\n",
       "      <td>0</td>\n",
       "      <td>0</td>\n",
       "      <td>0</td>\n",
       "      <td>0</td>\n",
       "      <td>0</td>\n",
       "      <td>0</td>\n",
       "      <td>0</td>\n",
       "      <td>0</td>\n",
       "      <td>0.0</td>\n",
       "      <td>0.0</td>\n",
       "      <td>0.0</td>\n",
       "      <td>0.0</td>\n",
       "      <td>0.0</td>\n",
       "      <td>0.0</td>\n",
       "    </tr>\n",
       "    <tr>\n",
       "      <th>3</th>\n",
       "      <td>100006</td>\n",
       "      <td>0</td>\n",
       "      <td>0</td>\n",
       "      <td>135000.0</td>\n",
       "      <td>312682.5</td>\n",
       "      <td>29686.5</td>\n",
       "      <td>297000.0</td>\n",
       "      <td>0.008019</td>\n",
       "      <td>-19005</td>\n",
       "      <td>-3039</td>\n",
       "      <td>-9833.0</td>\n",
       "      <td>-2437</td>\n",
       "      <td>1</td>\n",
       "      <td>1</td>\n",
       "      <td>0</td>\n",
       "      <td>1</td>\n",
       "      <td>0</td>\n",
       "      <td>0</td>\n",
       "      <td>2.0</td>\n",
       "      <td>2</td>\n",
       "      <td>2</td>\n",
       "      <td>17</td>\n",
       "      <td>0</td>\n",
       "      <td>0</td>\n",
       "      <td>0</td>\n",
       "      <td>0</td>\n",
       "      <td>0</td>\n",
       "      <td>0</td>\n",
       "      <td>0.650442</td>\n",
       "      <td>0.535276</td>\n",
       "      <td>2.0</td>\n",
       "      <td>0.0</td>\n",
       "      <td>2.0</td>\n",
       "      <td>0.0</td>\n",
       "      <td>-617.0</td>\n",
       "      <td>0</td>\n",
       "      <td>1</td>\n",
       "      <td>0</td>\n",
       "      <td>0</td>\n",
       "      <td>0</td>\n",
       "      <td>0</td>\n",
       "      <td>0</td>\n",
       "      <td>0</td>\n",
       "      <td>0</td>\n",
       "      <td>0</td>\n",
       "      <td>0</td>\n",
       "      <td>0</td>\n",
       "      <td>0</td>\n",
       "      <td>0</td>\n",
       "      <td>0</td>\n",
       "      <td>0</td>\n",
       "      <td>0</td>\n",
       "      <td>0</td>\n",
       "      <td>0</td>\n",
       "      <td>0</td>\n",
       "      <td>0.0</td>\n",
       "      <td>0.0</td>\n",
       "      <td>0.0</td>\n",
       "      <td>0.0</td>\n",
       "      <td>0.0</td>\n",
       "      <td>1.0</td>\n",
       "    </tr>\n",
       "    <tr>\n",
       "      <th>4</th>\n",
       "      <td>100007</td>\n",
       "      <td>0</td>\n",
       "      <td>0</td>\n",
       "      <td>121500.0</td>\n",
       "      <td>513000.0</td>\n",
       "      <td>21865.5</td>\n",
       "      <td>513000.0</td>\n",
       "      <td>0.028663</td>\n",
       "      <td>-19932</td>\n",
       "      <td>-3038</td>\n",
       "      <td>-4311.0</td>\n",
       "      <td>-3458</td>\n",
       "      <td>1</td>\n",
       "      <td>1</td>\n",
       "      <td>0</td>\n",
       "      <td>1</td>\n",
       "      <td>0</td>\n",
       "      <td>0</td>\n",
       "      <td>1.0</td>\n",
       "      <td>2</td>\n",
       "      <td>2</td>\n",
       "      <td>11</td>\n",
       "      <td>0</td>\n",
       "      <td>0</td>\n",
       "      <td>0</td>\n",
       "      <td>0</td>\n",
       "      <td>1</td>\n",
       "      <td>1</td>\n",
       "      <td>0.322738</td>\n",
       "      <td>0.535276</td>\n",
       "      <td>0.0</td>\n",
       "      <td>0.0</td>\n",
       "      <td>0.0</td>\n",
       "      <td>0.0</td>\n",
       "      <td>-1106.0</td>\n",
       "      <td>0</td>\n",
       "      <td>0</td>\n",
       "      <td>0</td>\n",
       "      <td>0</td>\n",
       "      <td>0</td>\n",
       "      <td>0</td>\n",
       "      <td>1</td>\n",
       "      <td>0</td>\n",
       "      <td>0</td>\n",
       "      <td>0</td>\n",
       "      <td>0</td>\n",
       "      <td>0</td>\n",
       "      <td>0</td>\n",
       "      <td>0</td>\n",
       "      <td>0</td>\n",
       "      <td>0</td>\n",
       "      <td>0</td>\n",
       "      <td>0</td>\n",
       "      <td>0</td>\n",
       "      <td>0</td>\n",
       "      <td>0.0</td>\n",
       "      <td>0.0</td>\n",
       "      <td>0.0</td>\n",
       "      <td>0.0</td>\n",
       "      <td>0.0</td>\n",
       "      <td>0.0</td>\n",
       "    </tr>\n",
       "  </tbody>\n",
       "</table>\n",
       "</div>"
      ],
      "text/plain": [
       "   SK_ID_CURR  TARGET  CNT_CHILDREN  AMT_INCOME_TOTAL  AMT_CREDIT  \\\n",
       "0      100002       1             0          202500.0    406597.5   \n",
       "1      100003       0             0          270000.0   1293502.5   \n",
       "2      100004       0             0           67500.0    135000.0   \n",
       "3      100006       0             0          135000.0    312682.5   \n",
       "4      100007       0             0          121500.0    513000.0   \n",
       "\n",
       "   AMT_ANNUITY  AMT_GOODS_PRICE  REGION_POPULATION_RELATIVE  DAYS_BIRTH  \\\n",
       "0      24700.5         351000.0                    0.018801       -9461   \n",
       "1      35698.5        1129500.0                    0.003541      -16765   \n",
       "2       6750.0         135000.0                    0.010032      -19046   \n",
       "3      29686.5         297000.0                    0.008019      -19005   \n",
       "4      21865.5         513000.0                    0.028663      -19932   \n",
       "\n",
       "   DAYS_EMPLOYED  DAYS_REGISTRATION  DAYS_ID_PUBLISH  FLAG_MOBIL  \\\n",
       "0           -637            -3648.0            -2120           1   \n",
       "1          -1188            -1186.0             -291           1   \n",
       "2           -225            -4260.0            -2531           1   \n",
       "3          -3039            -9833.0            -2437           1   \n",
       "4          -3038            -4311.0            -3458           1   \n",
       "\n",
       "   FLAG_EMP_PHONE  FLAG_WORK_PHONE  FLAG_CONT_MOBILE  FLAG_PHONE  FLAG_EMAIL  \\\n",
       "0               1                0                 1           1           0   \n",
       "1               1                0                 1           1           0   \n",
       "2               1                1                 1           1           0   \n",
       "3               1                0                 1           0           0   \n",
       "4               1                0                 1           0           0   \n",
       "\n",
       "   CNT_FAM_MEMBERS  REGION_RATING_CLIENT  REGION_RATING_CLIENT_W_CITY  \\\n",
       "0              1.0                     2                            2   \n",
       "1              2.0                     1                            1   \n",
       "2              1.0                     2                            2   \n",
       "3              2.0                     2                            2   \n",
       "4              1.0                     2                            2   \n",
       "\n",
       "   HOUR_APPR_PROCESS_START  REG_REGION_NOT_LIVE_REGION  \\\n",
       "0                       10                           0   \n",
       "1                       11                           0   \n",
       "2                        9                           0   \n",
       "3                       17                           0   \n",
       "4                       11                           0   \n",
       "\n",
       "   REG_REGION_NOT_WORK_REGION  LIVE_REGION_NOT_WORK_REGION  \\\n",
       "0                           0                            0   \n",
       "1                           0                            0   \n",
       "2                           0                            0   \n",
       "3                           0                            0   \n",
       "4                           0                            0   \n",
       "\n",
       "   REG_CITY_NOT_LIVE_CITY  REG_CITY_NOT_WORK_CITY  LIVE_CITY_NOT_WORK_CITY  \\\n",
       "0                       0                       0                        0   \n",
       "1                       0                       0                        0   \n",
       "2                       0                       0                        0   \n",
       "3                       0                       0                        0   \n",
       "4                       0                       1                        1   \n",
       "\n",
       "   EXT_SOURCE_2  EXT_SOURCE_3  OBS_30_CNT_SOCIAL_CIRCLE  \\\n",
       "0      0.262949      0.139376                       2.0   \n",
       "1      0.622246      0.535276                       1.0   \n",
       "2      0.555912      0.729567                       0.0   \n",
       "3      0.650442      0.535276                       2.0   \n",
       "4      0.322738      0.535276                       0.0   \n",
       "\n",
       "   DEF_30_CNT_SOCIAL_CIRCLE  OBS_60_CNT_SOCIAL_CIRCLE  \\\n",
       "0                       2.0                       2.0   \n",
       "1                       0.0                       1.0   \n",
       "2                       0.0                       0.0   \n",
       "3                       0.0                       2.0   \n",
       "4                       0.0                       0.0   \n",
       "\n",
       "   DEF_60_CNT_SOCIAL_CIRCLE  DAYS_LAST_PHONE_CHANGE  FLAG_DOCUMENT_2  \\\n",
       "0                       2.0                 -1134.0                0   \n",
       "1                       0.0                  -828.0                0   \n",
       "2                       0.0                  -815.0                0   \n",
       "3                       0.0                  -617.0                0   \n",
       "4                       0.0                 -1106.0                0   \n",
       "\n",
       "   FLAG_DOCUMENT_3  FLAG_DOCUMENT_4  FLAG_DOCUMENT_5  FLAG_DOCUMENT_6  \\\n",
       "0                1                0                0                0   \n",
       "1                1                0                0                0   \n",
       "2                0                0                0                0   \n",
       "3                1                0                0                0   \n",
       "4                0                0                0                0   \n",
       "\n",
       "   FLAG_DOCUMENT_7  FLAG_DOCUMENT_8  FLAG_DOCUMENT_9  FLAG_DOCUMENT_10  \\\n",
       "0                0                0                0                 0   \n",
       "1                0                0                0                 0   \n",
       "2                0                0                0                 0   \n",
       "3                0                0                0                 0   \n",
       "4                0                1                0                 0   \n",
       "\n",
       "   FLAG_DOCUMENT_11  FLAG_DOCUMENT_12  FLAG_DOCUMENT_13  FLAG_DOCUMENT_14  \\\n",
       "0                 0                 0                 0                 0   \n",
       "1                 0                 0                 0                 0   \n",
       "2                 0                 0                 0                 0   \n",
       "3                 0                 0                 0                 0   \n",
       "4                 0                 0                 0                 0   \n",
       "\n",
       "   FLAG_DOCUMENT_15  FLAG_DOCUMENT_16  FLAG_DOCUMENT_17  FLAG_DOCUMENT_18  \\\n",
       "0                 0                 0                 0                 0   \n",
       "1                 0                 0                 0                 0   \n",
       "2                 0                 0                 0                 0   \n",
       "3                 0                 0                 0                 0   \n",
       "4                 0                 0                 0                 0   \n",
       "\n",
       "   FLAG_DOCUMENT_19  FLAG_DOCUMENT_20  FLAG_DOCUMENT_21  \\\n",
       "0                 0                 0                 0   \n",
       "1                 0                 0                 0   \n",
       "2                 0                 0                 0   \n",
       "3                 0                 0                 0   \n",
       "4                 0                 0                 0   \n",
       "\n",
       "   AMT_REQ_CREDIT_BUREAU_HOUR  AMT_REQ_CREDIT_BUREAU_DAY  \\\n",
       "0                         0.0                        0.0   \n",
       "1                         0.0                        0.0   \n",
       "2                         0.0                        0.0   \n",
       "3                         0.0                        0.0   \n",
       "4                         0.0                        0.0   \n",
       "\n",
       "   AMT_REQ_CREDIT_BUREAU_WEEK  AMT_REQ_CREDIT_BUREAU_MON  \\\n",
       "0                         0.0                        0.0   \n",
       "1                         0.0                        0.0   \n",
       "2                         0.0                        0.0   \n",
       "3                         0.0                        0.0   \n",
       "4                         0.0                        0.0   \n",
       "\n",
       "   AMT_REQ_CREDIT_BUREAU_QRT  AMT_REQ_CREDIT_BUREAU_YEAR  \n",
       "0                        0.0                         1.0  \n",
       "1                        0.0                         0.0  \n",
       "2                        0.0                         0.0  \n",
       "3                        0.0                         1.0  \n",
       "4                        0.0                         0.0  "
      ]
     },
     "execution_count": 90,
     "metadata": {},
     "output_type": "execute_result"
    }
   ],
   "source": [
    "client_appl[numer].head()"
   ]
  },
  {
   "cell_type": "code",
   "execution_count": 91,
   "id": "86e0ecda",
   "metadata": {},
   "outputs": [],
   "source": [
    "# All the days column are having negative values so converting into positive\n",
    "client_appl[[\"DAYS_BIRTH\",\"DAYS_EMPLOYED\",\"DAYS_REGISTRATION\",\"DAYS_ID_PUBLISH\",\"DAYS_LAST_PHONE_CHANGE\"]]=client_appl[[\"DAYS_BIRTH\",\"DAYS_EMPLOYED\",\"DAYS_REGISTRATION\",\"DAYS_ID_PUBLISH\",\"DAYS_LAST_PHONE_CHANGE\"]].apply(lambda x: abs(x))"
   ]
  },
  {
   "cell_type": "code",
   "execution_count": 92,
   "id": "fc18bb17",
   "metadata": {},
   "outputs": [
    {
     "data": {
      "text/html": [
       "<div>\n",
       "<style scoped>\n",
       "    .dataframe tbody tr th:only-of-type {\n",
       "        vertical-align: middle;\n",
       "    }\n",
       "\n",
       "    .dataframe tbody tr th {\n",
       "        vertical-align: top;\n",
       "    }\n",
       "\n",
       "    .dataframe thead th {\n",
       "        text-align: right;\n",
       "    }\n",
       "</style>\n",
       "<table border=\"1\" class=\"dataframe\">\n",
       "  <thead>\n",
       "    <tr style=\"text-align: right;\">\n",
       "      <th></th>\n",
       "      <th>DAYS_BIRTH</th>\n",
       "      <th>DAYS_EMPLOYED</th>\n",
       "      <th>DAYS_REGISTRATION</th>\n",
       "      <th>DAYS_ID_PUBLISH</th>\n",
       "      <th>DAYS_LAST_PHONE_CHANGE</th>\n",
       "    </tr>\n",
       "  </thead>\n",
       "  <tbody>\n",
       "    <tr>\n",
       "      <th>0</th>\n",
       "      <td>9461</td>\n",
       "      <td>637</td>\n",
       "      <td>3648.0</td>\n",
       "      <td>2120</td>\n",
       "      <td>1134.0</td>\n",
       "    </tr>\n",
       "    <tr>\n",
       "      <th>1</th>\n",
       "      <td>16765</td>\n",
       "      <td>1188</td>\n",
       "      <td>1186.0</td>\n",
       "      <td>291</td>\n",
       "      <td>828.0</td>\n",
       "    </tr>\n",
       "    <tr>\n",
       "      <th>2</th>\n",
       "      <td>19046</td>\n",
       "      <td>225</td>\n",
       "      <td>4260.0</td>\n",
       "      <td>2531</td>\n",
       "      <td>815.0</td>\n",
       "    </tr>\n",
       "    <tr>\n",
       "      <th>3</th>\n",
       "      <td>19005</td>\n",
       "      <td>3039</td>\n",
       "      <td>9833.0</td>\n",
       "      <td>2437</td>\n",
       "      <td>617.0</td>\n",
       "    </tr>\n",
       "    <tr>\n",
       "      <th>4</th>\n",
       "      <td>19932</td>\n",
       "      <td>3038</td>\n",
       "      <td>4311.0</td>\n",
       "      <td>3458</td>\n",
       "      <td>1106.0</td>\n",
       "    </tr>\n",
       "  </tbody>\n",
       "</table>\n",
       "</div>"
      ],
      "text/plain": [
       "   DAYS_BIRTH  DAYS_EMPLOYED  DAYS_REGISTRATION  DAYS_ID_PUBLISH  \\\n",
       "0        9461            637             3648.0             2120   \n",
       "1       16765           1188             1186.0              291   \n",
       "2       19046            225             4260.0             2531   \n",
       "3       19005           3039             9833.0             2437   \n",
       "4       19932           3038             4311.0             3458   \n",
       "\n",
       "   DAYS_LAST_PHONE_CHANGE  \n",
       "0                  1134.0  \n",
       "1                   828.0  \n",
       "2                   815.0  \n",
       "3                   617.0  \n",
       "4                  1106.0  "
      ]
     },
     "execution_count": 92,
     "metadata": {},
     "output_type": "execute_result"
    }
   ],
   "source": [
    "client_appl[[\"DAYS_BIRTH\",\"DAYS_EMPLOYED\",\"DAYS_REGISTRATION\",\"DAYS_ID_PUBLISH\",\"DAYS_LAST_PHONE_CHANGE\"]].head()"
   ]
  },
  {
   "cell_type": "code",
   "execution_count": 93,
   "id": "57a38aa9",
   "metadata": {},
   "outputs": [],
   "source": [
    "# days_registeration and last_phone_change having dtype float so converting to int\n",
    "client_appl[\"DAYS_REGISTRATION\"] = client_appl[\"DAYS_REGISTRATION\"].astype(\"int64\")"
   ]
  },
  {
   "cell_type": "code",
   "execution_count": 94,
   "id": "37a2c176",
   "metadata": {},
   "outputs": [
    {
     "data": {
      "text/plain": [
       "dtype('int64')"
      ]
     },
     "execution_count": 94,
     "metadata": {},
     "output_type": "execute_result"
    }
   ],
   "source": [
    "client_appl[\"DAYS_REGISTRATION\"].dtype"
   ]
  },
  {
   "cell_type": "code",
   "execution_count": 95,
   "id": "764ccfd7",
   "metadata": {},
   "outputs": [],
   "source": [
    "client_appl[\"DAYS_LAST_PHONE_CHANGE\"] = client_appl[\"DAYS_LAST_PHONE_CHANGE\"].astype(\"int64\")"
   ]
  },
  {
   "cell_type": "code",
   "execution_count": 96,
   "id": "b42f94cb",
   "metadata": {},
   "outputs": [
    {
     "data": {
      "text/plain": [
       "dtype('int64')"
      ]
     },
     "execution_count": 96,
     "metadata": {},
     "output_type": "execute_result"
    }
   ],
   "source": [
    "client_appl[\"DAYS_LAST_PHONE_CHANGE\"].dtype"
   ]
  },
  {
   "cell_type": "code",
   "execution_count": 97,
   "id": "d6d67c4e",
   "metadata": {},
   "outputs": [],
   "source": [
    "# As the days of birth is in days so converting it to years\n",
    "client_appl[\"DAYS_BIRTH\"] = client_appl[\"DAYS_BIRTH\"].apply(lambda x:int(x/365))"
   ]
  },
  {
   "cell_type": "code",
   "execution_count": 98,
   "id": "18407a07",
   "metadata": {},
   "outputs": [
    {
     "data": {
      "text/plain": [
       "69"
      ]
     },
     "execution_count": 98,
     "metadata": {},
     "output_type": "execute_result"
    }
   ],
   "source": [
    "client_appl[\"DAYS_BIRTH\"].max()"
   ]
  },
  {
   "cell_type": "code",
   "execution_count": 99,
   "id": "0ddde1c2",
   "metadata": {},
   "outputs": [],
   "source": [
    "# Making the new column as age group and bining the values of it in 5 groups\n",
    "client_appl[\"Age_group\"] = pd.cut(client_appl[\"DAYS_BIRTH\"],\n",
    "                                 bins=[0,20,30,40,50,70],\n",
    "                                 labels=[\"<20\",\"20-30\",\"30-40\",\"40-50\",\"60>\"])"
   ]
  },
  {
   "cell_type": "code",
   "execution_count": 100,
   "id": "e016f2e8",
   "metadata": {
    "scrolled": true
   },
   "outputs": [
    {
     "data": {
      "text/plain": [
       "0    20-30\n",
       "1    40-50\n",
       "2      60>\n",
       "3      60>\n",
       "4      60>\n",
       "Name: Age_group, dtype: category\n",
       "Categories (5, object): ['<20' < '20-30' < '30-40' < '40-50' < '60>']"
      ]
     },
     "execution_count": 100,
     "metadata": {},
     "output_type": "execute_result"
    }
   ],
   "source": [
    "client_appl[\"Age_group\"].head()"
   ]
  },
  {
   "cell_type": "code",
   "execution_count": 101,
   "id": "e5b3ef54",
   "metadata": {},
   "outputs": [
    {
     "data": {
      "text/plain": [
       "0     215371\n",
       "1      61119\n",
       "2      26749\n",
       "3       3717\n",
       "4        429\n",
       "5         84\n",
       "6         21\n",
       "7          7\n",
       "14         3\n",
       "8          2\n",
       "9          2\n",
       "12         2\n",
       "10         2\n",
       "19         2\n",
       "11         1\n",
       "Name: CNT_CHILDREN, dtype: int64"
      ]
     },
     "execution_count": 101,
     "metadata": {},
     "output_type": "execute_result"
    }
   ],
   "source": [
    "client_appl[\"CNT_CHILDREN\"].value_counts()"
   ]
  },
  {
   "cell_type": "markdown",
   "id": "7de61d92",
   "metadata": {},
   "source": [
    "**Detecting Outliers** "
   ]
  },
  {
   "cell_type": "code",
   "execution_count": 102,
   "id": "907bdd5f",
   "metadata": {},
   "outputs": [
    {
     "data": {
      "text/plain": [
       "<AxesSubplot:xlabel='CNT_CHILDREN'>"
      ]
     },
     "execution_count": 102,
     "metadata": {},
     "output_type": "execute_result"
    },
    {
     "data": {
      "image/png": "[encoded data removed]",
      "text/plain": [
       "<Figure size 432x288 with 1 Axes>"
      ]
     },
     "metadata": {
      "needs_background": "light"
     },
     "output_type": "display_data"
    }
   ],
   "source": [
    "# for count of children column\n",
    "sns.boxplot(client_appl['CNT_CHILDREN'])\n",
    "# there are outliers in this column"
   ]
  },
  {
   "cell_type": "code",
   "execution_count": 103,
   "id": "3ed4c669",
   "metadata": {
    "scrolled": true
   },
   "outputs": [
    {
     "data": {
      "text/plain": [
       "<AxesSubplot:xlabel='AMT_INCOME_TOTAL'>"
      ]
     },
     "execution_count": 103,
     "metadata": {},
     "output_type": "execute_result"
    },
    {
     "data": {
      "image/png": "[encoded data removed]",
      "text/plain": [
       "<Figure size 432x288 with 1 Axes>"
      ]
     },
     "metadata": {
      "needs_background": "light"
     },
     "output_type": "display_data"
    }
   ],
   "source": [
    "# for amount income total column\n",
    "sns.boxplot(client_appl['AMT_INCOME_TOTAL'])\n",
    "# there are outliers in this column"
   ]
  },
  {
   "cell_type": "code",
   "execution_count": 104,
   "id": "cb9da831",
   "metadata": {},
   "outputs": [
    {
     "data": {
      "text/plain": [
       "<AxesSubplot:xlabel='AMT_CREDIT'>"
      ]
     },
     "execution_count": 104,
     "metadata": {},
     "output_type": "execute_result"
    },
    {
     "data": {
      "image/png": "[encoded data removed]",
      "text/plain": [
       "<Figure size 432x288 with 1 Axes>"
      ]
     },
     "metadata": {
      "needs_background": "light"
     },
     "output_type": "display_data"
    }
   ],
   "source": [
    "# for amount credit column\n",
    "sns.boxplot(client_appl['AMT_CREDIT'])\n",
    "# there are outliers in this column but some are continuos"
   ]
  },
  {
   "cell_type": "code",
   "execution_count": 105,
   "id": "857f5931",
   "metadata": {},
   "outputs": [
    {
     "data": {
      "text/plain": [
       "<AxesSubplot:xlabel='AMT_ANNUITY'>"
      ]
     },
     "execution_count": 105,
     "metadata": {},
     "output_type": "execute_result"
    },
    {
     "data": {
      "image/png": "[encoded data removed]",
      "text/plain": [
       "<Figure size 432x288 with 1 Axes>"
      ]
     },
     "metadata": {
      "needs_background": "light"
     },
     "output_type": "display_data"
    }
   ],
   "source": [
    "# for amount annuity column\n",
    "sns.boxplot(client_appl['AMT_ANNUITY'])\n",
    "# there are outliers in this column but more of them continuos"
   ]
  },
  {
   "cell_type": "code",
   "execution_count": 106,
   "id": "dad703bd",
   "metadata": {
    "scrolled": true
   },
   "outputs": [
    {
     "data": {
      "text/plain": [
       "<AxesSubplot:xlabel='AMT_GOODS_PRICE'>"
      ]
     },
     "execution_count": 106,
     "metadata": {},
     "output_type": "execute_result"
    },
    {
     "data": {
      "image/png": "[encoded data removed]",
      "text/plain": [
       "<Figure size 432x288 with 1 Axes>"
      ]
     },
     "metadata": {
      "needs_background": "light"
     },
     "output_type": "display_data"
    }
   ],
   "source": [
    "# for amount goods price column\n",
    "sns.boxplot(client_appl['AMT_GOODS_PRICE'])\n",
    "# more as same as amount annuity"
   ]
  },
  {
   "cell_type": "code",
   "execution_count": 107,
   "id": "6c8e7d36",
   "metadata": {
    "scrolled": true
   },
   "outputs": [
    {
     "data": {
      "text/plain": [
       "<AxesSubplot:xlabel='DAYS_BIRTH'>"
      ]
     },
     "execution_count": 107,
     "metadata": {},
     "output_type": "execute_result"
    },
    {
     "data": {
      "image/png": "[encoded data removed]",
      "text/plain": [
       "<Figure size 432x288 with 1 Axes>"
      ]
     },
     "metadata": {
      "needs_background": "light"
     },
     "output_type": "display_data"
    }
   ],
   "source": [
    "# for days birth column\n",
    "sns.boxplot(client_appl['DAYS_BIRTH'])\n",
    "# there are no outliers in this column"
   ]
  },
  {
   "cell_type": "code",
   "execution_count": 108,
   "id": "fa4b70e7",
   "metadata": {},
   "outputs": [
    {
     "data": {
      "text/plain": [
       "<AxesSubplot:xlabel='CNT_FAM_MEMBERS'>"
      ]
     },
     "execution_count": 108,
     "metadata": {},
     "output_type": "execute_result"
    },
    {
     "data": {
      "image/png": "[encoded data removed]",
      "text/plain": [
       "<Figure size 432x288 with 1 Axes>"
      ]
     },
     "metadata": {
      "needs_background": "light"
     },
     "output_type": "display_data"
    }
   ],
   "source": [
    "# for count of family memebers column\n",
    "sns.boxplot(client_appl['CNT_FAM_MEMBERS'])\n",
    "# there are outliers in this column just as count of children"
   ]
  },
  {
   "cell_type": "markdown",
   "id": "4ddaa502",
   "metadata": {},
   "source": [
    "**Check for data imbalance**\n",
    "- As the analysis depends upon Target column\n",
    "- It has values of 0 and 1 \n",
    "- 0 means the client has no payment difficulties\n",
    "- 1 means client has payment difficulty"
   ]
  },
  {
   "cell_type": "code",
   "execution_count": 109,
   "id": "5797bf03",
   "metadata": {},
   "outputs": [
    {
     "data": {
      "text/plain": [
       "array([1, 0], dtype=int64)"
      ]
     },
     "execution_count": 109,
     "metadata": {},
     "output_type": "execute_result"
    }
   ],
   "source": [
    "client_appl[\"TARGET\"].unique()"
   ]
  },
  {
   "cell_type": "code",
   "execution_count": 110,
   "id": "ef1bab6f",
   "metadata": {},
   "outputs": [],
   "source": [
    "# making the 2 variables with one is having values as 0 and other is having 1\n",
    "appl_p0 = client_appl[client_appl[\"TARGET\"]==0]\n",
    "appl_p1 = client_appl[client_appl[\"TARGET\"]==1]"
   ]
  },
  {
   "cell_type": "code",
   "execution_count": 111,
   "id": "f7b4bb3c",
   "metadata": {},
   "outputs": [
    {
     "data": {
      "text/plain": [
       "11.387150050352467"
      ]
     },
     "execution_count": 111,
     "metadata": {},
     "output_type": "execute_result"
    }
   ],
   "source": [
    "Data_imbalance = appl_p0.shape[0]/appl_p1.shape[0]\n",
    "Data_imbalance"
   ]
  },
  {
   "cell_type": "code",
   "execution_count": 112,
   "id": "c4d86654",
   "metadata": {},
   "outputs": [
    {
     "data": {
      "image/png": "[encoded data removed]",
      "text/plain": [
       "<Figure size 432x288 with 1 Axes>"
      ]
     },
     "metadata": {},
     "output_type": "display_data"
    }
   ],
   "source": [
    "# plotting the pie chart for data imbalance\n",
    "plt.pie([appl_p0.shape[0],appl_p1.shape[0]], labels=[\"Non-defaulters\",\"Defaulters\"])\n",
    "plt.show()\n",
    "# this is showing data is highly imbalance"
   ]
  },
  {
   "cell_type": "markdown",
   "id": "128e5c5d",
   "metadata": {},
   "source": [
    "**Univariate Analysis for Categorical columns**"
   ]
  },
  {
   "cell_type": "code",
   "execution_count": 113,
   "id": "590c0697",
   "metadata": {},
   "outputs": [],
   "source": [
    "# defining function for plotting the graph\n",
    "def UA(var):\n",
    "    A = appl_p1[var].value_counts()\n",
    "    sns.barplot(x = A.index, y=A.values)\n",
    "    plt.xticks(rotation=90)\n",
    "    plt.title(\"Payment difficulties\\n\", fontdict={'fontsize':16,'color':'Blue'}  )\n",
    "    plt.xlabel(var,fontdict={'fontsize':10,'color':'Magenta'})\n",
    "    plt.ylabel('Count',fontdict={'fontsize':10,'color':'Magenta'})\n",
    "    plt.show()"
   ]
  },
  {
   "cell_type": "code",
   "execution_count": 114,
   "id": "6c4de2ea",
   "metadata": {},
   "outputs": [
    {
     "data": {
      "text/plain": [
       "['NAME_CONTRACT_TYPE',\n",
       " 'CODE_GENDER',\n",
       " 'FLAG_OWN_CAR',\n",
       " 'FLAG_OWN_REALTY',\n",
       " 'NAME_TYPE_SUITE',\n",
       " 'NAME_INCOME_TYPE',\n",
       " 'NAME_EDUCATION_TYPE',\n",
       " 'NAME_FAMILY_STATUS',\n",
       " 'NAME_HOUSING_TYPE',\n",
       " 'OCCUPATION_TYPE',\n",
       " 'WEEKDAY_APPR_PROCESS_START',\n",
       " 'ORGANIZATION_TYPE']"
      ]
     },
     "execution_count": 114,
     "metadata": {},
     "output_type": "execute_result"
    }
   ],
   "source": [
    "categ"
   ]
  },
  {
   "cell_type": "code",
   "execution_count": 115,
   "id": "f73694f6",
   "metadata": {},
   "outputs": [
    {
     "data": {
      "image/png": "[encoded data removed]",
      "text/plain": [
       "<Figure size 432x288 with 1 Axes>"
      ]
     },
     "metadata": {
      "needs_background": "light"
     },
     "output_type": "display_data"
    }
   ],
   "source": [
    "UA('NAME_CONTRACT_TYPE')\n",
    "# applicants having cash loans are having high payment difficulties"
   ]
  },
  {
   "cell_type": "code",
   "execution_count": 116,
   "id": "f14bd990",
   "metadata": {},
   "outputs": [
    {
     "data": {
      "image/png": "[encoded data removed]",
      "text/plain": [
       "<Figure size 432x288 with 1 Axes>"
      ]
     },
     "metadata": {
      "needs_background": "light"
     },
     "output_type": "display_data"
    }
   ],
   "source": [
    "UA('CODE_GENDER')\n",
    "# females are having more payment difficulty than men"
   ]
  },
  {
   "cell_type": "code",
   "execution_count": 117,
   "id": "2ef8a90a",
   "metadata": {},
   "outputs": [
    {
     "data": {
      "image/png": "[encoded data removed]",
      "text/plain": [
       "<Figure size 432x288 with 1 Axes>"
      ]
     },
     "metadata": {
      "needs_background": "light"
     },
     "output_type": "display_data"
    }
   ],
   "source": [
    "UA('FLAG_OWN_CAR')\n",
    "# applicants having no car having more payment difficuty than having car"
   ]
  },
  {
   "cell_type": "code",
   "execution_count": 118,
   "id": "bfefaad8",
   "metadata": {},
   "outputs": [
    {
     "data": {
      "image/png": "[encoded data removed]",
      "text/plain": [
       "<Figure size 432x288 with 1 Axes>"
      ]
     },
     "metadata": {
      "needs_background": "light"
     },
     "output_type": "display_data"
    }
   ],
   "source": [
    "UA('FLAG_OWN_REALTY')\n",
    "# applicants having house or flat having more payment difficulties "
   ]
  },
  {
   "cell_type": "code",
   "execution_count": 119,
   "id": "5be5c949",
   "metadata": {},
   "outputs": [
    {
     "data": {
      "image/png": "[encoded data removed]",
      "text/plain": [
       "<Figure size 432x288 with 1 Axes>"
      ]
     },
     "metadata": {
      "needs_background": "light"
     },
     "output_type": "display_data"
    }
   ],
   "source": [
    "UA('NAME_INCOME_TYPE')\n",
    "# applicants which are working are having more payment difficulty than others"
   ]
  },
  {
   "cell_type": "code",
   "execution_count": 120,
   "id": "8a4b6f5e",
   "metadata": {},
   "outputs": [
    {
     "data": {
      "image/png": "[encoded data removed]",
      "text/plain": [
       "<Figure size 432x288 with 1 Axes>"
      ]
     },
     "metadata": {
      "needs_background": "light"
     },
     "output_type": "display_data"
    }
   ],
   "source": [
    "UA('NAME_EDUCATION_TYPE')\n",
    "# applicants having secondary education are having more payment difficulties\n",
    "# than other category"
   ]
  },
  {
   "cell_type": "code",
   "execution_count": 121,
   "id": "52d05b6c",
   "metadata": {},
   "outputs": [
    {
     "data": {
      "image/png": "[encoded data removed]",
      "text/plain": [
       "<Figure size 432x288 with 1 Axes>"
      ]
     },
     "metadata": {
      "needs_background": "light"
     },
     "output_type": "display_data"
    }
   ],
   "source": [
    "UA('OCCUPATION_TYPE')\n",
    "# customers which are having occupation Unknown and laborers are having\n",
    "# more payment difficulty than others"
   ]
  },
  {
   "cell_type": "markdown",
   "id": "05a64d2f",
   "metadata": {},
   "source": [
    "**Univariate Analysis for numerical columns**"
   ]
  },
  {
   "cell_type": "code",
   "execution_count": 122,
   "id": "7d34c490",
   "metadata": {},
   "outputs": [],
   "source": [
    "# defining functions for plotting the graph\n",
    "# UAH for histogram\n",
    "def UAH(var):\n",
    "    B = appl_p1[var]\n",
    "    sns.histplot(B, kde=True)\n",
    "    plt.title(\"Payment difficulties\\n\", fontdict={'fontsize':16,'color':'Blue'}  )\n",
    "    plt.xlabel(var,fontdict={'fontsize':10,'color':'Magenta'})\n",
    "    plt.show()  "
   ]
  },
  {
   "cell_type": "code",
   "execution_count": 123,
   "id": "d257751b",
   "metadata": {},
   "outputs": [
    {
     "data": {
      "text/plain": [
       "['SK_ID_CURR',\n",
       " 'TARGET',\n",
       " 'CNT_CHILDREN',\n",
       " 'AMT_INCOME_TOTAL',\n",
       " 'AMT_CREDIT',\n",
       " 'AMT_ANNUITY',\n",
       " 'AMT_GOODS_PRICE',\n",
       " 'REGION_POPULATION_RELATIVE',\n",
       " 'DAYS_BIRTH',\n",
       " 'DAYS_EMPLOYED',\n",
       " 'DAYS_REGISTRATION',\n",
       " 'DAYS_ID_PUBLISH',\n",
       " 'FLAG_MOBIL',\n",
       " 'FLAG_EMP_PHONE',\n",
       " 'FLAG_WORK_PHONE',\n",
       " 'FLAG_CONT_MOBILE',\n",
       " 'FLAG_PHONE',\n",
       " 'FLAG_EMAIL',\n",
       " 'CNT_FAM_MEMBERS',\n",
       " 'REGION_RATING_CLIENT',\n",
       " 'REGION_RATING_CLIENT_W_CITY',\n",
       " 'HOUR_APPR_PROCESS_START',\n",
       " 'REG_REGION_NOT_LIVE_REGION',\n",
       " 'REG_REGION_NOT_WORK_REGION',\n",
       " 'LIVE_REGION_NOT_WORK_REGION',\n",
       " 'REG_CITY_NOT_LIVE_CITY',\n",
       " 'REG_CITY_NOT_WORK_CITY',\n",
       " 'LIVE_CITY_NOT_WORK_CITY',\n",
       " 'EXT_SOURCE_2',\n",
       " 'EXT_SOURCE_3',\n",
       " 'OBS_30_CNT_SOCIAL_CIRCLE',\n",
       " 'DEF_30_CNT_SOCIAL_CIRCLE',\n",
       " 'OBS_60_CNT_SOCIAL_CIRCLE',\n",
       " 'DEF_60_CNT_SOCIAL_CIRCLE',\n",
       " 'DAYS_LAST_PHONE_CHANGE',\n",
       " 'FLAG_DOCUMENT_2',\n",
       " 'FLAG_DOCUMENT_3',\n",
       " 'FLAG_DOCUMENT_4',\n",
       " 'FLAG_DOCUMENT_5',\n",
       " 'FLAG_DOCUMENT_6',\n",
       " 'FLAG_DOCUMENT_7',\n",
       " 'FLAG_DOCUMENT_8',\n",
       " 'FLAG_DOCUMENT_9',\n",
       " 'FLAG_DOCUMENT_10',\n",
       " 'FLAG_DOCUMENT_11',\n",
       " 'FLAG_DOCUMENT_12',\n",
       " 'FLAG_DOCUMENT_13',\n",
       " 'FLAG_DOCUMENT_14',\n",
       " 'FLAG_DOCUMENT_15',\n",
       " 'FLAG_DOCUMENT_16',\n",
       " 'FLAG_DOCUMENT_17',\n",
       " 'FLAG_DOCUMENT_18',\n",
       " 'FLAG_DOCUMENT_19',\n",
       " 'FLAG_DOCUMENT_20',\n",
       " 'FLAG_DOCUMENT_21',\n",
       " 'AMT_REQ_CREDIT_BUREAU_HOUR',\n",
       " 'AMT_REQ_CREDIT_BUREAU_DAY',\n",
       " 'AMT_REQ_CREDIT_BUREAU_WEEK',\n",
       " 'AMT_REQ_CREDIT_BUREAU_MON',\n",
       " 'AMT_REQ_CREDIT_BUREAU_QRT',\n",
       " 'AMT_REQ_CREDIT_BUREAU_YEAR']"
      ]
     },
     "execution_count": 123,
     "metadata": {},
     "output_type": "execute_result"
    }
   ],
   "source": [
    "numer"
   ]
  },
  {
   "cell_type": "code",
   "execution_count": 124,
   "id": "1d393b3e",
   "metadata": {},
   "outputs": [
    {
     "data": {
      "image/png": "[encoded data removed]",
      "text/plain": [
       "<Figure size 432x288 with 1 Axes>"
      ]
     },
     "metadata": {
      "needs_background": "light"
     },
     "output_type": "display_data"
    }
   ],
   "source": [
    "UAH(\"CNT_CHILDREN\")\n",
    "# customers hacing no children having more difficulties than having children"
   ]
  },
  {
   "cell_type": "code",
   "execution_count": 125,
   "id": "556a2b6f",
   "metadata": {},
   "outputs": [
    {
     "data": {
      "image/png": "[encoded data removed]",
      "text/plain": [
       "<Figure size 432x288 with 1 Axes>"
      ]
     },
     "metadata": {
      "needs_background": "light"
     },
     "output_type": "display_data"
    }
   ],
   "source": [
    "UAH(\"AMT_INCOME_TOTAL\")\n",
    "# customers having less income having more payment difficulties than having more income"
   ]
  },
  {
   "cell_type": "code",
   "execution_count": 126,
   "id": "b6533dc0",
   "metadata": {},
   "outputs": [
    {
     "data": {
      "image/png": "[encoded data removed]",
      "text/plain": [
       "<Figure size 432x288 with 1 Axes>"
      ]
     },
     "metadata": {
      "needs_background": "light"
     },
     "output_type": "display_data"
    }
   ],
   "source": [
    "UAH(\"AMT_ANNUITY\")\n",
    "# as the rate of amount annuity increases upto 25000 payment difficulty\n",
    "# incraeses after that it decreases"
   ]
  },
  {
   "cell_type": "code",
   "execution_count": 127,
   "id": "98e70d87",
   "metadata": {},
   "outputs": [
    {
     "data": {
      "image/png": "[encoded data removed]",
      "text/plain": [
       "<Figure size 432x288 with 1 Axes>"
      ]
     },
     "metadata": {
      "needs_background": "light"
     },
     "output_type": "display_data"
    }
   ],
   "source": [
    "UAH(\"AMT_GOODS_PRICE\")\n",
    "# this plot showing mixed results in the upper dip of goods price payment\n",
    "# difficulty is more"
   ]
  },
  {
   "cell_type": "code",
   "execution_count": 128,
   "id": "c7be550b",
   "metadata": {},
   "outputs": [
    {
     "data": {
      "image/png": "[encoded data removed]",
      "text/plain": [
       "<Figure size 432x288 with 1 Axes>"
      ]
     },
     "metadata": {
      "needs_background": "light"
     },
     "output_type": "display_data"
    }
   ],
   "source": [
    "UAH(\"AMT_CREDIT\")\n",
    "# in the 20-50% of graph payment difficulty is high"
   ]
  },
  {
   "cell_type": "code",
   "execution_count": 129,
   "id": "4578e097",
   "metadata": {
    "scrolled": true
   },
   "outputs": [
    {
     "data": {
      "image/png": "[encoded data removed]",
      "text/plain": [
       "<Figure size 432x288 with 1 Axes>"
      ]
     },
     "metadata": {
      "needs_background": "light"
     },
     "output_type": "display_data"
    }
   ],
   "source": [
    "UAH(\"DAYS_BIRTH\")\n",
    "# graph is having mixed results"
   ]
  },
  {
   "cell_type": "markdown",
   "id": "084ec197",
   "metadata": {},
   "source": [
    "**Bivariate Aalysis**"
   ]
  },
  {
   "cell_type": "markdown",
   "id": "3eedfeb9",
   "metadata": {},
   "source": [
    "**for categorical vs numerical**\n",
    "- data is having outliers so taking median instead of mean\n",
    "- using bar chart"
   ]
  },
  {
   "cell_type": "code",
   "execution_count": 130,
   "id": "a3236367",
   "metadata": {},
   "outputs": [
    {
     "data": {
      "text/plain": [
       "<AxesSubplot:xlabel='CODE_GENDER'>"
      ]
     },
     "execution_count": 130,
     "metadata": {},
     "output_type": "execute_result"
    },
    {
     "data": {
      "image/png": "[encoded data removed]",
      "text/plain": [
       "<Figure size 432x288 with 1 Axes>"
      ]
     },
     "metadata": {
      "needs_background": "light"
     },
     "output_type": "display_data"
    }
   ],
   "source": [
    "# for CODE_GENDER VS DAYS_BIRTH COLUMN\n",
    "appl_p1.groupby(\"CODE_GENDER\")[\"DAYS_BIRTH\"].median().plot.bar()\n",
    "# females having age more than 40 and men having age more than 37 having \n",
    "# more payment difficulties than other"
   ]
  },
  {
   "cell_type": "code",
   "execution_count": 131,
   "id": "d5c38906",
   "metadata": {},
   "outputs": [
    {
     "data": {
      "text/plain": [
       "<AxesSubplot:xlabel='NAME_EDUCATION_TYPE'>"
      ]
     },
     "execution_count": 131,
     "metadata": {},
     "output_type": "execute_result"
    },
    {
     "data": {
      "image/png": "[encoded data removed]",
      "text/plain": [
       "<Figure size 432x288 with 1 Axes>"
      ]
     },
     "metadata": {
      "needs_background": "light"
     },
     "output_type": "display_data"
    }
   ],
   "source": [
    "# for NAME_EDUCATION_TYPE vs AMT_CREDIT column\n",
    "appl_p1.groupby(\"NAME_EDUCATION_TYPE\")[\"AMT_CREDIT\"].median().plot.bar()\n",
    "# applicants having academic degree and having income more than 700000\n",
    "# more payment difficulties than other type of educations"
   ]
  },
  {
   "cell_type": "code",
   "execution_count": 132,
   "id": "cc95353f",
   "metadata": {},
   "outputs": [
    {
     "data": {
      "image/png": "[encoded data removed]",
      "text/plain": [
       "<Figure size 432x288 with 1 Axes>"
      ]
     },
     "metadata": {
      "needs_background": "light"
     },
     "output_type": "display_data"
    },
    {
     "data": {
      "text/plain": [
       "<Figure size 1080x432 with 0 Axes>"
      ]
     },
     "metadata": {},
     "output_type": "display_data"
    }
   ],
   "source": [
    "# for ORGANISATION_TYPE vs AMT_ANNUITY column\n",
    "appl_p1.groupby(\"ORGANIZATION_TYPE\")[\"AMT_ANNUITY\"].median().plot.bar()\n",
    "plt.figure(figsize=[15,6])\n",
    "plt.show()\n",
    "# showing mixed type results"
   ]
  },
  {
   "cell_type": "code",
   "execution_count": 133,
   "id": "1d3b6ee3",
   "metadata": {},
   "outputs": [
    {
     "data": {
      "text/plain": [
       "<AxesSubplot:xlabel='NAME_INCOME_TYPE'>"
      ]
     },
     "execution_count": 133,
     "metadata": {},
     "output_type": "execute_result"
    },
    {
     "data": {
      "image/png": "[encoded data removed]",
      "text/plain": [
       "<Figure size 432x288 with 1 Axes>"
      ]
     },
     "metadata": {
      "needs_background": "light"
     },
     "output_type": "display_data"
    }
   ],
   "source": [
    "# for ORGANISATION_TYPE vs AMT_ANNUITY column\n",
    "appl_p1.groupby(\"NAME_INCOME_TYPE\")[\"AMT_INCOME_TOTAL\"].median().plot.bar()\n",
    "# commercial associate and state servant having income more than 140000\n",
    "# are having more payment difficulties and maternity leave and unemployed \n",
    "# having low income having less difficulties"
   ]
  },
  {
   "cell_type": "markdown",
   "id": "912062db",
   "metadata": {},
   "source": [
    "**Numerical vs Numerical**\n",
    "- using scatter plots"
   ]
  },
  {
   "cell_type": "code",
   "execution_count": 134,
   "id": "6c69cefb",
   "metadata": {},
   "outputs": [
    {
     "data": {
      "image/png": "[encoded data removed]",
      "text/plain": [
       "<Figure size 432x288 with 1 Axes>"
      ]
     },
     "metadata": {
      "needs_background": "light"
     },
     "output_type": "display_data"
    }
   ],
   "source": [
    "# for AMT_INCOME_TOTAL vs AMT_CREDIT column\n",
    "plt.scatter(data = appl_p1, x=\"AMT_INCOME_TOTAL\", y=\"AMT_CREDIT\")\n",
    "plt.title(\"AMT_INCOME_TOTAL vs AMT_CREDIT\\n\" )\n",
    "plt.xlabel(\"AMT_INCOME_TOTAL\")\n",
    "plt.ylabel(\"AMT_CREDIT\")\n",
    "plt.show()\n",
    "# the income total having outliers so all the applicants having income\n",
    "# less than 200000 are facing payment issues and some of them having\n",
    "# amount credit is high"
   ]
  },
  {
   "cell_type": "code",
   "execution_count": 135,
   "id": "814f32dc",
   "metadata": {},
   "outputs": [
    {
     "data": {
      "image/png": "[encoded data removed]",
      "text/plain": [
       "<Figure size 432x288 with 1 Axes>"
      ]
     },
     "metadata": {
      "needs_background": "light"
     },
     "output_type": "display_data"
    }
   ],
   "source": [
    "# for AMT_CREDIT vs AMT_ANNUITY column\n",
    "plt.scatter(data = appl_p1, x=\"AMT_CREDIT\", y=\"AMT_ANNUITY\")\n",
    "plt.title(\"AMT_CREDIT vs AMT_ANNUITY \\n\" )\n",
    "plt.xlabel(\"AMT_CREDIT\")\n",
    "plt.ylabel(\"AMT_ANNUITY\")\n",
    "plt.show()\n",
    "# all the applicants is scattered between amount annuity upto 80000 and \n",
    "# amount credit less than 20000"
   ]
  },
  {
   "cell_type": "code",
   "execution_count": 136,
   "id": "bbfee9c5",
   "metadata": {},
   "outputs": [
    {
     "data": {
      "image/png": "[encoded data removed]",
      "text/plain": [
       "<Figure size 432x288 with 1 Axes>"
      ]
     },
     "metadata": {
      "needs_background": "light"
     },
     "output_type": "display_data"
    }
   ],
   "source": [
    "# for DAYS_BIRTH VS AMT_GOODS_PRICE\n",
    "plt.scatter(data = appl_p1, x=\"DAYS_BIRTH\", y=\"AMT_GOODS_PRICE\")\n",
    "plt.title(\"DAYS_BIRTH vs AMT_GOODS_PRICE \\n\" )\n",
    "plt.xlabel(\"DAYS_BIRTH\")\n",
    "plt.ylabel(\"AMT_GOODS_PRICE\")\n",
    "plt.show()\n",
    "# the maximum data of payment difficulties is spread between all ages\n",
    "# they are given goods price to bank upto 200000"
   ]
  },
  {
   "cell_type": "markdown",
   "id": "178b2e9b",
   "metadata": {},
   "source": [
    "**Heatmap**"
   ]
  },
  {
   "cell_type": "code",
   "execution_count": 137,
   "id": "940d305a",
   "metadata": {},
   "outputs": [],
   "source": [
    "# all the important columns \n",
    "col =['CNT_FAM_MEMBERS','AMT_INCOME_TOTAL','AMT_CREDIT','AMT_ANNUITY','DAYS_BIRTH','DAYS_EMPLOYED','AMT_GOODS_PRICE']"
   ]
  },
  {
   "cell_type": "code",
   "execution_count": 138,
   "id": "564a55f5",
   "metadata": {},
   "outputs": [
    {
     "data": {
      "image/png": "[encoded data removed]",
      "text/plain": [
       "<Figure size 1080x576 with 2 Axes>"
      ]
     },
     "metadata": {
      "needs_background": "light"
     },
     "output_type": "display_data"
    }
   ],
   "source": [
    "# plotting heatmap of correlation of the col values\n",
    "plt.figure(figsize=[15,8])\n",
    "sns.heatmap(appl_p1[col].corr(), cmap='Greens', annot=True)\n",
    "plt.show()\n",
    "# there is a high correlation between AMT_CREDIT & AMT_GOODS_PRICE,\n",
    "# and also AMT_ANNUITY & AMT_GOODS_PRICE"
   ]
  },
  {
   "cell_type": "markdown",
   "id": "98c2798a",
   "metadata": {},
   "source": [
    "### For previous_application"
   ]
  },
  {
   "cell_type": "code",
   "execution_count": 139,
   "id": "bff9ab13",
   "metadata": {},
   "outputs": [
    {
     "data": {
      "text/html": [
       "<div>\n",
       "<style scoped>\n",
       "    .dataframe tbody tr th:only-of-type {\n",
       "        vertical-align: middle;\n",
       "    }\n",
       "\n",
       "    .dataframe tbody tr th {\n",
       "        vertical-align: top;\n",
       "    }\n",
       "\n",
       "    .dataframe thead th {\n",
       "        text-align: right;\n",
       "    }\n",
       "</style>\n",
       "<table border=\"1\" class=\"dataframe\">\n",
       "  <thead>\n",
       "    <tr style=\"text-align: right;\">\n",
       "      <th></th>\n",
       "      <th>SK_ID_PREV</th>\n",
       "      <th>SK_ID_CURR</th>\n",
       "      <th>NAME_CONTRACT_TYPE</th>\n",
       "      <th>AMT_ANNUITY</th>\n",
       "      <th>AMT_APPLICATION</th>\n",
       "      <th>AMT_CREDIT</th>\n",
       "      <th>AMT_DOWN_PAYMENT</th>\n",
       "      <th>AMT_GOODS_PRICE</th>\n",
       "      <th>WEEKDAY_APPR_PROCESS_START</th>\n",
       "      <th>HOUR_APPR_PROCESS_START</th>\n",
       "      <th>FLAG_LAST_APPL_PER_CONTRACT</th>\n",
       "      <th>NFLAG_LAST_APPL_IN_DAY</th>\n",
       "      <th>RATE_DOWN_PAYMENT</th>\n",
       "      <th>RATE_INTEREST_PRIMARY</th>\n",
       "      <th>RATE_INTEREST_PRIVILEGED</th>\n",
       "      <th>NAME_CASH_LOAN_PURPOSE</th>\n",
       "      <th>NAME_CONTRACT_STATUS</th>\n",
       "      <th>DAYS_DECISION</th>\n",
       "      <th>NAME_PAYMENT_TYPE</th>\n",
       "      <th>CODE_REJECT_REASON</th>\n",
       "      <th>NAME_TYPE_SUITE</th>\n",
       "      <th>NAME_CLIENT_TYPE</th>\n",
       "      <th>NAME_GOODS_CATEGORY</th>\n",
       "      <th>NAME_PORTFOLIO</th>\n",
       "      <th>NAME_PRODUCT_TYPE</th>\n",
       "      <th>CHANNEL_TYPE</th>\n",
       "      <th>SELLERPLACE_AREA</th>\n",
       "      <th>NAME_SELLER_INDUSTRY</th>\n",
       "      <th>CNT_PAYMENT</th>\n",
       "      <th>NAME_YIELD_GROUP</th>\n",
       "      <th>PRODUCT_COMBINATION</th>\n",
       "      <th>DAYS_FIRST_DRAWING</th>\n",
       "      <th>DAYS_FIRST_DUE</th>\n",
       "      <th>DAYS_LAST_DUE_1ST_VERSION</th>\n",
       "      <th>DAYS_LAST_DUE</th>\n",
       "      <th>DAYS_TERMINATION</th>\n",
       "      <th>NFLAG_INSURED_ON_APPROVAL</th>\n",
       "    </tr>\n",
       "  </thead>\n",
       "  <tbody>\n",
       "    <tr>\n",
       "      <th>0</th>\n",
       "      <td>2030495</td>\n",
       "      <td>271877</td>\n",
       "      <td>Consumer loans</td>\n",
       "      <td>1730.430</td>\n",
       "      <td>17145.0</td>\n",
       "      <td>17145.0</td>\n",
       "      <td>0.0</td>\n",
       "      <td>17145.0</td>\n",
       "      <td>SATURDAY</td>\n",
       "      <td>15</td>\n",
       "      <td>Y</td>\n",
       "      <td>1</td>\n",
       "      <td>0.0</td>\n",
       "      <td>0.182832</td>\n",
       "      <td>0.867336</td>\n",
       "      <td>XAP</td>\n",
       "      <td>Approved</td>\n",
       "      <td>-73</td>\n",
       "      <td>Cash through the bank</td>\n",
       "      <td>XAP</td>\n",
       "      <td>NaN</td>\n",
       "      <td>Repeater</td>\n",
       "      <td>Mobile</td>\n",
       "      <td>POS</td>\n",
       "      <td>XNA</td>\n",
       "      <td>Country-wide</td>\n",
       "      <td>35</td>\n",
       "      <td>Connectivity</td>\n",
       "      <td>12.0</td>\n",
       "      <td>middle</td>\n",
       "      <td>POS mobile with interest</td>\n",
       "      <td>365243.0</td>\n",
       "      <td>-42.0</td>\n",
       "      <td>300.0</td>\n",
       "      <td>-42.0</td>\n",
       "      <td>-37.0</td>\n",
       "      <td>0.0</td>\n",
       "    </tr>\n",
       "    <tr>\n",
       "      <th>1</th>\n",
       "      <td>2802425</td>\n",
       "      <td>108129</td>\n",
       "      <td>Cash loans</td>\n",
       "      <td>25188.615</td>\n",
       "      <td>607500.0</td>\n",
       "      <td>679671.0</td>\n",
       "      <td>NaN</td>\n",
       "      <td>607500.0</td>\n",
       "      <td>THURSDAY</td>\n",
       "      <td>11</td>\n",
       "      <td>Y</td>\n",
       "      <td>1</td>\n",
       "      <td>NaN</td>\n",
       "      <td>NaN</td>\n",
       "      <td>NaN</td>\n",
       "      <td>XNA</td>\n",
       "      <td>Approved</td>\n",
       "      <td>-164</td>\n",
       "      <td>XNA</td>\n",
       "      <td>XAP</td>\n",
       "      <td>Unaccompanied</td>\n",
       "      <td>Repeater</td>\n",
       "      <td>XNA</td>\n",
       "      <td>Cash</td>\n",
       "      <td>x-sell</td>\n",
       "      <td>Contact center</td>\n",
       "      <td>-1</td>\n",
       "      <td>XNA</td>\n",
       "      <td>36.0</td>\n",
       "      <td>low_action</td>\n",
       "      <td>Cash X-Sell: low</td>\n",
       "      <td>365243.0</td>\n",
       "      <td>-134.0</td>\n",
       "      <td>916.0</td>\n",
       "      <td>365243.0</td>\n",
       "      <td>365243.0</td>\n",
       "      <td>1.0</td>\n",
       "    </tr>\n",
       "    <tr>\n",
       "      <th>2</th>\n",
       "      <td>2523466</td>\n",
       "      <td>122040</td>\n",
       "      <td>Cash loans</td>\n",
       "      <td>15060.735</td>\n",
       "      <td>112500.0</td>\n",
       "      <td>136444.5</td>\n",
       "      <td>NaN</td>\n",
       "      <td>112500.0</td>\n",
       "      <td>TUESDAY</td>\n",
       "      <td>11</td>\n",
       "      <td>Y</td>\n",
       "      <td>1</td>\n",
       "      <td>NaN</td>\n",
       "      <td>NaN</td>\n",
       "      <td>NaN</td>\n",
       "      <td>XNA</td>\n",
       "      <td>Approved</td>\n",
       "      <td>-301</td>\n",
       "      <td>Cash through the bank</td>\n",
       "      <td>XAP</td>\n",
       "      <td>Spouse, partner</td>\n",
       "      <td>Repeater</td>\n",
       "      <td>XNA</td>\n",
       "      <td>Cash</td>\n",
       "      <td>x-sell</td>\n",
       "      <td>Credit and cash offices</td>\n",
       "      <td>-1</td>\n",
       "      <td>XNA</td>\n",
       "      <td>12.0</td>\n",
       "      <td>high</td>\n",
       "      <td>Cash X-Sell: high</td>\n",
       "      <td>365243.0</td>\n",
       "      <td>-271.0</td>\n",
       "      <td>59.0</td>\n",
       "      <td>365243.0</td>\n",
       "      <td>365243.0</td>\n",
       "      <td>1.0</td>\n",
       "    </tr>\n",
       "    <tr>\n",
       "      <th>3</th>\n",
       "      <td>2819243</td>\n",
       "      <td>176158</td>\n",
       "      <td>Cash loans</td>\n",
       "      <td>47041.335</td>\n",
       "      <td>450000.0</td>\n",
       "      <td>470790.0</td>\n",
       "      <td>NaN</td>\n",
       "      <td>450000.0</td>\n",
       "      <td>MONDAY</td>\n",
       "      <td>7</td>\n",
       "      <td>Y</td>\n",
       "      <td>1</td>\n",
       "      <td>NaN</td>\n",
       "      <td>NaN</td>\n",
       "      <td>NaN</td>\n",
       "      <td>XNA</td>\n",
       "      <td>Approved</td>\n",
       "      <td>-512</td>\n",
       "      <td>Cash through the bank</td>\n",
       "      <td>XAP</td>\n",
       "      <td>NaN</td>\n",
       "      <td>Repeater</td>\n",
       "      <td>XNA</td>\n",
       "      <td>Cash</td>\n",
       "      <td>x-sell</td>\n",
       "      <td>Credit and cash offices</td>\n",
       "      <td>-1</td>\n",
       "      <td>XNA</td>\n",
       "      <td>12.0</td>\n",
       "      <td>middle</td>\n",
       "      <td>Cash X-Sell: middle</td>\n",
       "      <td>365243.0</td>\n",
       "      <td>-482.0</td>\n",
       "      <td>-152.0</td>\n",
       "      <td>-182.0</td>\n",
       "      <td>-177.0</td>\n",
       "      <td>1.0</td>\n",
       "    </tr>\n",
       "    <tr>\n",
       "      <th>4</th>\n",
       "      <td>1784265</td>\n",
       "      <td>202054</td>\n",
       "      <td>Cash loans</td>\n",
       "      <td>31924.395</td>\n",
       "      <td>337500.0</td>\n",
       "      <td>404055.0</td>\n",
       "      <td>NaN</td>\n",
       "      <td>337500.0</td>\n",
       "      <td>THURSDAY</td>\n",
       "      <td>9</td>\n",
       "      <td>Y</td>\n",
       "      <td>1</td>\n",
       "      <td>NaN</td>\n",
       "      <td>NaN</td>\n",
       "      <td>NaN</td>\n",
       "      <td>Repairs</td>\n",
       "      <td>Refused</td>\n",
       "      <td>-781</td>\n",
       "      <td>Cash through the bank</td>\n",
       "      <td>HC</td>\n",
       "      <td>NaN</td>\n",
       "      <td>Repeater</td>\n",
       "      <td>XNA</td>\n",
       "      <td>Cash</td>\n",
       "      <td>walk-in</td>\n",
       "      <td>Credit and cash offices</td>\n",
       "      <td>-1</td>\n",
       "      <td>XNA</td>\n",
       "      <td>24.0</td>\n",
       "      <td>high</td>\n",
       "      <td>Cash Street: high</td>\n",
       "      <td>NaN</td>\n",
       "      <td>NaN</td>\n",
       "      <td>NaN</td>\n",
       "      <td>NaN</td>\n",
       "      <td>NaN</td>\n",
       "      <td>NaN</td>\n",
       "    </tr>\n",
       "  </tbody>\n",
       "</table>\n",
       "</div>"
      ],
      "text/plain": [
       "   SK_ID_PREV  SK_ID_CURR NAME_CONTRACT_TYPE  AMT_ANNUITY  AMT_APPLICATION  \\\n",
       "0     2030495      271877     Consumer loans     1730.430          17145.0   \n",
       "1     2802425      108129         Cash loans    25188.615         607500.0   \n",
       "2     2523466      122040         Cash loans    15060.735         112500.0   \n",
       "3     2819243      176158         Cash loans    47041.335         450000.0   \n",
       "4     1784265      202054         Cash loans    31924.395         337500.0   \n",
       "\n",
       "   AMT_CREDIT  AMT_DOWN_PAYMENT  AMT_GOODS_PRICE WEEKDAY_APPR_PROCESS_START  \\\n",
       "0     17145.0               0.0          17145.0                   SATURDAY   \n",
       "1    679671.0               NaN         607500.0                   THURSDAY   \n",
       "2    136444.5               NaN         112500.0                    TUESDAY   \n",
       "3    470790.0               NaN         450000.0                     MONDAY   \n",
       "4    404055.0               NaN         337500.0                   THURSDAY   \n",
       "\n",
       "   HOUR_APPR_PROCESS_START FLAG_LAST_APPL_PER_CONTRACT  \\\n",
       "0                       15                           Y   \n",
       "1                       11                           Y   \n",
       "2                       11                           Y   \n",
       "3                        7                           Y   \n",
       "4                        9                           Y   \n",
       "\n",
       "   NFLAG_LAST_APPL_IN_DAY  RATE_DOWN_PAYMENT  RATE_INTEREST_PRIMARY  \\\n",
       "0                       1                0.0               0.182832   \n",
       "1                       1                NaN                    NaN   \n",
       "2                       1                NaN                    NaN   \n",
       "3                       1                NaN                    NaN   \n",
       "4                       1                NaN                    NaN   \n",
       "\n",
       "   RATE_INTEREST_PRIVILEGED NAME_CASH_LOAN_PURPOSE NAME_CONTRACT_STATUS  \\\n",
       "0                  0.867336                    XAP             Approved   \n",
       "1                       NaN                    XNA             Approved   \n",
       "2                       NaN                    XNA             Approved   \n",
       "3                       NaN                    XNA             Approved   \n",
       "4                       NaN                Repairs              Refused   \n",
       "\n",
       "   DAYS_DECISION      NAME_PAYMENT_TYPE CODE_REJECT_REASON  NAME_TYPE_SUITE  \\\n",
       "0            -73  Cash through the bank                XAP              NaN   \n",
       "1           -164                    XNA                XAP    Unaccompanied   \n",
       "2           -301  Cash through the bank                XAP  Spouse, partner   \n",
       "3           -512  Cash through the bank                XAP              NaN   \n",
       "4           -781  Cash through the bank                 HC              NaN   \n",
       "\n",
       "  NAME_CLIENT_TYPE NAME_GOODS_CATEGORY NAME_PORTFOLIO NAME_PRODUCT_TYPE  \\\n",
       "0         Repeater              Mobile            POS               XNA   \n",
       "1         Repeater                 XNA           Cash            x-sell   \n",
       "2         Repeater                 XNA           Cash            x-sell   \n",
       "3         Repeater                 XNA           Cash            x-sell   \n",
       "4         Repeater                 XNA           Cash           walk-in   \n",
       "\n",
       "              CHANNEL_TYPE  SELLERPLACE_AREA NAME_SELLER_INDUSTRY  \\\n",
       "0             Country-wide                35         Connectivity   \n",
       "1           Contact center                -1                  XNA   \n",
       "2  Credit and cash offices                -1                  XNA   \n",
       "3  Credit and cash offices                -1                  XNA   \n",
       "4  Credit and cash offices                -1                  XNA   \n",
       "\n",
       "   CNT_PAYMENT NAME_YIELD_GROUP       PRODUCT_COMBINATION  DAYS_FIRST_DRAWING  \\\n",
       "0         12.0           middle  POS mobile with interest            365243.0   \n",
       "1         36.0       low_action          Cash X-Sell: low            365243.0   \n",
       "2         12.0             high         Cash X-Sell: high            365243.0   \n",
       "3         12.0           middle       Cash X-Sell: middle            365243.0   \n",
       "4         24.0             high         Cash Street: high                 NaN   \n",
       "\n",
       "   DAYS_FIRST_DUE  DAYS_LAST_DUE_1ST_VERSION  DAYS_LAST_DUE  DAYS_TERMINATION  \\\n",
       "0           -42.0                      300.0          -42.0             -37.0   \n",
       "1          -134.0                      916.0       365243.0          365243.0   \n",
       "2          -271.0                       59.0       365243.0          365243.0   \n",
       "3          -482.0                     -152.0         -182.0            -177.0   \n",
       "4             NaN                        NaN            NaN               NaN   \n",
       "\n",
       "   NFLAG_INSURED_ON_APPROVAL  \n",
       "0                        0.0  \n",
       "1                        1.0  \n",
       "2                        1.0  \n",
       "3                        1.0  \n",
       "4                        NaN  "
      ]
     },
     "execution_count": 139,
     "metadata": {},
     "output_type": "execute_result"
    }
   ],
   "source": [
    "prev_loan.head()"
   ]
  },
  {
   "cell_type": "code",
   "execution_count": 140,
   "id": "0e5b1af1",
   "metadata": {},
   "outputs": [
    {
     "name": "stdout",
     "output_type": "stream",
     "text": [
      "<class 'pandas.core.frame.DataFrame'>\n",
      "RangeIndex: 1670214 entries, 0 to 1670213\n",
      "Data columns (total 37 columns):\n",
      " #   Column                       Non-Null Count    Dtype  \n",
      "---  ------                       --------------    -----  \n",
      " 0   SK_ID_PREV                   1670214 non-null  int64  \n",
      " 1   SK_ID_CURR                   1670214 non-null  int64  \n",
      " 2   NAME_CONTRACT_TYPE           1670214 non-null  object \n",
      " 3   AMT_ANNUITY                  1297979 non-null  float64\n",
      " 4   AMT_APPLICATION              1670214 non-null  float64\n",
      " 5   AMT_CREDIT                   1670213 non-null  float64\n",
      " 6   AMT_DOWN_PAYMENT             774370 non-null   float64\n",
      " 7   AMT_GOODS_PRICE              1284699 non-null  float64\n",
      " 8   WEEKDAY_APPR_PROCESS_START   1670214 non-null  object \n",
      " 9   HOUR_APPR_PROCESS_START      1670214 non-null  int64  \n",
      " 10  FLAG_LAST_APPL_PER_CONTRACT  1670214 non-null  object \n",
      " 11  NFLAG_LAST_APPL_IN_DAY       1670214 non-null  int64  \n",
      " 12  RATE_DOWN_PAYMENT            774370 non-null   float64\n",
      " 13  RATE_INTEREST_PRIMARY        5951 non-null     float64\n",
      " 14  RATE_INTEREST_PRIVILEGED     5951 non-null     float64\n",
      " 15  NAME_CASH_LOAN_PURPOSE       1670214 non-null  object \n",
      " 16  NAME_CONTRACT_STATUS         1670214 non-null  object \n",
      " 17  DAYS_DECISION                1670214 non-null  int64  \n",
      " 18  NAME_PAYMENT_TYPE            1670214 non-null  object \n",
      " 19  CODE_REJECT_REASON           1670214 non-null  object \n",
      " 20  NAME_TYPE_SUITE              849809 non-null   object \n",
      " 21  NAME_CLIENT_TYPE             1670214 non-null  object \n",
      " 22  NAME_GOODS_CATEGORY          1670214 non-null  object \n",
      " 23  NAME_PORTFOLIO               1670214 non-null  object \n",
      " 24  NAME_PRODUCT_TYPE            1670214 non-null  object \n",
      " 25  CHANNEL_TYPE                 1670214 non-null  object \n",
      " 26  SELLERPLACE_AREA             1670214 non-null  int64  \n",
      " 27  NAME_SELLER_INDUSTRY         1670214 non-null  object \n",
      " 28  CNT_PAYMENT                  1297984 non-null  float64\n",
      " 29  NAME_YIELD_GROUP             1670214 non-null  object \n",
      " 30  PRODUCT_COMBINATION          1669868 non-null  object \n",
      " 31  DAYS_FIRST_DRAWING           997149 non-null   float64\n",
      " 32  DAYS_FIRST_DUE               997149 non-null   float64\n",
      " 33  DAYS_LAST_DUE_1ST_VERSION    997149 non-null   float64\n",
      " 34  DAYS_LAST_DUE                997149 non-null   float64\n",
      " 35  DAYS_TERMINATION             997149 non-null   float64\n",
      " 36  NFLAG_INSURED_ON_APPROVAL    997149 non-null   float64\n",
      "dtypes: float64(15), int64(6), object(16)\n",
      "memory usage: 471.5+ MB\n"
     ]
    }
   ],
   "source": [
    "prev_loan.info() # 37 columns and 1670214 rows"
   ]
  },
  {
   "cell_type": "markdown",
   "id": "35ec0beb",
   "metadata": {},
   "source": [
    "**Data Cleaning**"
   ]
  },
  {
   "cell_type": "code",
   "execution_count": 141,
   "id": "9ea41e1f",
   "metadata": {},
   "outputs": [],
   "source": [
    "# % of null values\n",
    "null_v = pd.DataFrame(100*prev_loan.isna().mean())"
   ]
  },
  {
   "cell_type": "code",
   "execution_count": 142,
   "id": "faa59753",
   "metadata": {},
   "outputs": [
    {
     "data": {
      "text/html": [
       "<div>\n",
       "<style scoped>\n",
       "    .dataframe tbody tr th:only-of-type {\n",
       "        vertical-align: middle;\n",
       "    }\n",
       "\n",
       "    .dataframe tbody tr th {\n",
       "        vertical-align: top;\n",
       "    }\n",
       "\n",
       "    .dataframe thead th {\n",
       "        text-align: right;\n",
       "    }\n",
       "</style>\n",
       "<table border=\"1\" class=\"dataframe\">\n",
       "  <thead>\n",
       "    <tr style=\"text-align: right;\">\n",
       "      <th></th>\n",
       "      <th>0</th>\n",
       "    </tr>\n",
       "  </thead>\n",
       "  <tbody>\n",
       "    <tr>\n",
       "      <th>RATE_INTEREST_PRIVILEGED</th>\n",
       "      <td>99.643698</td>\n",
       "    </tr>\n",
       "    <tr>\n",
       "      <th>RATE_INTEREST_PRIMARY</th>\n",
       "      <td>99.643698</td>\n",
       "    </tr>\n",
       "    <tr>\n",
       "      <th>AMT_DOWN_PAYMENT</th>\n",
       "      <td>53.636480</td>\n",
       "    </tr>\n",
       "    <tr>\n",
       "      <th>RATE_DOWN_PAYMENT</th>\n",
       "      <td>53.636480</td>\n",
       "    </tr>\n",
       "    <tr>\n",
       "      <th>NAME_TYPE_SUITE</th>\n",
       "      <td>49.119754</td>\n",
       "    </tr>\n",
       "    <tr>\n",
       "      <th>NFLAG_INSURED_ON_APPROVAL</th>\n",
       "      <td>40.298129</td>\n",
       "    </tr>\n",
       "    <tr>\n",
       "      <th>DAYS_TERMINATION</th>\n",
       "      <td>40.298129</td>\n",
       "    </tr>\n",
       "    <tr>\n",
       "      <th>DAYS_LAST_DUE</th>\n",
       "      <td>40.298129</td>\n",
       "    </tr>\n",
       "    <tr>\n",
       "      <th>DAYS_LAST_DUE_1ST_VERSION</th>\n",
       "      <td>40.298129</td>\n",
       "    </tr>\n",
       "    <tr>\n",
       "      <th>DAYS_FIRST_DUE</th>\n",
       "      <td>40.298129</td>\n",
       "    </tr>\n",
       "    <tr>\n",
       "      <th>DAYS_FIRST_DRAWING</th>\n",
       "      <td>40.298129</td>\n",
       "    </tr>\n",
       "    <tr>\n",
       "      <th>AMT_GOODS_PRICE</th>\n",
       "      <td>23.081773</td>\n",
       "    </tr>\n",
       "    <tr>\n",
       "      <th>AMT_ANNUITY</th>\n",
       "      <td>22.286665</td>\n",
       "    </tr>\n",
       "    <tr>\n",
       "      <th>CNT_PAYMENT</th>\n",
       "      <td>22.286366</td>\n",
       "    </tr>\n",
       "    <tr>\n",
       "      <th>PRODUCT_COMBINATION</th>\n",
       "      <td>0.020716</td>\n",
       "    </tr>\n",
       "    <tr>\n",
       "      <th>AMT_CREDIT</th>\n",
       "      <td>0.000060</td>\n",
       "    </tr>\n",
       "    <tr>\n",
       "      <th>NAME_YIELD_GROUP</th>\n",
       "      <td>0.000000</td>\n",
       "    </tr>\n",
       "    <tr>\n",
       "      <th>NAME_PORTFOLIO</th>\n",
       "      <td>0.000000</td>\n",
       "    </tr>\n",
       "    <tr>\n",
       "      <th>NAME_SELLER_INDUSTRY</th>\n",
       "      <td>0.000000</td>\n",
       "    </tr>\n",
       "    <tr>\n",
       "      <th>SELLERPLACE_AREA</th>\n",
       "      <td>0.000000</td>\n",
       "    </tr>\n",
       "    <tr>\n",
       "      <th>CHANNEL_TYPE</th>\n",
       "      <td>0.000000</td>\n",
       "    </tr>\n",
       "    <tr>\n",
       "      <th>NAME_PRODUCT_TYPE</th>\n",
       "      <td>0.000000</td>\n",
       "    </tr>\n",
       "    <tr>\n",
       "      <th>SK_ID_PREV</th>\n",
       "      <td>0.000000</td>\n",
       "    </tr>\n",
       "    <tr>\n",
       "      <th>NAME_GOODS_CATEGORY</th>\n",
       "      <td>0.000000</td>\n",
       "    </tr>\n",
       "    <tr>\n",
       "      <th>NAME_CLIENT_TYPE</th>\n",
       "      <td>0.000000</td>\n",
       "    </tr>\n",
       "    <tr>\n",
       "      <th>CODE_REJECT_REASON</th>\n",
       "      <td>0.000000</td>\n",
       "    </tr>\n",
       "    <tr>\n",
       "      <th>SK_ID_CURR</th>\n",
       "      <td>0.000000</td>\n",
       "    </tr>\n",
       "    <tr>\n",
       "      <th>DAYS_DECISION</th>\n",
       "      <td>0.000000</td>\n",
       "    </tr>\n",
       "    <tr>\n",
       "      <th>NAME_CONTRACT_STATUS</th>\n",
       "      <td>0.000000</td>\n",
       "    </tr>\n",
       "    <tr>\n",
       "      <th>NAME_CASH_LOAN_PURPOSE</th>\n",
       "      <td>0.000000</td>\n",
       "    </tr>\n",
       "    <tr>\n",
       "      <th>NFLAG_LAST_APPL_IN_DAY</th>\n",
       "      <td>0.000000</td>\n",
       "    </tr>\n",
       "    <tr>\n",
       "      <th>FLAG_LAST_APPL_PER_CONTRACT</th>\n",
       "      <td>0.000000</td>\n",
       "    </tr>\n",
       "    <tr>\n",
       "      <th>HOUR_APPR_PROCESS_START</th>\n",
       "      <td>0.000000</td>\n",
       "    </tr>\n",
       "    <tr>\n",
       "      <th>WEEKDAY_APPR_PROCESS_START</th>\n",
       "      <td>0.000000</td>\n",
       "    </tr>\n",
       "    <tr>\n",
       "      <th>AMT_APPLICATION</th>\n",
       "      <td>0.000000</td>\n",
       "    </tr>\n",
       "    <tr>\n",
       "      <th>NAME_CONTRACT_TYPE</th>\n",
       "      <td>0.000000</td>\n",
       "    </tr>\n",
       "    <tr>\n",
       "      <th>NAME_PAYMENT_TYPE</th>\n",
       "      <td>0.000000</td>\n",
       "    </tr>\n",
       "  </tbody>\n",
       "</table>\n",
       "</div>"
      ],
      "text/plain": [
       "                                     0\n",
       "RATE_INTEREST_PRIVILEGED     99.643698\n",
       "RATE_INTEREST_PRIMARY        99.643698\n",
       "AMT_DOWN_PAYMENT             53.636480\n",
       "RATE_DOWN_PAYMENT            53.636480\n",
       "NAME_TYPE_SUITE              49.119754\n",
       "NFLAG_INSURED_ON_APPROVAL    40.298129\n",
       "DAYS_TERMINATION             40.298129\n",
       "DAYS_LAST_DUE                40.298129\n",
       "DAYS_LAST_DUE_1ST_VERSION    40.298129\n",
       "DAYS_FIRST_DUE               40.298129\n",
       "DAYS_FIRST_DRAWING           40.298129\n",
       "AMT_GOODS_PRICE              23.081773\n",
       "AMT_ANNUITY                  22.286665\n",
       "CNT_PAYMENT                  22.286366\n",
       "PRODUCT_COMBINATION           0.020716\n",
       "AMT_CREDIT                    0.000060\n",
       "NAME_YIELD_GROUP              0.000000\n",
       "NAME_PORTFOLIO                0.000000\n",
       "NAME_SELLER_INDUSTRY          0.000000\n",
       "SELLERPLACE_AREA              0.000000\n",
       "CHANNEL_TYPE                  0.000000\n",
       "NAME_PRODUCT_TYPE             0.000000\n",
       "SK_ID_PREV                    0.000000\n",
       "NAME_GOODS_CATEGORY           0.000000\n",
       "NAME_CLIENT_TYPE              0.000000\n",
       "CODE_REJECT_REASON            0.000000\n",
       "SK_ID_CURR                    0.000000\n",
       "DAYS_DECISION                 0.000000\n",
       "NAME_CONTRACT_STATUS          0.000000\n",
       "NAME_CASH_LOAN_PURPOSE        0.000000\n",
       "NFLAG_LAST_APPL_IN_DAY        0.000000\n",
       "FLAG_LAST_APPL_PER_CONTRACT   0.000000\n",
       "HOUR_APPR_PROCESS_START       0.000000\n",
       "WEEKDAY_APPR_PROCESS_START    0.000000\n",
       "AMT_APPLICATION               0.000000\n",
       "NAME_CONTRACT_TYPE            0.000000\n",
       "NAME_PAYMENT_TYPE             0.000000"
      ]
     },
     "execution_count": 142,
     "metadata": {},
     "output_type": "execute_result"
    }
   ],
   "source": [
    "null_v.sort_values(0, ascending=False)"
   ]
  },
  {
   "cell_type": "code",
   "execution_count": 143,
   "id": "e580c535",
   "metadata": {},
   "outputs": [
    {
     "data": {
      "text/html": [
       "<div>\n",
       "<style scoped>\n",
       "    .dataframe tbody tr th:only-of-type {\n",
       "        vertical-align: middle;\n",
       "    }\n",
       "\n",
       "    .dataframe tbody tr th {\n",
       "        vertical-align: top;\n",
       "    }\n",
       "\n",
       "    .dataframe thead th {\n",
       "        text-align: right;\n",
       "    }\n",
       "</style>\n",
       "<table border=\"1\" class=\"dataframe\">\n",
       "  <thead>\n",
       "    <tr style=\"text-align: right;\">\n",
       "      <th></th>\n",
       "      <th>0</th>\n",
       "    </tr>\n",
       "  </thead>\n",
       "  <tbody>\n",
       "    <tr>\n",
       "      <th>SK_ID_PREV</th>\n",
       "      <td>0.000000</td>\n",
       "    </tr>\n",
       "    <tr>\n",
       "      <th>SK_ID_CURR</th>\n",
       "      <td>0.000000</td>\n",
       "    </tr>\n",
       "    <tr>\n",
       "      <th>NAME_CONTRACT_TYPE</th>\n",
       "      <td>0.000000</td>\n",
       "    </tr>\n",
       "    <tr>\n",
       "      <th>AMT_ANNUITY</th>\n",
       "      <td>22.286665</td>\n",
       "    </tr>\n",
       "    <tr>\n",
       "      <th>AMT_APPLICATION</th>\n",
       "      <td>0.000000</td>\n",
       "    </tr>\n",
       "  </tbody>\n",
       "</table>\n",
       "</div>"
      ],
      "text/plain": [
       "                            0\n",
       "SK_ID_PREV           0.000000\n",
       "SK_ID_CURR           0.000000\n",
       "NAME_CONTRACT_TYPE   0.000000\n",
       "AMT_ANNUITY         22.286665\n",
       "AMT_APPLICATION      0.000000"
      ]
     },
     "execution_count": 143,
     "metadata": {},
     "output_type": "execute_result"
    }
   ],
   "source": [
    "# dropping the columns which have missing data more than 40%\n",
    "null_v.head()"
   ]
  },
  {
   "cell_type": "code",
   "execution_count": 144,
   "id": "425bc411",
   "metadata": {
    "scrolled": true
   },
   "outputs": [],
   "source": [
    "null_v.reset_index(inplace=True)"
   ]
  },
  {
   "cell_type": "code",
   "execution_count": 145,
   "id": "9493913b",
   "metadata": {},
   "outputs": [],
   "source": [
    "max_n = null_v[null_v[0]>40][\"index\"]"
   ]
  },
  {
   "cell_type": "code",
   "execution_count": 146,
   "id": "d7bb8374",
   "metadata": {},
   "outputs": [],
   "source": [
    "max_n1 = list(max_n)"
   ]
  },
  {
   "cell_type": "code",
   "execution_count": 147,
   "id": "a5eb11e8",
   "metadata": {},
   "outputs": [
    {
     "data": {
      "text/plain": [
       "['AMT_DOWN_PAYMENT',\n",
       " 'RATE_DOWN_PAYMENT',\n",
       " 'RATE_INTEREST_PRIMARY',\n",
       " 'RATE_INTEREST_PRIVILEGED',\n",
       " 'NAME_TYPE_SUITE',\n",
       " 'DAYS_FIRST_DRAWING',\n",
       " 'DAYS_FIRST_DUE',\n",
       " 'DAYS_LAST_DUE_1ST_VERSION',\n",
       " 'DAYS_LAST_DUE',\n",
       " 'DAYS_TERMINATION',\n",
       " 'NFLAG_INSURED_ON_APPROVAL']"
      ]
     },
     "execution_count": 147,
     "metadata": {},
     "output_type": "execute_result"
    }
   ],
   "source": [
    "max_n1"
   ]
  },
  {
   "cell_type": "code",
   "execution_count": 148,
   "id": "aa30ddb6",
   "metadata": {},
   "outputs": [],
   "source": [
    "prev_loan.drop(max_n1, axis=1, inplace=True)"
   ]
  },
  {
   "cell_type": "code",
   "execution_count": 149,
   "id": "719306f2",
   "metadata": {},
   "outputs": [
    {
     "data": {
      "text/plain": [
       "(1670214, 26)"
      ]
     },
     "execution_count": 149,
     "metadata": {},
     "output_type": "execute_result"
    }
   ],
   "source": [
    "prev_loan.shape"
   ]
  },
  {
   "cell_type": "code",
   "execution_count": 150,
   "id": "c2dec940",
   "metadata": {},
   "outputs": [
    {
     "data": {
      "text/html": [
       "<div>\n",
       "<style scoped>\n",
       "    .dataframe tbody tr th:only-of-type {\n",
       "        vertical-align: middle;\n",
       "    }\n",
       "\n",
       "    .dataframe tbody tr th {\n",
       "        vertical-align: top;\n",
       "    }\n",
       "\n",
       "    .dataframe thead th {\n",
       "        text-align: right;\n",
       "    }\n",
       "</style>\n",
       "<table border=\"1\" class=\"dataframe\">\n",
       "  <thead>\n",
       "    <tr style=\"text-align: right;\">\n",
       "      <th></th>\n",
       "      <th>index</th>\n",
       "      <th>0</th>\n",
       "    </tr>\n",
       "  </thead>\n",
       "  <tbody>\n",
       "    <tr>\n",
       "      <th>3</th>\n",
       "      <td>AMT_ANNUITY</td>\n",
       "      <td>22.286665</td>\n",
       "    </tr>\n",
       "    <tr>\n",
       "      <th>5</th>\n",
       "      <td>AMT_CREDIT</td>\n",
       "      <td>0.000060</td>\n",
       "    </tr>\n",
       "    <tr>\n",
       "      <th>7</th>\n",
       "      <td>AMT_GOODS_PRICE</td>\n",
       "      <td>23.081773</td>\n",
       "    </tr>\n",
       "    <tr>\n",
       "      <th>28</th>\n",
       "      <td>CNT_PAYMENT</td>\n",
       "      <td>22.286366</td>\n",
       "    </tr>\n",
       "    <tr>\n",
       "      <th>30</th>\n",
       "      <td>PRODUCT_COMBINATION</td>\n",
       "      <td>0.020716</td>\n",
       "    </tr>\n",
       "  </tbody>\n",
       "</table>\n",
       "</div>"
      ],
      "text/plain": [
       "                  index          0\n",
       "3           AMT_ANNUITY  22.286665\n",
       "5            AMT_CREDIT   0.000060\n",
       "7       AMT_GOODS_PRICE  23.081773\n",
       "28          CNT_PAYMENT  22.286366\n",
       "30  PRODUCT_COMBINATION   0.020716"
      ]
     },
     "execution_count": 150,
     "metadata": {},
     "output_type": "execute_result"
    }
   ],
   "source": [
    "# remaining missing data treatment\n",
    "null_v[(null_v[0]>0) & (null_v[0]<40)]"
   ]
  },
  {
   "cell_type": "code",
   "execution_count": 151,
   "id": "27803c00",
   "metadata": {},
   "outputs": [],
   "source": [
    "rem_n = null_v[(null_v[0]>0) & (null_v[0]<40)]"
   ]
  },
  {
   "cell_type": "code",
   "execution_count": 152,
   "id": "d8b1c42d",
   "metadata": {},
   "outputs": [
    {
     "data": {
      "text/html": [
       "<div>\n",
       "<style scoped>\n",
       "    .dataframe tbody tr th:only-of-type {\n",
       "        vertical-align: middle;\n",
       "    }\n",
       "\n",
       "    .dataframe tbody tr th {\n",
       "        vertical-align: top;\n",
       "    }\n",
       "\n",
       "    .dataframe thead th {\n",
       "        text-align: right;\n",
       "    }\n",
       "</style>\n",
       "<table border=\"1\" class=\"dataframe\">\n",
       "  <thead>\n",
       "    <tr style=\"text-align: right;\">\n",
       "      <th></th>\n",
       "      <th>AMT_ANNUITY</th>\n",
       "      <th>AMT_CREDIT</th>\n",
       "      <th>AMT_GOODS_PRICE</th>\n",
       "      <th>CNT_PAYMENT</th>\n",
       "      <th>PRODUCT_COMBINATION</th>\n",
       "    </tr>\n",
       "  </thead>\n",
       "  <tbody>\n",
       "    <tr>\n",
       "      <th>0</th>\n",
       "      <td>1730.430</td>\n",
       "      <td>17145.0</td>\n",
       "      <td>17145.0</td>\n",
       "      <td>12.0</td>\n",
       "      <td>POS mobile with interest</td>\n",
       "    </tr>\n",
       "    <tr>\n",
       "      <th>1</th>\n",
       "      <td>25188.615</td>\n",
       "      <td>679671.0</td>\n",
       "      <td>607500.0</td>\n",
       "      <td>36.0</td>\n",
       "      <td>Cash X-Sell: low</td>\n",
       "    </tr>\n",
       "    <tr>\n",
       "      <th>2</th>\n",
       "      <td>15060.735</td>\n",
       "      <td>136444.5</td>\n",
       "      <td>112500.0</td>\n",
       "      <td>12.0</td>\n",
       "      <td>Cash X-Sell: high</td>\n",
       "    </tr>\n",
       "    <tr>\n",
       "      <th>3</th>\n",
       "      <td>47041.335</td>\n",
       "      <td>470790.0</td>\n",
       "      <td>450000.0</td>\n",
       "      <td>12.0</td>\n",
       "      <td>Cash X-Sell: middle</td>\n",
       "    </tr>\n",
       "    <tr>\n",
       "      <th>4</th>\n",
       "      <td>31924.395</td>\n",
       "      <td>404055.0</td>\n",
       "      <td>337500.0</td>\n",
       "      <td>24.0</td>\n",
       "      <td>Cash Street: high</td>\n",
       "    </tr>\n",
       "  </tbody>\n",
       "</table>\n",
       "</div>"
      ],
      "text/plain": [
       "   AMT_ANNUITY  AMT_CREDIT  AMT_GOODS_PRICE  CNT_PAYMENT  \\\n",
       "0     1730.430     17145.0          17145.0         12.0   \n",
       "1    25188.615    679671.0         607500.0         36.0   \n",
       "2    15060.735    136444.5         112500.0         12.0   \n",
       "3    47041.335    470790.0         450000.0         12.0   \n",
       "4    31924.395    404055.0         337500.0         24.0   \n",
       "\n",
       "        PRODUCT_COMBINATION  \n",
       "0  POS mobile with interest  \n",
       "1          Cash X-Sell: low  \n",
       "2         Cash X-Sell: high  \n",
       "3       Cash X-Sell: middle  \n",
       "4         Cash Street: high  "
      ]
     },
     "execution_count": 152,
     "metadata": {},
     "output_type": "execute_result"
    }
   ],
   "source": [
    "prev_loan[[\"AMT_ANNUITY\",\"AMT_CREDIT\",\"AMT_GOODS_PRICE\",\"CNT_PAYMENT\",\"PRODUCT_COMBINATION\"]].head()"
   ]
  },
  {
   "cell_type": "code",
   "execution_count": 153,
   "id": "3c62872e",
   "metadata": {
    "scrolled": true
   },
   "outputs": [],
   "source": [
    "# out of them 1 column is object and other ones are numerical\n",
    "# filling the null values of object with mode \n",
    "# filling the null values of numerical column with median"
   ]
  },
  {
   "cell_type": "code",
   "execution_count": 154,
   "id": "423c292b",
   "metadata": {},
   "outputs": [],
   "source": [
    "prev_loan[\"AMT_ANNUITY\"] = prev_loan[\"AMT_ANNUITY\"].fillna(prev_loan[\"AMT_ANNUITY\"].median()) \n",
    "prev_loan[\"AMT_CREDIT\"] = prev_loan[\"AMT_CREDIT\"].fillna(prev_loan[\"AMT_CREDIT\"].median())  \n",
    "prev_loan[\"AMT_GOODS_PRICE\"] = prev_loan[\"AMT_GOODS_PRICE\"].fillna(prev_loan[\"AMT_GOODS_PRICE\"].median())  \n",
    "prev_loan[\"CNT_PAYMENT\"] = prev_loan[\"CNT_PAYMENT\"].fillna(prev_loan[\"CNT_PAYMENT\"].median()) "
   ]
  },
  {
   "cell_type": "code",
   "execution_count": 155,
   "id": "b9a2b52a",
   "metadata": {},
   "outputs": [],
   "source": [
    "prev_loan[\"PRODUCT_COMBINATION\"] = prev_loan[\"PRODUCT_COMBINATION\"].fillna(prev_loan[\"PRODUCT_COMBINATION\"].mode()[0])"
   ]
  },
  {
   "cell_type": "code",
   "execution_count": 156,
   "id": "db6bb7e9",
   "metadata": {},
   "outputs": [
    {
     "data": {
      "text/plain": [
       "SK_ID_PREV                     0\n",
       "SK_ID_CURR                     0\n",
       "NAME_CONTRACT_TYPE             0\n",
       "AMT_ANNUITY                    0\n",
       "AMT_APPLICATION                0\n",
       "AMT_CREDIT                     0\n",
       "AMT_GOODS_PRICE                0\n",
       "WEEKDAY_APPR_PROCESS_START     0\n",
       "HOUR_APPR_PROCESS_START        0\n",
       "FLAG_LAST_APPL_PER_CONTRACT    0\n",
       "NFLAG_LAST_APPL_IN_DAY         0\n",
       "NAME_CASH_LOAN_PURPOSE         0\n",
       "NAME_CONTRACT_STATUS           0\n",
       "DAYS_DECISION                  0\n",
       "NAME_PAYMENT_TYPE              0\n",
       "CODE_REJECT_REASON             0\n",
       "NAME_CLIENT_TYPE               0\n",
       "NAME_GOODS_CATEGORY            0\n",
       "NAME_PORTFOLIO                 0\n",
       "NAME_PRODUCT_TYPE              0\n",
       "CHANNEL_TYPE                   0\n",
       "SELLERPLACE_AREA               0\n",
       "NAME_SELLER_INDUSTRY           0\n",
       "CNT_PAYMENT                    0\n",
       "NAME_YIELD_GROUP               0\n",
       "PRODUCT_COMBINATION            0\n",
       "dtype: int64"
      ]
     },
     "execution_count": 156,
     "metadata": {},
     "output_type": "execute_result"
    }
   ],
   "source": [
    "# all the missing data is imputed so for check\n",
    "prev_loan.isna().sum()"
   ]
  },
  {
   "cell_type": "code",
   "execution_count": 157,
   "id": "d2489656",
   "metadata": {},
   "outputs": [],
   "source": [
    "# making new variable for numerical and object columns\n",
    "categ1 = []\n",
    "numer1 = []\n",
    "for i in prev_loan.columns:\n",
    "    if prev_loan[i].dtype=='object':\n",
    "        categ1.append(i)\n",
    "    else:\n",
    "        numer1.append(i)"
   ]
  },
  {
   "cell_type": "markdown",
   "id": "86873128",
   "metadata": {},
   "source": [
    "**Univariate Analysis**"
   ]
  },
  {
   "cell_type": "markdown",
   "id": "5e5e86f7",
   "metadata": {},
   "source": [
    "**For categorical column**"
   ]
  },
  {
   "cell_type": "code",
   "execution_count": 158,
   "id": "735bb56a",
   "metadata": {},
   "outputs": [],
   "source": [
    "# defining function for plotting the graph\n",
    "def UA1(var):\n",
    "    A = prev_loan[var].value_counts()\n",
    "    sns.barplot(x = A.index, y=A.values)\n",
    "    plt.xticks(rotation=90)\n",
    "    plt.xlabel(var,fontdict={'fontsize':10,'color':'Magenta'})\n",
    "    plt.ylabel('Count',fontdict={'fontsize':10,'color':'Magenta'})\n",
    "    plt.show()"
   ]
  },
  {
   "cell_type": "code",
   "execution_count": 159,
   "id": "501e2e11",
   "metadata": {},
   "outputs": [
    {
     "data": {
      "text/plain": [
       "['NAME_CONTRACT_TYPE',\n",
       " 'WEEKDAY_APPR_PROCESS_START',\n",
       " 'FLAG_LAST_APPL_PER_CONTRACT',\n",
       " 'NAME_CASH_LOAN_PURPOSE',\n",
       " 'NAME_CONTRACT_STATUS',\n",
       " 'NAME_PAYMENT_TYPE',\n",
       " 'CODE_REJECT_REASON',\n",
       " 'NAME_CLIENT_TYPE',\n",
       " 'NAME_GOODS_CATEGORY',\n",
       " 'NAME_PORTFOLIO',\n",
       " 'NAME_PRODUCT_TYPE',\n",
       " 'CHANNEL_TYPE',\n",
       " 'NAME_SELLER_INDUSTRY',\n",
       " 'NAME_YIELD_GROUP',\n",
       " 'PRODUCT_COMBINATION']"
      ]
     },
     "execution_count": 159,
     "metadata": {},
     "output_type": "execute_result"
    }
   ],
   "source": [
    "categ1"
   ]
  },
  {
   "cell_type": "code",
   "execution_count": 160,
   "id": "b9f05d0d",
   "metadata": {},
   "outputs": [
    {
     "data": {
      "image/png": "[encoded data removed]",
      "text/plain": [
       "<Figure size 432x288 with 1 Axes>"
      ]
     },
     "metadata": {
      "needs_background": "light"
     },
     "output_type": "display_data"
    }
   ],
   "source": [
    "# for NAME_CONTRACT_TYPE column\n",
    "UA1(\"NAME_CONTRACT_TYPE\")\n",
    "# maximum of applicants taken cash loans or consumer loan"
   ]
  },
  {
   "cell_type": "code",
   "execution_count": 161,
   "id": "344b84b4",
   "metadata": {},
   "outputs": [
    {
     "data": {
      "image/png": "[encoded data removed]",
      "text/plain": [
       "<Figure size 432x288 with 1 Axes>"
      ]
     },
     "metadata": {
      "needs_background": "light"
     },
     "output_type": "display_data"
    }
   ],
   "source": [
    "# for NAME_CONTRACT_STATUS column\n",
    "UA1(\"NAME_CONTRACT_STATUS\")\n",
    "# maximum of applicants has their loan approved "
   ]
  },
  {
   "cell_type": "code",
   "execution_count": 162,
   "id": "97f1b941",
   "metadata": {},
   "outputs": [
    {
     "data": {
      "image/png": "[encoded data removed]",
      "text/plain": [
       "<Figure size 432x288 with 1 Axes>"
      ]
     },
     "metadata": {
      "needs_background": "light"
     },
     "output_type": "display_data"
    }
   ],
   "source": [
    "# for NAME_PAYMENT_TYPE column\n",
    "UA1(\"NAME_PAYMENT_TYPE\")\n",
    "# maximum applicats taken their loan as cash through the bank"
   ]
  },
  {
   "cell_type": "code",
   "execution_count": 163,
   "id": "b6120e74",
   "metadata": {},
   "outputs": [
    {
     "data": {
      "image/png": "[encoded data removed]",
      "text/plain": [
       "<Figure size 432x288 with 1 Axes>"
      ]
     },
     "metadata": {
      "needs_background": "light"
     },
     "output_type": "display_data"
    }
   ],
   "source": [
    "# for NAME_CLIENT_TYPE column\n",
    "UA1(\"NAME_CLIENT_TYPE\")\n",
    "# the maximum applicats are repeaters"
   ]
  },
  {
   "cell_type": "markdown",
   "id": "af04e85e",
   "metadata": {},
   "source": [
    "**For numerical column**"
   ]
  },
  {
   "cell_type": "code",
   "execution_count": 164,
   "id": "91218fda",
   "metadata": {},
   "outputs": [],
   "source": [
    "# defining functions for plotting the graph\n",
    "# UAH for histogram\n",
    "def UAH1(var):\n",
    "    B = prev_loan[var]\n",
    "    sns.histplot(B, kde=True)\n",
    "    plt.xlabel(var,fontdict={'fontsize':10,'color':'Magenta'})\n",
    "    plt.show() "
   ]
  },
  {
   "cell_type": "code",
   "execution_count": 165,
   "id": "ceaac00e",
   "metadata": {},
   "outputs": [
    {
     "data": {
      "text/plain": [
       "['SK_ID_PREV',\n",
       " 'SK_ID_CURR',\n",
       " 'AMT_ANNUITY',\n",
       " 'AMT_APPLICATION',\n",
       " 'AMT_CREDIT',\n",
       " 'AMT_GOODS_PRICE',\n",
       " 'HOUR_APPR_PROCESS_START',\n",
       " 'NFLAG_LAST_APPL_IN_DAY',\n",
       " 'DAYS_DECISION',\n",
       " 'SELLERPLACE_AREA',\n",
       " 'CNT_PAYMENT']"
      ]
     },
     "execution_count": 165,
     "metadata": {},
     "output_type": "execute_result"
    }
   ],
   "source": [
    "numer1"
   ]
  },
  {
   "cell_type": "code",
   "execution_count": 166,
   "id": "5e02c8fd",
   "metadata": {},
   "outputs": [
    {
     "data": {
      "image/png": "[encoded data removed]",
      "text/plain": [
       "<Figure size 432x288 with 1 Axes>"
      ]
     },
     "metadata": {
      "needs_background": "light"
     },
     "output_type": "display_data"
    }
   ],
   "source": [
    "# for AMT_ANNUITY column\n",
    "UAH1(\"AMT_ANNUITY\")\n",
    "# the maximum of amount annuity lies between 0 to 30000"
   ]
  },
  {
   "cell_type": "code",
   "execution_count": 167,
   "id": "5480acd2",
   "metadata": {},
   "outputs": [
    {
     "data": {
      "image/png": "[encoded data removed]",
      "text/plain": [
       "<Figure size 432x288 with 1 Axes>"
      ]
     },
     "metadata": {
      "needs_background": "light"
     },
     "output_type": "display_data"
    }
   ],
   "source": [
    "# for AMT_CREDIT column\n",
    "UAH1(\"AMT_CREDIT\")\n",
    "# maximum data of amount credit lies between 0 to 100000"
   ]
  },
  {
   "cell_type": "code",
   "execution_count": 168,
   "id": "4779168c",
   "metadata": {},
   "outputs": [
    {
     "data": {
      "image/png": "[encoded data removed]",
      "text/plain": [
       "<Figure size 432x288 with 1 Axes>"
      ]
     },
     "metadata": {
      "needs_background": "light"
     },
     "output_type": "display_data"
    }
   ],
   "source": [
    "# for AMT_GOODS_PRICE column\n",
    "UAH1(\"AMT_GOODS_PRICE\")\n",
    "# same as AMOUNT_CREDIT column"
   ]
  },
  {
   "cell_type": "markdown",
   "id": "bd08a7aa",
   "metadata": {},
   "source": [
    "**Heatmap**"
   ]
  },
  {
   "cell_type": "code",
   "execution_count": 169,
   "id": "07dc6483",
   "metadata": {},
   "outputs": [],
   "source": [
    "# columns for heat map\n",
    "col1=['AMT_ANNUITY','AMT_GOODS_PRICE','AMT_CREDIT','AMT_APPLICATION','CNT_PAYMENT']"
   ]
  },
  {
   "cell_type": "code",
   "execution_count": 170,
   "id": "7bf26184",
   "metadata": {},
   "outputs": [
    {
     "data": {
      "image/png": "[encoded data removed]",
      "text/plain": [
       "<Figure size 1080x576 with 2 Axes>"
      ]
     },
     "metadata": {
      "needs_background": "light"
     },
     "output_type": "display_data"
    }
   ],
   "source": [
    "plt.figure(figsize=[15,8])\n",
    "sns.heatmap(prev_loan[col1].corr(), cmap='Greens', annot=True)\n",
    "plt.show()\n",
    "# only AMT_ANNUITY and CNT_PAYMENT have low correlation \n",
    "# other columns are having high correlation"
   ]
  },
  {
   "cell_type": "markdown",
   "id": "d3411481",
   "metadata": {},
   "source": [
    "### Insights from the application_data"
   ]
  },
  {
   "cell_type": "markdown",
   "id": "639b2bbb",
   "metadata": {},
   "source": [
    " **for target==1(having payment difficulty)**\n",
    "- maximum applicants taken loan as cash loan and minimum have taken revolving loan.\n",
    "- females are more than male\n",
    "- applicants having no car having high payment difficulty than having a car.\n",
    "- applicats having house or flat having high payment difficulty than no house/flat.\n",
    "- applicants having which are working has high payment difficulty and which have academic degree are having no difficulty.\n",
    "- applicants which are labour or unknown has high payment difficulty and which are IT staff are having very less difficulty. \n",
    "- maximum applicants having no children are having more payment difficulty than having children."
   ]
  },
  {
   "cell_type": "markdown",
   "id": "ea94141d",
   "metadata": {},
   "source": [
    "### Insights from previous_application data"
   ]
  },
  {
   "cell_type": "markdown",
   "id": "619a7da7",
   "metadata": {},
   "source": [
    "- maximum of applicants taken cash loans or consumer loan and minimum applicants taken revolving loan.\n",
    "- around 70% of applicants has their loan approved and 30% of applicants have their loan refused or canceled.\n",
    "- maximum applicats taken their loan as cash through the bank and and very minimum have taken cashless.\n",
    "- 80% applicants are repeaters and 20% are refreshed or new.\n",
    "- maximum applicants taken credit less than 100000.\n",
    "- maximum applicants taken annuity less than 30000. "
   ]
  }
 ],
 "metadata": {
  "kernelspec": {
   "display_name": "Python 3 (ipykernel)",
   "language": "python",
   "name": "python3"
  },
  "language_info": {
   "codemirror_mode": {
    "name": "ipython",
    "version": 3
   },
   "file_extension": ".py",
   "mimetype": "text/x-python",
   "name": "python",
   "nbconvert_exporter": "python",
   "pygments_lexer": "ipython3",
   "version": "3.9.7"
  }
 },
 "nbformat": 4,
 "nbformat_minor": 5
}
